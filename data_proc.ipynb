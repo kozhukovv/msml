{
 "cells": [
  {
   "attachments": {},
   "cell_type": "markdown",
   "metadata": {},
   "source": [
    "# Import"
   ]
  },
  {
   "cell_type": "code",
   "execution_count": 44,
   "metadata": {},
   "outputs": [],
   "source": [
    "from pyscopus import Scopus\n",
    "import pandas as pd\n",
    "import numpy as np\n",
    "import httpx\n",
    "import time\n",
    "import json"
   ]
  },
  {
   "cell_type": "code",
   "execution_count": 45,
   "metadata": {},
   "outputs": [],
   "source": [
    "def scopus_paper_date(paper_doi,apikey):\n",
    "    apikey='4b6871c642e0c92c6e34132c53aae2a2' \n",
    "    headers={\n",
    "        \"X-ELS-APIKey\":apikey,\n",
    "        \"Accept\":'application/json'\n",
    "         }\n",
    "    timeout = httpx.Timeout(10.0, connect=60.0)\n",
    "    client = httpx.Client(timeout=timeout,headers=headers)\n",
    "    query=\"&view=FULL\"\n",
    "    url=f\"https://api.elsevier.com/content/article/doi/\"+paper_doi\n",
    "    r=client.get(url)\n",
    "    print(r)\n",
    "    return r"
   ]
  },
  {
   "cell_type": "code",
   "execution_count": 46,
   "metadata": {},
   "outputs": [
    {
     "name": "stdout",
     "output_type": "stream",
     "text": [
      "<Response [200 OK]>\n",
      "\n",
      "                  We report dc resistance measurements on two (TMTSF)2ClO4 samples, both of which undergo a superconducting transition at Tc ≈ 1.0K. Magnetic field induced transitions from the superconducting to the normal state at T<1K show a marked anisotropy both in magnitude of the fields and in breadth of the transition. With the field oriented parallel to the high conductivity axis, the initial slope of the critical magnetic field curve is 35 KOe/K for one sample and 70 KOe/K for the other sample.\n",
      "               \n"
     ]
    }
   ],
   "source": [
    "my_api_key = '4b6871c642e0c92c6e34132c53aae2a2'\n",
    "\n",
    "y = scopus_paper_date('10.1016/0378-4363(81)90893-7',my_api_key)\n",
    "\n",
    "json_acceptable_string = y.text\n",
    "d = json.loads(json_acceptable_string)\n",
    "print(d['full-text-retrieval-response']['coredata']['dc:description'])"
   ]
  }
 ],
 "metadata": {
  "kernelspec": {
   "display_name": "work",
   "language": "python",
   "name": "python3"
  },
  "language_info": {
   "codemirror_mode": {
    "name": "ipython",
    "version": 3
   },
   "file_extension": ".py",
   "mimetype": "text/x-python",
   "name": "python",
   "nbconvert_exporter": "python",
   "pygments_lexer": "ipython3",
   "version": "3.10.10"
  },
  "orig_nbformat": 4
 },
 "nbformat": 4,
 "nbformat_minor": 2
}
