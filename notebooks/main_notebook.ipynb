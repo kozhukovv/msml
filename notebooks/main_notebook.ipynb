{
 "cells": [
  {
   "cell_type": "markdown",
   "metadata": {
    "collapsed": false
   },
   "source": [
    "# 0. Импорт библиотек"
   ]
  },
  {
   "cell_type": "code",
   "execution_count": 16,
   "metadata": {
    "ExecuteTime": {
     "end_time": "2023-10-07T16:53:29.312186Z",
     "start_time": "2023-10-07T16:53:14.115825Z"
    },
    "collapsed": true
   },
   "outputs": [],
   "source": [
    "import pandas as pd\n",
    "\n",
    "from IPython.display import clear_output\n",
    "import time\n",
    "import warnings\n",
    "warnings.filterwarnings(\"ignore\")\n",
    "\n",
    "from pybliometrics.scopus import ScopusSearch # extract data\n",
    "from scidownl import scihub_download # download data\n",
    "#import fitz # pdf to text"
   ]
  },
  {
   "cell_type": "markdown",
   "metadata": {
    "collapsed": false
   },
   "source": [
    "# 1. Парсинг"
   ]
  },
  {
   "cell_type": "markdown",
   "metadata": {
    "collapsed": false
   },
   "source": [
    "## 1.1 Таблица кодовых слов Scopus"
   ]
  },
  {
   "cell_type": "markdown",
   "metadata": {
    "collapsed": false
   },
   "source": [
    "> Источник, в котором можно посмотреть какие ключ слова можно использовать: [ссылка](https://dev.elsevier.com/sc_search_tips.html)\n",
    " \n",
    "> Документация к библиотеке для парсинга Scopus с помощью SciHub: [ссылка](https://pybliometrics.readthedocs.io/en/stable/)"
   ]
  },
  {
   "cell_type": "markdown",
   "metadata": {},
   "source": [
    "\n",
    "***Используемые кодовые слова представлены в таблице ниже***\n",
    "\n",
    "<div align=\"center\">\n",
    "\n",
    "| Кодовое слово | Описание | переменная в коде |\n",
    "|:--------------|:---------|:-----------------:|\n",
    "|**TITLE-ABS-KEY()**|Возвращает статьи с заданной фразой <br/> в ключевых словах, абстракте и заголовке|`KEYS:list`|\n",
    "|**PUBYEAR()**|Возвращает статьи с заданным годом публикации|`PUBYEAR:list`|\n",
    "|**DOCTYPE()**|Возвращает статьи с заданным типом публикации.<br/>Мы будем использовать только *'ar'* – Article|Вшита в метод `get_papers()`|\n",
    "|**SUBJAREA()**|Возвращает статьи с заданной предметной областью.<br/>Мы будем использовать только *'MATE'* – Materials Science|Вшита в метод `get_papers()`|\n",
    "|**LANGUAGE()**|Возвращает статьи с заданным языком.<br/>Мы будем использовать только *'english'*|Вшита в метод `get_papers()`|\n",
    "</div>"
   ]
  },
  {
   "cell_type": "markdown",
   "metadata": {
    "collapsed": false
   },
   "source": [
    "## 1.2 Список необходимых ключевых слов по которым производится поиск"
   ]
  },
  {
   "cell_type": "code",
   "execution_count": 17,
   "metadata": {
    "ExecuteTime": {
     "end_time": "2023-10-07T16:53:32.905996Z",
     "start_time": "2023-10-07T16:53:32.902416Z"
    },
    "collapsed": false
   },
   "outputs": [],
   "source": [
    "KEYS = [\"MR\", \"GMR\",\"Magnetic resistance\", \"Colossal magnetic resistance\", \n",
    "        \"resistivity in magnetic field\", \"magnetic field\", \"magnetic properties\",\n",
    "        \"conduction in magnetic field\"]\n",
    "PUBYEAR = [i for i in range(1970,2021)]"
   ]
  },
  {
   "cell_type": "markdown",
   "metadata": {
    "collapsed": false
   },
   "source": [
    "## 1.3 Написание запросов"
   ]
  },
  {
   "cell_type": "code",
   "execution_count": 18,
   "metadata": {
    "ExecuteTime": {
     "end_time": "2023-10-07T16:53:34.161069Z",
     "start_time": "2023-10-07T16:53:34.154844Z"
    },
    "collapsed": false
   },
   "outputs": [],
   "source": [
    "def get_papers(keys:list, pubyear:list, doctype:str = 'ar', subjarea:str = 'MATE', language:str = 'english') -> pd.DataFrame:\n",
    "    \n",
    "    \"\"\" Method for extracting science papers from scopus by given keywords and years of publish \\n\n",
    "            \n",
    "                Method parameters:\n",
    "                \n",
    "                    keys : list\n",
    "                        Keywords. Are set in a list, the method is iterated for each keyword from a given list  [Watch more](https://dev.elsevier.com/sc_search_tips.html#:~:text=in%20their%20title.-,TITLE-ABS-KEY,-A%20combined%20field)\n",
    "                    pubyear : list\n",
    "                        Years of publications. Are set in a list, the method is iterated for each keyword from a given list [Watch more](https://dev.elsevier.com/sc_search_tips.html#:~:text=Year%20of%20Publication)\n",
    "                    doctype : str, default 'ar'\n",
    "                        Type of document. As default, it is 'ar' – article; [Watch more](https://dev.elsevier.com/sc_search_tips.html#:~:text=DOCTYPE(XX))\n",
    "                    subjarea : str, default 'MATE'\n",
    "                        Subject Area.  As default, it is 'MATE' – Materials Science [Watch more](https://dev.elsevier.com/sc_search_tips.html#:~:text=from%20journal%20sources.-,SUBJAREA,-(XX))\n",
    "                    language : str, default 'english'\n",
    "                        language of paper. As default, it is 'english' [Watch more](https://dev.elsevier.com/sc_search_tips.html#:~:text=is%20a%20keyword.-,LANGUAGE,-%40)\n",
    "        \n",
    "                Returns:\n",
    "            \n",
    "                    pd.DataFrame:dataframe – DataFrame with all information from Scopus\n",
    "    \"\"\"\n",
    "    \n",
    "    dataframe = pd.DataFrame()\n",
    "\n",
    "\n",
    "    for key in keys:\n",
    "        clear_output(wait=False)\n",
    "        print('Progress scanning keywords:')\n",
    "        print(f'Keyword: {key}')\n",
    "\n",
    "        for year in pubyear:\n",
    "            print(f'Year: {year}')\n",
    "\n",
    "            query = f'(TITLE-ABS-KEY({key}) AND DOCTYPE({doctype}) AND SUBJAREA({subjarea}) AND PUBYEAR = {year} AND LANGUAGE({language}))'\n",
    "            try:\n",
    "                data = ScopusSearch(query, subscriber=False, verbose=False)\n",
    "                data_q = pd.DataFrame(pd.DataFrame(data.results))            \n",
    "\n",
    "                data_q[['keyword', 'doctype', 'subjarea', 'year']] = key, doctype, subjarea, year\n",
    "            \n",
    "                dataframe = pd.concat([dataframe, data_q])\n",
    "            except:\n",
    "                continue\n",
    "    return dataframe\n"
   ]
  },
  {
   "cell_type": "code",
   "execution_count": 19,
   "metadata": {},
   "outputs": [],
   "source": [
    "#df = get_papers(KEYS, PUBYEAR)\n",
    "#df.to_csv('downloaded_articles.csv')"
   ]
  },
  {
   "cell_type": "markdown",
   "metadata": {},
   "source": [
    "Данные были получены и выгружены в отдельный csv файл"
   ]
  },
  {
   "cell_type": "code",
   "execution_count": 20,
   "metadata": {},
   "outputs": [],
   "source": [
    "df = pd.read_csv('downloaded_articles.csv')"
   ]
  },
  {
   "cell_type": "markdown",
   "metadata": {},
   "source": [
    "# 2 Предобработка"
   ]
  },
  {
   "cell_type": "code",
   "execution_count": 12,
   "metadata": {},
   "outputs": [],
   "source": [
    "df = df.dropna(subset='doi')"
   ]
  },
  {
   "cell_type": "code",
   "execution_count": 16,
   "metadata": {},
   "outputs": [
    {
     "ename": "KeyError",
     "evalue": "\"['pii', 'pubmed_id', 'creator', 'afid', 'author_count', 'author_names', 'author_ids', 'author_ids'] not found in axis\"",
     "output_type": "error",
     "traceback": [
      "\u001b[0;31m---------------------------------------------------------------------------\u001b[0m",
      "\u001b[0;31mKeyError\u001b[0m                                  Traceback (most recent call last)",
      "\u001b[1;32m/Users/aleksandrkozuhov/projects/msml/data_proc_2.ipynb Ячейка 17\u001b[0m line \u001b[0;36m1\n\u001b[0;32m----> <a href='vscode-notebook-cell:/Users/aleksandrkozuhov/projects/msml/data_proc_2.ipynb#X36sZmlsZQ%3D%3D?line=0'>1</a>\u001b[0m df \u001b[39m=\u001b[39m df\u001b[39m.\u001b[39mdrop([\u001b[39m'\u001b[39m\u001b[39mpii\u001b[39m\u001b[39m'\u001b[39m,\u001b[39m'\u001b[39m\u001b[39mpubmed_id\u001b[39m\u001b[39m'\u001b[39m, \u001b[39m'\u001b[39m\u001b[39mcreator\u001b[39m\u001b[39m'\u001b[39m, \u001b[39m'\u001b[39m\u001b[39mafid\u001b[39m\u001b[39m'\u001b[39m, \u001b[39m'\u001b[39m\u001b[39mauthor_count\u001b[39m\u001b[39m'\u001b[39m, \u001b[39m'\u001b[39m\u001b[39mauthor_names\u001b[39m\u001b[39m'\u001b[39m,\u001b[39m'\u001b[39m\u001b[39mauthor_ids\u001b[39m\u001b[39m'\u001b[39m, \u001b[39m'\u001b[39m\u001b[39mauthor_ids\u001b[39m\u001b[39m'\u001b[39m], axis\u001b[39m=\u001b[39m\u001b[39m1\u001b[39m)\n",
      "File \u001b[0;32m~/anaconda3/envs/Material_Science/lib/python3.11/site-packages/pandas/core/frame.py:5258\u001b[0m, in \u001b[0;36mDataFrame.drop\u001b[0;34m(self, labels, axis, index, columns, level, inplace, errors)\u001b[0m\n\u001b[1;32m   5110\u001b[0m \u001b[39mdef\u001b[39;00m \u001b[39mdrop\u001b[39m(\n\u001b[1;32m   5111\u001b[0m     \u001b[39mself\u001b[39m,\n\u001b[1;32m   5112\u001b[0m     labels: IndexLabel \u001b[39m=\u001b[39m \u001b[39mNone\u001b[39;00m,\n\u001b[0;32m   (...)\u001b[0m\n\u001b[1;32m   5119\u001b[0m     errors: IgnoreRaise \u001b[39m=\u001b[39m \u001b[39m\"\u001b[39m\u001b[39mraise\u001b[39m\u001b[39m\"\u001b[39m,\n\u001b[1;32m   5120\u001b[0m ) \u001b[39m-\u001b[39m\u001b[39m>\u001b[39m DataFrame \u001b[39m|\u001b[39m \u001b[39mNone\u001b[39;00m:\n\u001b[1;32m   5121\u001b[0m \u001b[39m    \u001b[39m\u001b[39m\"\"\"\u001b[39;00m\n\u001b[1;32m   5122\u001b[0m \u001b[39m    Drop specified labels from rows or columns.\u001b[39;00m\n\u001b[1;32m   5123\u001b[0m \n\u001b[0;32m   (...)\u001b[0m\n\u001b[1;32m   5256\u001b[0m \u001b[39m            weight  1.0     0.8\u001b[39;00m\n\u001b[1;32m   5257\u001b[0m \u001b[39m    \"\"\"\u001b[39;00m\n\u001b[0;32m-> 5258\u001b[0m     \u001b[39mreturn\u001b[39;00m \u001b[39msuper\u001b[39m()\u001b[39m.\u001b[39mdrop(\n\u001b[1;32m   5259\u001b[0m         labels\u001b[39m=\u001b[39mlabels,\n\u001b[1;32m   5260\u001b[0m         axis\u001b[39m=\u001b[39maxis,\n\u001b[1;32m   5261\u001b[0m         index\u001b[39m=\u001b[39mindex,\n\u001b[1;32m   5262\u001b[0m         columns\u001b[39m=\u001b[39mcolumns,\n\u001b[1;32m   5263\u001b[0m         level\u001b[39m=\u001b[39mlevel,\n\u001b[1;32m   5264\u001b[0m         inplace\u001b[39m=\u001b[39minplace,\n\u001b[1;32m   5265\u001b[0m         errors\u001b[39m=\u001b[39merrors,\n\u001b[1;32m   5266\u001b[0m     )\n",
      "File \u001b[0;32m~/anaconda3/envs/Material_Science/lib/python3.11/site-packages/pandas/core/generic.py:4549\u001b[0m, in \u001b[0;36mNDFrame.drop\u001b[0;34m(self, labels, axis, index, columns, level, inplace, errors)\u001b[0m\n\u001b[1;32m   4547\u001b[0m \u001b[39mfor\u001b[39;00m axis, labels \u001b[39min\u001b[39;00m axes\u001b[39m.\u001b[39mitems():\n\u001b[1;32m   4548\u001b[0m     \u001b[39mif\u001b[39;00m labels \u001b[39mis\u001b[39;00m \u001b[39mnot\u001b[39;00m \u001b[39mNone\u001b[39;00m:\n\u001b[0;32m-> 4549\u001b[0m         obj \u001b[39m=\u001b[39m obj\u001b[39m.\u001b[39m_drop_axis(labels, axis, level\u001b[39m=\u001b[39mlevel, errors\u001b[39m=\u001b[39merrors)\n\u001b[1;32m   4551\u001b[0m \u001b[39mif\u001b[39;00m inplace:\n\u001b[1;32m   4552\u001b[0m     \u001b[39mself\u001b[39m\u001b[39m.\u001b[39m_update_inplace(obj)\n",
      "File \u001b[0;32m~/anaconda3/envs/Material_Science/lib/python3.11/site-packages/pandas/core/generic.py:4591\u001b[0m, in \u001b[0;36mNDFrame._drop_axis\u001b[0;34m(self, labels, axis, level, errors, only_slice)\u001b[0m\n\u001b[1;32m   4589\u001b[0m         new_axis \u001b[39m=\u001b[39m axis\u001b[39m.\u001b[39mdrop(labels, level\u001b[39m=\u001b[39mlevel, errors\u001b[39m=\u001b[39merrors)\n\u001b[1;32m   4590\u001b[0m     \u001b[39melse\u001b[39;00m:\n\u001b[0;32m-> 4591\u001b[0m         new_axis \u001b[39m=\u001b[39m axis\u001b[39m.\u001b[39mdrop(labels, errors\u001b[39m=\u001b[39merrors)\n\u001b[1;32m   4592\u001b[0m     indexer \u001b[39m=\u001b[39m axis\u001b[39m.\u001b[39mget_indexer(new_axis)\n\u001b[1;32m   4594\u001b[0m \u001b[39m# Case for non-unique axis\u001b[39;00m\n\u001b[1;32m   4595\u001b[0m \u001b[39melse\u001b[39;00m:\n",
      "File \u001b[0;32m~/anaconda3/envs/Material_Science/lib/python3.11/site-packages/pandas/core/indexes/base.py:6699\u001b[0m, in \u001b[0;36mIndex.drop\u001b[0;34m(self, labels, errors)\u001b[0m\n\u001b[1;32m   6697\u001b[0m \u001b[39mif\u001b[39;00m mask\u001b[39m.\u001b[39many():\n\u001b[1;32m   6698\u001b[0m     \u001b[39mif\u001b[39;00m errors \u001b[39m!=\u001b[39m \u001b[39m\"\u001b[39m\u001b[39mignore\u001b[39m\u001b[39m\"\u001b[39m:\n\u001b[0;32m-> 6699\u001b[0m         \u001b[39mraise\u001b[39;00m \u001b[39mKeyError\u001b[39;00m(\u001b[39mf\u001b[39m\u001b[39m\"\u001b[39m\u001b[39m{\u001b[39;00m\u001b[39mlist\u001b[39m(labels[mask])\u001b[39m}\u001b[39;00m\u001b[39m not found in axis\u001b[39m\u001b[39m\"\u001b[39m)\n\u001b[1;32m   6700\u001b[0m     indexer \u001b[39m=\u001b[39m indexer[\u001b[39m~\u001b[39mmask]\n\u001b[1;32m   6701\u001b[0m \u001b[39mreturn\u001b[39;00m \u001b[39mself\u001b[39m\u001b[39m.\u001b[39mdelete(indexer)\n",
      "\u001b[0;31mKeyError\u001b[0m: \"['pii', 'pubmed_id', 'creator', 'afid', 'author_count', 'author_names', 'author_ids', 'author_ids'] not found in axis\""
     ]
    }
   ],
   "source": [
    "df = df.drop(['pii','pubmed_id', 'creator', 'afid', 'author_count', 'author_names','author_ids', 'author_ids'], axis=1)"
   ]
  },
  {
   "cell_type": "code",
   "execution_count": 15,
   "metadata": {},
   "outputs": [
    {
     "name": "stdout",
     "output_type": "stream",
     "text": [
      "<class 'pandas.core.frame.DataFrame'>\n",
      "Index: 177191 entries, 0 to 187203\n",
      "Data columns (total 34 columns):\n",
      " #   Column               Non-Null Count   Dtype  \n",
      "---  ------               --------------   -----  \n",
      " 0   Unnamed: 0           177191 non-null  int64  \n",
      " 1   eid                  177191 non-null  object \n",
      " 2   doi                  177191 non-null  object \n",
      " 3   title                177191 non-null  object \n",
      " 4   subtype              177191 non-null  object \n",
      " 5   subtypeDescription   177191 non-null  object \n",
      " 6   affilname            174921 non-null  object \n",
      " 7   affiliation_city     174214 non-null  object \n",
      " 8   affiliation_country  174786 non-null  object \n",
      " 9   author_afids         0 non-null       float64\n",
      " 10  coverDate            177191 non-null  object \n",
      " 11  coverDisplayDate     177191 non-null  object \n",
      " 12  publicationName      177187 non-null  object \n",
      " 13  issn                 175736 non-null  object \n",
      " 14  source_id            177187 non-null  float64\n",
      " 15  eIssn                56711 non-null   object \n",
      " 16  aggregationType      177057 non-null  object \n",
      " 17  volume               176908 non-null  object \n",
      " 18  issueIdentifier      165793 non-null  object \n",
      " 19  article_number       22013 non-null   object \n",
      " 20  pageRange            156708 non-null  object \n",
      " 21  description          0 non-null       float64\n",
      " 22  authkeywords         0 non-null       float64\n",
      " 23  citedby_count        177191 non-null  float64\n",
      " 24  openaccess           177191 non-null  float64\n",
      " 25  freetoread           22112 non-null   object \n",
      " 26  freetoreadLabel      22112 non-null   object \n",
      " 27  fund_acr             0 non-null       float64\n",
      " 28  fund_no              0 non-null       float64\n",
      " 29  fund_sponsor         0 non-null       float64\n",
      " 30  keyword              177191 non-null  object \n",
      " 31  doctype              177191 non-null  object \n",
      " 32  subjarea             177191 non-null  object \n",
      " 33  year                 177191 non-null  int64  \n",
      "dtypes: float64(9), int64(2), object(23)\n",
      "memory usage: 47.3+ MB\n"
     ]
    }
   ],
   "source": [
    "df.info()"
   ]
  },
  {
   "cell_type": "markdown",
   "metadata": {},
   "source": [
    "# Downloading"
   ]
  },
  {
   "cell_type": "code",
   "execution_count": 32,
   "metadata": {
    "ExecuteTime": {
     "end_time": "2023-09-19T14:55:53.490098Z",
     "start_time": "2023-09-19T14:55:46.343454Z"
    },
    "collapsed": false
   },
   "outputs": [],
   "source": [
    "for i, doi in enumerate(df['doi'].sample(4)):\n",
    "    paper_type = \"doi\"\n",
    "    url = 'https://sci-hub.ru/' + doi\n",
    "    out = \"./papers/paper_\" + doi[8::] + \".pdf\"  # output file path\n",
    "    df.loc[i,'file_path'] = out\n",
    "    #print(df.loc[i,'file_path'])\n",
    "    #print(doi)\n",
    "    proxies = {\"http\": \"socks5://127.0.0.1:7890\"}  # optional proxies\n",
    "    time.sleep(10)\n",
    "    scihub_download(url, paper_type=paper_type, out=out, proxies=proxies)\n",
    "    clear_output(wait=False)"
   ]
  },
  {
   "cell_type": "markdown",
   "metadata": {},
   "source": [
    "Оцифровка статей будет проводиться через нейронную сеть Nougat. [Ссылка](https://github.com/facebookresearch/nougat/tree/main)\n",
    " \n",
    "Видео с применением этой нейронки в коллабе. [Ссылка](https://www.youtube.com/watch?v=SYO_4uhdHKM)"
   ]
  },
  {
   "cell_type": "code",
   "execution_count": 8,
   "metadata": {},
   "outputs": [
    {
     "ename": "SyntaxError",
     "evalue": "unexpected character after line continuation character (3091123736.py, line 1)",
     "output_type": "error",
     "traceback": [
      "\u001b[0;36m  Cell \u001b[0;32mIn[8], line 1\u001b[0;36m\u001b[0m\n\u001b[0;31m    chr(\\x00)\u001b[0m\n\u001b[0m         ^\u001b[0m\n\u001b[0;31mSyntaxError\u001b[0m\u001b[0;31m:\u001b[0m unexpected character after line continuation character\n"
     ]
    }
   ],
   "source": []
  },
  {
   "cell_type": "code",
   "execution_count": null,
   "metadata": {},
   "outputs": [],
   "source": []
  }
 ],
 "metadata": {
  "kernelspec": {
   "display_name": "Python 3",
   "language": "python",
   "name": "python3"
  },
  "language_info": {
   "codemirror_mode": {
    "name": "ipython",
    "version": 3
   },
   "file_extension": ".py",
   "mimetype": "text/x-python",
   "name": "python",
   "nbconvert_exporter": "python",
   "pygments_lexer": "ipython3",
   "version": "3.11.5"
  }
 },
 "nbformat": 4,
 "nbformat_minor": 0
}
