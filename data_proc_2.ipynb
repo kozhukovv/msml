{
 "cells": [
  {
   "cell_type": "markdown",
   "source": [
    "# 0. Импорт библиотек"
   ],
   "metadata": {
    "collapsed": false
   }
  },
  {
   "cell_type": "code",
   "execution_count": 1,
   "metadata": {
    "collapsed": true,
    "ExecuteTime": {
     "end_time": "2023-09-04T10:06:37.162299Z",
     "start_time": "2023-09-04T10:06:35.889926Z"
    }
   },
   "outputs": [],
   "source": [
    "from pybliometrics.scopus import ScopusSearch # extract data\n",
    "from scidownl import scihub_download # download data\n",
    "\n",
    "import pandas as pd\n",
    "import time\n",
    "from tqdm import tqdm"
   ]
  },
  {
   "cell_type": "markdown",
   "source": [
    "# 1. Парсинг"
   ],
   "metadata": {
    "collapsed": false
   }
  },
  {
   "cell_type": "markdown",
   "source": [
    "## 1.1 Таблица ключевых слов"
   ],
   "metadata": {
    "collapsed": false
   }
  },
  {
   "cell_type": "markdown",
   "source": [],
   "metadata": {
    "collapsed": false
   }
  },
  {
   "cell_type": "markdown",
   "source": [
    "## 1.2 Написание запросов"
   ],
   "metadata": {
    "collapsed": false
   }
  },
  {
   "cell_type": "code",
   "execution_count": null,
   "outputs": [],
   "source": [
    "# Запрос по ключевому слову MR\n",
    "query_mr = \"TITLE-ABS-KEY(MR) AND DOCTYPE(ar) AND SUBJAREA(MATE) AND PUBYEAR = 2021\""
   ],
   "metadata": {
    "collapsed": false
   }
  },
  {
   "cell_type": "code",
   "execution_count": 96,
   "outputs": [],
   "source": [
    "def get_papers(keys:list, pubyear:list, doctype:str = 'ar', subjarea:str = 'MATE'):\n",
    "    \"\"\"key – ключевое слово, doctype – вид статьи, subjarea – научная область, pubyear – список годов\"\"\"\n",
    "    \n",
    "    dataframe = pd.DataFrame() # список, в которые будут записываться все результаты запросов в списках\n",
    "    \n",
    "    print('Progress scanning keywords:')\n",
    "    for key in tqdm(keys):\n",
    "        #print(f'Keyword: {key}')\n",
    "        \n",
    "        for year in pubyear:\n",
    "            #print(f'Year: {year}')\n",
    "            query = f'TITLE-ABS-KEY({key}) AND DOCTYPE({doctype}) AND SUBJAREA({subjarea}) AND PUBYEAR = {year}'\n",
    "            \n",
    "            data = ScopusSearch(query, subscriber=False, verbose=False)\n",
    "            data_q = pd.DataFrame(pd.DataFrame(data.results))            \n",
    "            \n",
    "            data_q[['keyword', 'doctype', 'subjarea', 'year']] = key, doctype, subjarea, year\n",
    "            \n",
    "            dataframe = pd.concat([dataframe, data_q])\n",
    "    return dataframe"
   ],
   "metadata": {
    "collapsed": false,
    "ExecuteTime": {
     "end_time": "2023-09-04T11:04:28.408265Z",
     "start_time": "2023-09-04T11:04:28.399482Z"
    }
   }
  },
  {
   "cell_type": "code",
   "execution_count": 97,
   "outputs": [
    {
     "name": "stdout",
     "output_type": "stream",
     "text": [
      "Progress scanning keywords:\n"
     ]
    },
    {
     "name": "stderr",
     "output_type": "stream",
     "text": [
      "100%|██████████| 2/2 [00:00<00:00, 35.44it/s]\n"
     ]
    }
   ],
   "source": [
    "df = get_papers(['MR', 'GMR'], [i for i in range(2019,2021)])"
   ],
   "metadata": {
    "collapsed": false,
    "ExecuteTime": {
     "end_time": "2023-09-04T11:04:29.036876Z",
     "start_time": "2023-09-04T11:04:28.972245Z"
    }
   }
  },
  {
   "cell_type": "code",
   "execution_count": 98,
   "outputs": [
    {
     "data": {
      "text/plain": "                   eid                                   doi  \\\n0   2-s2.0-85078607743  10.3969/j.issn.1001-9731.2019.12.013   \n1   2-s2.0-85077243994             10.1186/s12938-019-0740-4   \n2   2-s2.0-85077172513             10.1186/s12938-019-0742-2   \n3   2-s2.0-85076735224                  10.1557/jmr.2019.333   \n4   2-s2.0-85074262547                10.1021/acsabm.9b00709   \n..                 ...                                   ...   \n31  2-s2.0-85085164175           10.1109/ACCESS.2020.2993460   \n32  2-s2.0-85084349809                                  None   \n33  2-s2.0-85078954957                    10.3233/JAE-190058   \n34  2-s2.0-85077378036                  10.3390/nano10010005   \n35  2-s2.0-85071648170            10.1016/j.jmmm.2019.165749   \n\n                  pii pubmed_id  \\\n0                None      None   \n1                None  31881897   \n2                None  31864367   \n3   S0884291419003339      None   \n4                None  35021538   \n..                ...       ...   \n31               None      None   \n32               None      None   \n33               None      None   \n34               None      None   \n35  S0304885319319195      None   \n\n                                                title subtype  \\\n0   Effect of frequency and temperature on differe...      ar   \n1   Analyzing brain structural differences associa...      ar   \n2   Ultrasonic liver steatosis quantification by a...      ar   \n3   Selective-area growth and transport properties...      ar   \n4   NCP:Fe - A Biomineral Magnetic Nanocontrast Ag...      ar   \n..                                                ...     ...   \n31  A Diode-Enhanced Scheme for Giant Magnetoresis...      ar   \n32  Structural, magnetic and GMR properties of FeC...      ar   \n33  A novel rectangular vertical probe with a cond...      ar   \n34  CPP-GMR performance of electrochemically synth...      ar   \n35  Spin transfer torque switching of hybrid memor...      ar   \n\n   subtypeDescription      creator  afid  \\\n0             Article     Huang Z.  None   \n1             Article        Yu X.  None   \n2             Article       Shi X.  None   \n3             Article      Hara S.  None   \n4             Article    Anna I.M.  None   \n..                ...          ...   ...   \n31            Article       Nan J.  None   \n32            Article    Tekgül A.  None   \n33            Article     Huang L.  None   \n34            Article  Kamimura H.  None   \n35            Article      Zhao W.  None   \n\n                                            affilname  ... openaccess  \\\n0        Qingdao University of Science and Technology  ...          0   \n1   Suzhou Institute of Biomedical Engineering and...  ...          1   \n2                                    Fudan University  ...          1   \n3                                 Hokkaido University  ...          0   \n4        Amrita Vishwa Vidyapeetham University, Kochi  ...          0   \n..                                                ...  ...        ...   \n31                                 Beihang University  ...          1   \n32                          Bursa Uludağ Üniversitesi  ...          0   \n33                                  Xiamen University  ...          0   \n34                                Nagasaki University  ...          1   \n35                                  Nagoya University  ...          0   \n\n           freetoread freetoreadLabel fund_acr fund_no fund_sponsor keyword  \\\n0                None            None     None    None         None      MR   \n1       repositoryvor           Green     None    None         None      MR   \n2       repositoryvor           Green     None    None         None      MR   \n3                None            None     None    None         None      MR   \n4                None            None     None    None         None      MR   \n..                ...             ...      ...     ...          ...     ...   \n31  publisherfullgold            Gold     None    None         None     GMR   \n32               None            None     None    None         None     GMR   \n33               None            None     None    None         None     GMR   \n34      repositoryvor           Green     None    None         None     GMR   \n35               None            None     None    None         None     GMR   \n\n   doctype subjarea  year  \n0       ar     MATE  2019  \n1       ar     MATE  2019  \n2       ar     MATE  2019  \n3       ar     MATE  2019  \n4       ar     MATE  2019  \n..     ...      ...   ...  \n31      ar     MATE  2020  \n32      ar     MATE  2020  \n33      ar     MATE  2020  \n34      ar     MATE  2020  \n35      ar     MATE  2020  \n\n[1807 rows x 40 columns]",
      "text/html": "<div>\n<style scoped>\n    .dataframe tbody tr th:only-of-type {\n        vertical-align: middle;\n    }\n\n    .dataframe tbody tr th {\n        vertical-align: top;\n    }\n\n    .dataframe thead th {\n        text-align: right;\n    }\n</style>\n<table border=\"1\" class=\"dataframe\">\n  <thead>\n    <tr style=\"text-align: right;\">\n      <th></th>\n      <th>eid</th>\n      <th>doi</th>\n      <th>pii</th>\n      <th>pubmed_id</th>\n      <th>title</th>\n      <th>subtype</th>\n      <th>subtypeDescription</th>\n      <th>creator</th>\n      <th>afid</th>\n      <th>affilname</th>\n      <th>...</th>\n      <th>openaccess</th>\n      <th>freetoread</th>\n      <th>freetoreadLabel</th>\n      <th>fund_acr</th>\n      <th>fund_no</th>\n      <th>fund_sponsor</th>\n      <th>keyword</th>\n      <th>doctype</th>\n      <th>subjarea</th>\n      <th>year</th>\n    </tr>\n  </thead>\n  <tbody>\n    <tr>\n      <th>0</th>\n      <td>2-s2.0-85078607743</td>\n      <td>10.3969/j.issn.1001-9731.2019.12.013</td>\n      <td>None</td>\n      <td>None</td>\n      <td>Effect of frequency and temperature on differe...</td>\n      <td>ar</td>\n      <td>Article</td>\n      <td>Huang Z.</td>\n      <td>None</td>\n      <td>Qingdao University of Science and Technology</td>\n      <td>...</td>\n      <td>0</td>\n      <td>None</td>\n      <td>None</td>\n      <td>None</td>\n      <td>None</td>\n      <td>None</td>\n      <td>MR</td>\n      <td>ar</td>\n      <td>MATE</td>\n      <td>2019</td>\n    </tr>\n    <tr>\n      <th>1</th>\n      <td>2-s2.0-85077243994</td>\n      <td>10.1186/s12938-019-0740-4</td>\n      <td>None</td>\n      <td>31881897</td>\n      <td>Analyzing brain structural differences associa...</td>\n      <td>ar</td>\n      <td>Article</td>\n      <td>Yu X.</td>\n      <td>None</td>\n      <td>Suzhou Institute of Biomedical Engineering and...</td>\n      <td>...</td>\n      <td>1</td>\n      <td>repositoryvor</td>\n      <td>Green</td>\n      <td>None</td>\n      <td>None</td>\n      <td>None</td>\n      <td>MR</td>\n      <td>ar</td>\n      <td>MATE</td>\n      <td>2019</td>\n    </tr>\n    <tr>\n      <th>2</th>\n      <td>2-s2.0-85077172513</td>\n      <td>10.1186/s12938-019-0742-2</td>\n      <td>None</td>\n      <td>31864367</td>\n      <td>Ultrasonic liver steatosis quantification by a...</td>\n      <td>ar</td>\n      <td>Article</td>\n      <td>Shi X.</td>\n      <td>None</td>\n      <td>Fudan University</td>\n      <td>...</td>\n      <td>1</td>\n      <td>repositoryvor</td>\n      <td>Green</td>\n      <td>None</td>\n      <td>None</td>\n      <td>None</td>\n      <td>MR</td>\n      <td>ar</td>\n      <td>MATE</td>\n      <td>2019</td>\n    </tr>\n    <tr>\n      <th>3</th>\n      <td>2-s2.0-85076735224</td>\n      <td>10.1557/jmr.2019.333</td>\n      <td>S0884291419003339</td>\n      <td>None</td>\n      <td>Selective-area growth and transport properties...</td>\n      <td>ar</td>\n      <td>Article</td>\n      <td>Hara S.</td>\n      <td>None</td>\n      <td>Hokkaido University</td>\n      <td>...</td>\n      <td>0</td>\n      <td>None</td>\n      <td>None</td>\n      <td>None</td>\n      <td>None</td>\n      <td>None</td>\n      <td>MR</td>\n      <td>ar</td>\n      <td>MATE</td>\n      <td>2019</td>\n    </tr>\n    <tr>\n      <th>4</th>\n      <td>2-s2.0-85074262547</td>\n      <td>10.1021/acsabm.9b00709</td>\n      <td>None</td>\n      <td>35021538</td>\n      <td>NCP:Fe - A Biomineral Magnetic Nanocontrast Ag...</td>\n      <td>ar</td>\n      <td>Article</td>\n      <td>Anna I.M.</td>\n      <td>None</td>\n      <td>Amrita Vishwa Vidyapeetham University, Kochi</td>\n      <td>...</td>\n      <td>0</td>\n      <td>None</td>\n      <td>None</td>\n      <td>None</td>\n      <td>None</td>\n      <td>None</td>\n      <td>MR</td>\n      <td>ar</td>\n      <td>MATE</td>\n      <td>2019</td>\n    </tr>\n    <tr>\n      <th>...</th>\n      <td>...</td>\n      <td>...</td>\n      <td>...</td>\n      <td>...</td>\n      <td>...</td>\n      <td>...</td>\n      <td>...</td>\n      <td>...</td>\n      <td>...</td>\n      <td>...</td>\n      <td>...</td>\n      <td>...</td>\n      <td>...</td>\n      <td>...</td>\n      <td>...</td>\n      <td>...</td>\n      <td>...</td>\n      <td>...</td>\n      <td>...</td>\n      <td>...</td>\n      <td>...</td>\n    </tr>\n    <tr>\n      <th>31</th>\n      <td>2-s2.0-85085164175</td>\n      <td>10.1109/ACCESS.2020.2993460</td>\n      <td>None</td>\n      <td>None</td>\n      <td>A Diode-Enhanced Scheme for Giant Magnetoresis...</td>\n      <td>ar</td>\n      <td>Article</td>\n      <td>Nan J.</td>\n      <td>None</td>\n      <td>Beihang University</td>\n      <td>...</td>\n      <td>1</td>\n      <td>publisherfullgold</td>\n      <td>Gold</td>\n      <td>None</td>\n      <td>None</td>\n      <td>None</td>\n      <td>GMR</td>\n      <td>ar</td>\n      <td>MATE</td>\n      <td>2020</td>\n    </tr>\n    <tr>\n      <th>32</th>\n      <td>2-s2.0-85084349809</td>\n      <td>None</td>\n      <td>None</td>\n      <td>None</td>\n      <td>Structural, magnetic and GMR properties of FeC...</td>\n      <td>ar</td>\n      <td>Article</td>\n      <td>Tekgül A.</td>\n      <td>None</td>\n      <td>Bursa Uludağ Üniversitesi</td>\n      <td>...</td>\n      <td>0</td>\n      <td>None</td>\n      <td>None</td>\n      <td>None</td>\n      <td>None</td>\n      <td>None</td>\n      <td>GMR</td>\n      <td>ar</td>\n      <td>MATE</td>\n      <td>2020</td>\n    </tr>\n    <tr>\n      <th>33</th>\n      <td>2-s2.0-85078954957</td>\n      <td>10.3233/JAE-190058</td>\n      <td>None</td>\n      <td>None</td>\n      <td>A novel rectangular vertical probe with a cond...</td>\n      <td>ar</td>\n      <td>Article</td>\n      <td>Huang L.</td>\n      <td>None</td>\n      <td>Xiamen University</td>\n      <td>...</td>\n      <td>0</td>\n      <td>None</td>\n      <td>None</td>\n      <td>None</td>\n      <td>None</td>\n      <td>None</td>\n      <td>GMR</td>\n      <td>ar</td>\n      <td>MATE</td>\n      <td>2020</td>\n    </tr>\n    <tr>\n      <th>34</th>\n      <td>2-s2.0-85077378036</td>\n      <td>10.3390/nano10010005</td>\n      <td>None</td>\n      <td>None</td>\n      <td>CPP-GMR performance of electrochemically synth...</td>\n      <td>ar</td>\n      <td>Article</td>\n      <td>Kamimura H.</td>\n      <td>None</td>\n      <td>Nagasaki University</td>\n      <td>...</td>\n      <td>1</td>\n      <td>repositoryvor</td>\n      <td>Green</td>\n      <td>None</td>\n      <td>None</td>\n      <td>None</td>\n      <td>GMR</td>\n      <td>ar</td>\n      <td>MATE</td>\n      <td>2020</td>\n    </tr>\n    <tr>\n      <th>35</th>\n      <td>2-s2.0-85071648170</td>\n      <td>10.1016/j.jmmm.2019.165749</td>\n      <td>S0304885319319195</td>\n      <td>None</td>\n      <td>Spin transfer torque switching of hybrid memor...</td>\n      <td>ar</td>\n      <td>Article</td>\n      <td>Zhao W.</td>\n      <td>None</td>\n      <td>Nagoya University</td>\n      <td>...</td>\n      <td>0</td>\n      <td>None</td>\n      <td>None</td>\n      <td>None</td>\n      <td>None</td>\n      <td>None</td>\n      <td>GMR</td>\n      <td>ar</td>\n      <td>MATE</td>\n      <td>2020</td>\n    </tr>\n  </tbody>\n</table>\n<p>1807 rows × 40 columns</p>\n</div>"
     },
     "execution_count": 98,
     "metadata": {},
     "output_type": "execute_result"
    }
   ],
   "source": [
    "df"
   ],
   "metadata": {
    "collapsed": false,
    "ExecuteTime": {
     "end_time": "2023-09-04T11:04:30.068271Z",
     "start_time": "2023-09-04T11:04:30.040682Z"
    }
   }
  },
  {
   "cell_type": "code",
   "execution_count": 32,
   "outputs": [],
   "source": [
    "# Full query\n",
    "#query = 'TITLE-ABS-KEY(MR) OR TITLE-ABS-KEY(GMR) OR TITLE-ABS-KEY(magnetic resistance) AND DOCTYPE(ar) AND NOT PUBDATETXT(2023)'"
   ],
   "metadata": {
    "collapsed": false,
    "ExecuteTime": {
     "end_time": "2023-08-16T13:05:03.193012Z",
     "start_time": "2023-08-16T13:05:03.189276Z"
    }
   }
  },
  {
   "cell_type": "code",
   "execution_count": 35,
   "outputs": [],
   "source": [
    "# Limited query\n",
    "query = 'ABS(colossal magnetoresistance) AND DOCTYPE(ar) AND SUBJAREA(MATE) AND PUBDATETXT(2021)'"
   ],
   "metadata": {
    "collapsed": false,
    "ExecuteTime": {
     "end_time": "2023-09-04T10:31:17.646096Z",
     "start_time": "2023-09-04T10:31:17.641926Z"
    }
   }
  },
  {
   "cell_type": "code",
   "execution_count": 36,
   "outputs": [],
   "source": [
    "data = ScopusSearch(query, subscriber=False, verbose=True)"
   ],
   "metadata": {
    "collapsed": false,
    "ExecuteTime": {
     "end_time": "2023-09-04T10:31:18.429307Z",
     "start_time": "2023-09-04T10:31:18.419478Z"
    }
   }
  },
  {
   "cell_type": "code",
   "execution_count": 38,
   "outputs": [
    {
     "data": {
      "text/plain": "pybliometrics.scopus.scopus_search.ScopusSearch"
     },
     "execution_count": 38,
     "metadata": {},
     "output_type": "execute_result"
    }
   ],
   "source": [
    "type(data)"
   ],
   "metadata": {
    "collapsed": false,
    "ExecuteTime": {
     "end_time": "2023-09-04T10:31:27.152185Z",
     "start_time": "2023-09-04T10:31:27.144098Z"
    }
   }
  },
  {
   "cell_type": "code",
   "execution_count": 41,
   "outputs": [
    {
     "data": {
      "text/plain": "27"
     },
     "execution_count": 41,
     "metadata": {},
     "output_type": "execute_result"
    }
   ],
   "source": [
    "data.get_results_size()"
   ],
   "metadata": {
    "collapsed": false,
    "ExecuteTime": {
     "end_time": "2023-09-04T10:34:54.576112Z",
     "start_time": "2023-09-04T10:34:54.566028Z"
    }
   }
  },
  {
   "cell_type": "code",
   "execution_count": 42,
   "outputs": [],
   "source": [
    "data.get_key_reset_time()"
   ],
   "metadata": {
    "collapsed": false,
    "ExecuteTime": {
     "end_time": "2023-09-04T10:35:01.019166Z",
     "start_time": "2023-09-04T10:35:01.002722Z"
    }
   }
  },
  {
   "cell_type": "code",
   "execution_count": 43,
   "outputs": [
    {
     "data": {
      "text/plain": "0"
     },
     "execution_count": 43,
     "metadata": {},
     "output_type": "execute_result"
    }
   ],
   "source": [
    "data.get_cache_file_age()"
   ],
   "metadata": {
    "collapsed": false,
    "ExecuteTime": {
     "end_time": "2023-09-04T10:35:07.989196Z",
     "start_time": "2023-09-04T10:35:07.984691Z"
    }
   }
  },
  {
   "cell_type": "code",
   "execution_count": 44,
   "outputs": [],
   "source": [
    "data.get_key_remaining_quota()"
   ],
   "metadata": {
    "collapsed": false,
    "ExecuteTime": {
     "end_time": "2023-09-04T10:35:16.412919Z",
     "start_time": "2023-09-04T10:35:16.403677Z"
    }
   }
  },
  {
   "cell_type": "code",
   "execution_count": 46,
   "outputs": [
    {
     "data": {
      "text/plain": "list"
     },
     "execution_count": 46,
     "metadata": {},
     "output_type": "execute_result"
    }
   ],
   "source": [
    "data.results"
   ],
   "metadata": {
    "collapsed": false,
    "ExecuteTime": {
     "end_time": "2023-09-04T10:35:30.416463Z",
     "start_time": "2023-09-04T10:35:30.412233Z"
    }
   }
  },
  {
   "cell_type": "code",
   "execution_count": 40,
   "outputs": [
    {
     "data": {
      "text/plain": "['2-s2.0-85120860311',\n '2-s2.0-85113644606',\n '2-s2.0-85111517063',\n '2-s2.0-85122039471',\n '2-s2.0-85121616280',\n '2-s2.0-85121055937',\n '2-s2.0-85119333485',\n '2-s2.0-85121398277',\n '2-s2.0-85111957772',\n '2-s2.0-85117251342',\n '2-s2.0-85108353404',\n '2-s2.0-85111337999',\n '2-s2.0-85114062385',\n '2-s2.0-85113228198',\n '2-s2.0-85103668867',\n '2-s2.0-85110341101',\n '2-s2.0-85106539171',\n '2-s2.0-85104897327',\n '2-s2.0-85100234691',\n '2-s2.0-85104374464',\n '2-s2.0-85103766313',\n '2-s2.0-85103829517',\n '2-s2.0-85102856187',\n '2-s2.0-85103814857',\n '2-s2.0-85099800486',\n '2-s2.0-85101496901',\n '2-s2.0-85095736458']"
     },
     "execution_count": 40,
     "metadata": {},
     "output_type": "execute_result"
    }
   ],
   "source": [
    "data.get_eids()"
   ],
   "metadata": {
    "collapsed": false,
    "ExecuteTime": {
     "end_time": "2023-09-04T10:33:00.386753Z",
     "start_time": "2023-09-04T10:33:00.382687Z"
    }
   }
  },
  {
   "cell_type": "code",
   "execution_count": 39,
   "outputs": [
    {
     "name": "stdout",
     "output_type": "stream",
     "text": [
      "Help on ScopusSearch in module pybliometrics.scopus.scopus_search object:\n",
      "\n",
      "class ScopusSearch(pybliometrics.scopus.superclasses.search.Search)\n",
      " |  ScopusSearch(query: str, refresh: Union[bool, int] = False, view: str = None, verbose: bool = False, download: bool = True, integrity_fields: Union[List[str], Tuple[str, ...]] = None, integrity_action: str = 'raise', subscriber: bool = True, **kwds: str) -> None\n",
      " |  \n",
      " |  Method resolution order:\n",
      " |      ScopusSearch\n",
      " |      pybliometrics.scopus.superclasses.search.Search\n",
      " |      pybliometrics.scopus.superclasses.base.Base\n",
      " |      builtins.object\n",
      " |  \n",
      " |  Methods defined here:\n",
      " |  \n",
      " |  __init__(self, query: str, refresh: Union[bool, int] = False, view: str = None, verbose: bool = False, download: bool = True, integrity_fields: Union[List[str], Tuple[str, ...]] = None, integrity_action: str = 'raise', subscriber: bool = True, **kwds: str) -> None\n",
      " |      Interaction with the Scopus Search API.\n",
      " |      \n",
      " |      :param query: A string of the query as used in the Advanced Search\n",
      " |                   on scopus.com.  All fields except \"INDEXTERMS()\" and\n",
      " |                   \"LIMIT-TO()\" work.\n",
      " |      :param refresh: Whether to refresh the cached file if it exists or not.\n",
      " |                      If int is passed, cached file will be refreshed if the\n",
      " |                      number of days since last modification exceeds that value.\n",
      " |      :param view: Which view to use for the query, see\n",
      " |                   https://dev.elsevier.com/sc_search_views.html.\n",
      " |                   Allowed values: STANDARD, COMPLETE.  If None, defaults to\n",
      " |                   COMPLETE if `subscriber=True` and to STANDARD if\n",
      " |                   `subscriber=False`.\n",
      " |      :param verbose: Whether to print a download progress bar.\n",
      " |      :param download: Whether to download results (if they have not been\n",
      " |                       cached).\n",
      " |      :param integrity_fields: Names of fields whose completeness should\n",
      " |                               be checked.  ScopusSearch will perform the\n",
      " |                               action specified in `integrity_action` if\n",
      " |                               elements in these fields are missing.  This\n",
      " |                               helps avoiding idiosynchratically missing\n",
      " |                               elements that should always be present\n",
      " |                               (e.g., EID or source ID).\n",
      " |      :param integrity_action: What to do in case integrity of provided fields\n",
      " |                               cannot be verified.  Possible actions:\n",
      " |                               - \"raise\": Raise an AttributeError\n",
      " |                               - \"warn\": Raise a UserWarning\n",
      " |      :param subscriber: Whether you access Scopus with a subscription or not.\n",
      " |                         For subscribers, Scopus's cursor navigation will be\n",
      " |                         used.  Sets the number of entries in each query\n",
      " |                         iteration to the maximum number allowed by the\n",
      " |                         corresponding view.\n",
      " |      :param kwds: Keywords passed on as query parameters.  Must contain\n",
      " |                   fields and values mentioned in the API specification at\n",
      " |                   https://dev.elsevier.com/documentation/ScopusSearchAPI.wadl.\n",
      " |      \n",
      " |      Raises\n",
      " |      ------\n",
      " |      ScopusQueryError\n",
      " |          For non-subscribers, if the number of search results exceeds 5000.\n",
      " |      \n",
      " |      ValueError\n",
      " |          If any of the parameters `integrity_action`, `refresh` or `view`\n",
      " |          is not one of the allowed values.\n",
      " |      \n",
      " |      Notes\n",
      " |      -----\n",
      " |      The directory for cached results is `{path}/{view}/{fname}`,\n",
      " |      where `path` is specified in your configuration file and `fname` is\n",
      " |      the md5-hashed version of `query`.\n",
      " |  \n",
      " |  __str__(self)\n",
      " |      Print a summary string.\n",
      " |  \n",
      " |  get_eids(self)\n",
      " |      EIDs of retrieved documents.\n",
      " |  \n",
      " |  ----------------------------------------------------------------------\n",
      " |  Readonly properties defined here:\n",
      " |  \n",
      " |  results\n",
      " |      A list of namedtuples in the form (eid doi pii pubmed_id title\n",
      " |      subtype subtypeDescription creator afid affilname affiliation_city\n",
      " |      affiliation_country author_count author_names author_ids author_afids\n",
      " |      coverDate coverDisplayDate publicationName issn source_id eIssn\n",
      " |      aggregationType volume issueIdentifier article_number pageRange\n",
      " |      description authkeywords citedby_count openaccess freetoread\n",
      " |      freetoreadLabel fund_acr fund_no fund_sponsor).\n",
      " |      Field definitions correspond to\n",
      " |      https://dev.elsevier.com/guides/ScopusSearchViews.htm and return the\n",
      " |      values as-is, except for afid, affilname, affiliation_city,\n",
      " |      affiliation_country, author_names, author_ids and author_afids:  These\n",
      " |      information are joined on \";\".  In case an author has multiple\n",
      " |      affiliations, they are joined on \"-\"\n",
      " |      (e.g. Author1Aff;Author2Aff1-Author2Aff2).\n",
      " |      \n",
      " |      Raises\n",
      " |      ------\n",
      " |      ValueError\n",
      " |          If the elements provided in integrity_fields do not match the\n",
      " |          actual field names (listed above).\n",
      " |      \n",
      " |      Notes\n",
      " |      -----\n",
      " |      The list of authors and the list of affiliations per author are\n",
      " |      deduplicated.\n",
      " |  \n",
      " |  ----------------------------------------------------------------------\n",
      " |  Methods inherited from pybliometrics.scopus.superclasses.search.Search:\n",
      " |  \n",
      " |  get_results_size(self) -> int\n",
      " |      Return the number of results (works even if download=False).\n",
      " |  \n",
      " |  ----------------------------------------------------------------------\n",
      " |  Methods inherited from pybliometrics.scopus.superclasses.base.Base:\n",
      " |  \n",
      " |  get_cache_file_age(self) -> int\n",
      " |      Return the age of the cached file in days.\n",
      " |  \n",
      " |  get_cache_file_mdate(self) -> str\n",
      " |      Return the modification date of the cached file.\n",
      " |  \n",
      " |  get_key_remaining_quota(self) -> Optional[str]\n",
      " |      Return number of remaining requests for the current key and the\n",
      " |      current API (relative on last actual request).\n",
      " |  \n",
      " |  get_key_reset_time(self) -> Optional[str]\n",
      " |      Return time when current key is reset (relative on last\n",
      " |      actual request).\n",
      " |  \n",
      " |  ----------------------------------------------------------------------\n",
      " |  Data descriptors inherited from pybliometrics.scopus.superclasses.base.Base:\n",
      " |  \n",
      " |  __dict__\n",
      " |      dictionary for instance variables (if defined)\n",
      " |  \n",
      " |  __weakref__\n",
      " |      list of weak references to the object (if defined)\n"
     ]
    }
   ],
   "source": [
    "help(data)"
   ],
   "metadata": {
    "collapsed": false,
    "ExecuteTime": {
     "end_time": "2023-09-04T10:31:46.542894Z",
     "start_time": "2023-09-04T10:31:46.536120Z"
    }
   }
  },
  {
   "cell_type": "code",
   "execution_count": 18,
   "outputs": [
    {
     "ename": "NameError",
     "evalue": "name 'a' is not defined",
     "output_type": "error",
     "traceback": [
      "\u001B[0;31m---------------------------------------------------------------------------\u001B[0m",
      "\u001B[0;31mNameError\u001B[0m                                 Traceback (most recent call last)",
      "Cell \u001B[0;32mIn[18], line 1\u001B[0m\n\u001B[0;32m----> 1\u001B[0m \u001B[43ma\u001B[49m\u001B[38;5;241m.\u001B[39mget_eids()\n",
      "\u001B[0;31mNameError\u001B[0m: name 'a' is not defined"
     ]
    }
   ],
   "source": [
    "#a.get_eids()"
   ],
   "metadata": {
    "collapsed": false,
    "ExecuteTime": {
     "end_time": "2023-09-04T10:09:49.718703Z",
     "start_time": "2023-09-04T10:09:49.712392Z"
    }
   }
  },
  {
   "cell_type": "code",
   "execution_count": 19,
   "outputs": [],
   "source": [
    "# 2-s2.0-85120860311'"
   ],
   "metadata": {
    "collapsed": false,
    "ExecuteTime": {
     "end_time": "2023-09-04T10:09:50.678250Z",
     "start_time": "2023-09-04T10:09:50.672532Z"
    }
   }
  },
  {
   "cell_type": "code",
   "execution_count": 47,
   "outputs": [],
   "source": [
    "df = pd.DataFrame(pd.DataFrame(data.results))"
   ],
   "metadata": {
    "collapsed": false,
    "ExecuteTime": {
     "end_time": "2023-09-04T10:35:40.265532Z",
     "start_time": "2023-09-04T10:35:40.235057Z"
    }
   }
  },
  {
   "cell_type": "markdown",
   "source": [
    "# Preprocessing"
   ],
   "metadata": {
    "collapsed": false
   }
  },
  {
   "cell_type": "code",
   "execution_count": 48,
   "outputs": [
    {
     "data": {
      "text/plain": "                   eid                                doi                pii  \\\n0   2-s2.0-85120860311             10.1021/acsami.1c18848               None   \n1   2-s2.0-85113644606       10.1016/j.apsusc.2021.151032  S0169433221020894   \n2   2-s2.0-85111517063      10.1016/j.jallcom.2021.161311  S0925838821027201   \n3   2-s2.0-85122039471        10.1103/PhysRevB.104.214419               None   \n4   2-s2.0-85121616280  10.1103/PhysRevMaterials.5.124404               None   \n5   2-s2.0-85121055937               10.3390/nano11123389               None   \n6   2-s2.0-85119333485         10.1038/s41535-021-00397-4               None   \n7   2-s2.0-85121398277          10.1134/S1063774521060407               None   \n8   2-s2.0-85111957772     10.1016/j.ceramint.2021.07.245  S0272884221022987   \n9   2-s2.0-85117251342  10.1103/PhysRevMaterials.5.104401               None   \n10  2-s2.0-85108353404     10.1016/j.ceramint.2021.06.085  S0272884221018241   \n11  2-s2.0-85111337999        10.1103/PhysRevB.104.045149               None   \n12  2-s2.0-85114062385         10.1007/s10948-021-05889-9               None   \n13  2-s2.0-85113228198  10.1103/PhysRevMaterials.5.074603               None   \n14  2-s2.0-85103668867           10.1088/1361-6528/abeb39               None   \n15  2-s2.0-85110341101    10.1016/j.commatsci.2021.110406  S0927025621001312   \n16  2-s2.0-85106539171           10.1088/1361-648X/abf6a7               None   \n17  2-s2.0-85104897327         10.1007/s10909-021-02592-w               None   \n18  2-s2.0-85100234691         10.1016/j.jmmm.2021.167738  S0304885321000147   \n19  2-s2.0-85104374464       10.1103/PhysRevB.103.L161105               None   \n20  2-s2.0-85103766313      10.1021/acs.chemmater.1c00128               None   \n21  2-s2.0-85103829517        10.1103/PhysRevB.103.115137               None   \n22  2-s2.0-85102856187        10.1103/PhysRevB.103.094302               None   \n23  2-s2.0-85103814857           10.3390/coatings11030361               None   \n24  2-s2.0-85099800486             10.1002/adma.202005755               None   \n25  2-s2.0-85101496901             10.1021/acsami.0c20166               None   \n26  2-s2.0-85095736458         10.1016/j.jssc.2020.121831  S0022459620306629   \n\n   pubmed_id                                              title subtype  \\\n0   34854300  Colossal Magnetoresistance in Ti Lightly Doped...      ar   \n1       None  Antiferromagnetic metallic state and low-tempe...      ar   \n2       None  Annealing modulated magnetism in double-perovs...      ar   \n3       None  Colossal angular magnetoresistance in the anti...      ar   \n4       None  Interplay between magnetism and interface-indu...      ar   \n5       None  Influence of thickness on the magnetic and mag...      ar   \n6       None  Field-induced metal-to-insulator transition an...      ar   \n7       None  Self-Organized Quantum Dots from a Material wi...      ar   \n8       None  Colossal magnetoresistive polycrystalline La<i...      ar   \n9       None  Magnetic-field-induced structural phase transi...      ar   \n10      None  The novel positive colossal electroresistance ...      ar   \n11      None  Colossal electroresistance response accompanie...      ar   \n12      None  Studies on Colossal Magnetoresistance Behaviou...      ar   \n13      None  Narrow-gap semiconducting behavior in antiferr...      ar   \n14      None  Spin-Seebeck effect and thermal colossal magne...      ar   \n15      None  A highly accurate interatomic potential for La...      ar   \n16  33836523  Real-space imaging of magnetic phase transform...      ar   \n17      None  Electronic, Magnetic Properties and Magnetocal...      ar   \n18      None  Structural, magnetic and magneto-transport pro...      ar   \n19      None  Colossal magnetoresistance via avoiding fully ...      ar   \n20      None  Total Scattering Study of Local Structural Cha...      ar   \n21      None  Dynamics of electronically phase-separated sta...      ar   \n22      None      Origin of magnetovolume effect in a cobaltite      ar   \n23      None  The physical properties of submicron and nano-...      ar   \n24  33511677  Colossal Magnetoresistance without Mixed Valen...      ar   \n25  33566561  Exotic long-range surface reconstruction on La...      ar   \n26      None  Electrical conductivity increase by order of m...      ar   \n\n   subtypeDescription                 creator  afid  \\\n0             Article              Zhang S.J.  None   \n1             Article                 Chen H.  None   \n2             Article                   Wu J.  None   \n3             Article                 Yang H.  None   \n4             Article            Zakharova A.  None   \n5             Article         Greculeasa S.G.  None   \n6             Article                Sun Z.L.  None   \n7             Article         Stepantsov E.A.  None   \n8             Article                 Yang Y.  None   \n9             Article             Diop L.V.B.  None   \n10            Article                  Jia H.  None   \n11            Article               Saha R.A.  None   \n12            Article             Gayathri V.  None   \n13            Article             Fender S.S.  None   \n14            Article                 Wu D.D.  None   \n15            Article                 Qu X.Y.  None   \n16            Article             Mazumdar D.  None   \n17            Article  Erchidi Elyacoubi A.S.  None   \n18            Article              Debnath M.  None   \n19            Article                   Ni Y.  None   \n20            Article                 Saha D.  None   \n21            Article                  Luo J.  None   \n22            Article                 Miao P.  None   \n23            Article                Lau L.N.  None   \n24            Article               Wang Z.C.  None   \n25            Article             Kelley K.P.  None   \n26            Article      Paredes-Navia S.A.  None   \n\n                                            affilname  ...    pageRange  \\\n0      Nanchang Normal University;Nanchang University  ...  58949-58955   \n1                                  Tianjin University  ...         None   \n2                                 Tsinghua University  ...         None   \n3   Ningbo Institute of Industrial Technology, Chi...  ...         None   \n4                              Paul Scherrer Institut  ...         None   \n5   Institut de Physique des Matériaux, Bucarest-M...  ...         None   \n6   Hefei National Laboratory for Physical Science...  ...         None   \n7   Shubnikov Institute of Crystallography, Russia...  ...    1085-1089   \n8        Kunming University of Science and Technology  ...  30671-30676   \n9                              Université de Lorraine  ...         None   \n10  Fujian Normal University;Fujian Provincial Eng...  ...  26768-26778   \n11  Indian Association for the Cultivation of Science  ...         None   \n12           Indira Gandhi Centre for Atomic Research  ...    1955-1960   \n13                     Los Alamos National Laboratory  ...         None   \n14                                   Anhui University  ...         None   \n15                                   Hohai University  ...         None   \n16                  Saha Institute of Nuclear Physics  ...         None   \n17  Laboratoire de Physique du Solide, Université ...  ...      419-429   \n18                              University of Kalyani  ...         None   \n19                     University of Colorado Boulder  ...         None   \n20                               Universitetet i Oslo  ...    2576-2584   \n21                             University of Virginia  ...         None   \n22  High Energy Accelerator Research Organization,...  ...         None   \n23                          Universiti Putra Malaysia  ...         None   \n24                                     Boston College  ...         None   \n25                      Oak Ridge National Laboratory  ...    9166-9173   \n26                           West Virginia University  ...         None   \n\n   description authkeywords citedby_count openaccess          freetoread  \\\n0         None         None             2          0        repositoryam   \n1         None         None             3          0                None   \n2         None         None             1          0                None   \n3         None         None            10          0                None   \n4         None         None             3          0       repositoryvor   \n5         None         None             5          1       repositoryvor   \n6         None         None            14          1        repositoryam   \n7         None         None             0          0                None   \n8         None         None             1          0                None   \n9         None         None             6          0       repositoryvor   \n10        None         None             2          0                None   \n11        None         None             4          0        repositoryam   \n12        None         None             3          0                None   \n13        None         None             1          0        repositoryam   \n14        None         None             7          0                None   \n15        None         None             4          0                None   \n16        None         None             0          0                None   \n17        None         None             0          0                None   \n18        None         None             2          0                None   \n19        None         None            21          0        repositoryam   \n20        None         None             1          1       repositoryvor   \n21        None         None             5          0        repositoryam   \n22        None         None             2          0        repositoryam   \n23        None         None            11          1        repositoryam   \n24        None         None            22          1        repositoryam   \n25        None         None             3          0        repositoryam   \n26        None         None             3          1  publisherfree2read   \n\n   freetoreadLabel fund_acr fund_no fund_sponsor  \n0            Green     None    None         None  \n1             None     None    None         None  \n2             None     None    None         None  \n3             None     None    None         None  \n4            Green     None    None         None  \n5            Green     None    None         None  \n6            Green     None    None         None  \n7             None     None    None         None  \n8             None     None    None         None  \n9            Green     None    None         None  \n10            None     None    None         None  \n11           Green     None    None         None  \n12            None     None    None         None  \n13           Green     None    None         None  \n14            None     None    None         None  \n15            None     None    None         None  \n16            None     None    None         None  \n17            None     None    None         None  \n18            None     None    None         None  \n19           Green     None    None         None  \n20           Green     None    None         None  \n21           Green     None    None         None  \n22           Green     None    None         None  \n23           Green     None    None         None  \n24           Green     None    None         None  \n25           Green     None    None         None  \n26          Bronze     None    None         None  \n\n[27 rows x 36 columns]",
      "text/html": "<div>\n<style scoped>\n    .dataframe tbody tr th:only-of-type {\n        vertical-align: middle;\n    }\n\n    .dataframe tbody tr th {\n        vertical-align: top;\n    }\n\n    .dataframe thead th {\n        text-align: right;\n    }\n</style>\n<table border=\"1\" class=\"dataframe\">\n  <thead>\n    <tr style=\"text-align: right;\">\n      <th></th>\n      <th>eid</th>\n      <th>doi</th>\n      <th>pii</th>\n      <th>pubmed_id</th>\n      <th>title</th>\n      <th>subtype</th>\n      <th>subtypeDescription</th>\n      <th>creator</th>\n      <th>afid</th>\n      <th>affilname</th>\n      <th>...</th>\n      <th>pageRange</th>\n      <th>description</th>\n      <th>authkeywords</th>\n      <th>citedby_count</th>\n      <th>openaccess</th>\n      <th>freetoread</th>\n      <th>freetoreadLabel</th>\n      <th>fund_acr</th>\n      <th>fund_no</th>\n      <th>fund_sponsor</th>\n    </tr>\n  </thead>\n  <tbody>\n    <tr>\n      <th>0</th>\n      <td>2-s2.0-85120860311</td>\n      <td>10.1021/acsami.1c18848</td>\n      <td>None</td>\n      <td>34854300</td>\n      <td>Colossal Magnetoresistance in Ti Lightly Doped...</td>\n      <td>ar</td>\n      <td>Article</td>\n      <td>Zhang S.J.</td>\n      <td>None</td>\n      <td>Nanchang Normal University;Nanchang University</td>\n      <td>...</td>\n      <td>58949-58955</td>\n      <td>None</td>\n      <td>None</td>\n      <td>2</td>\n      <td>0</td>\n      <td>repositoryam</td>\n      <td>Green</td>\n      <td>None</td>\n      <td>None</td>\n      <td>None</td>\n    </tr>\n    <tr>\n      <th>1</th>\n      <td>2-s2.0-85113644606</td>\n      <td>10.1016/j.apsusc.2021.151032</td>\n      <td>S0169433221020894</td>\n      <td>None</td>\n      <td>Antiferromagnetic metallic state and low-tempe...</td>\n      <td>ar</td>\n      <td>Article</td>\n      <td>Chen H.</td>\n      <td>None</td>\n      <td>Tianjin University</td>\n      <td>...</td>\n      <td>None</td>\n      <td>None</td>\n      <td>None</td>\n      <td>3</td>\n      <td>0</td>\n      <td>None</td>\n      <td>None</td>\n      <td>None</td>\n      <td>None</td>\n      <td>None</td>\n    </tr>\n    <tr>\n      <th>2</th>\n      <td>2-s2.0-85111517063</td>\n      <td>10.1016/j.jallcom.2021.161311</td>\n      <td>S0925838821027201</td>\n      <td>None</td>\n      <td>Annealing modulated magnetism in double-perovs...</td>\n      <td>ar</td>\n      <td>Article</td>\n      <td>Wu J.</td>\n      <td>None</td>\n      <td>Tsinghua University</td>\n      <td>...</td>\n      <td>None</td>\n      <td>None</td>\n      <td>None</td>\n      <td>1</td>\n      <td>0</td>\n      <td>None</td>\n      <td>None</td>\n      <td>None</td>\n      <td>None</td>\n      <td>None</td>\n    </tr>\n    <tr>\n      <th>3</th>\n      <td>2-s2.0-85122039471</td>\n      <td>10.1103/PhysRevB.104.214419</td>\n      <td>None</td>\n      <td>None</td>\n      <td>Colossal angular magnetoresistance in the anti...</td>\n      <td>ar</td>\n      <td>Article</td>\n      <td>Yang H.</td>\n      <td>None</td>\n      <td>Ningbo Institute of Industrial Technology, Chi...</td>\n      <td>...</td>\n      <td>None</td>\n      <td>None</td>\n      <td>None</td>\n      <td>10</td>\n      <td>0</td>\n      <td>None</td>\n      <td>None</td>\n      <td>None</td>\n      <td>None</td>\n      <td>None</td>\n    </tr>\n    <tr>\n      <th>4</th>\n      <td>2-s2.0-85121616280</td>\n      <td>10.1103/PhysRevMaterials.5.124404</td>\n      <td>None</td>\n      <td>None</td>\n      <td>Interplay between magnetism and interface-indu...</td>\n      <td>ar</td>\n      <td>Article</td>\n      <td>Zakharova A.</td>\n      <td>None</td>\n      <td>Paul Scherrer Institut</td>\n      <td>...</td>\n      <td>None</td>\n      <td>None</td>\n      <td>None</td>\n      <td>3</td>\n      <td>0</td>\n      <td>repositoryvor</td>\n      <td>Green</td>\n      <td>None</td>\n      <td>None</td>\n      <td>None</td>\n    </tr>\n    <tr>\n      <th>5</th>\n      <td>2-s2.0-85121055937</td>\n      <td>10.3390/nano11123389</td>\n      <td>None</td>\n      <td>None</td>\n      <td>Influence of thickness on the magnetic and mag...</td>\n      <td>ar</td>\n      <td>Article</td>\n      <td>Greculeasa S.G.</td>\n      <td>None</td>\n      <td>Institut de Physique des Matériaux, Bucarest-M...</td>\n      <td>...</td>\n      <td>None</td>\n      <td>None</td>\n      <td>None</td>\n      <td>5</td>\n      <td>1</td>\n      <td>repositoryvor</td>\n      <td>Green</td>\n      <td>None</td>\n      <td>None</td>\n      <td>None</td>\n    </tr>\n    <tr>\n      <th>6</th>\n      <td>2-s2.0-85119333485</td>\n      <td>10.1038/s41535-021-00397-4</td>\n      <td>None</td>\n      <td>None</td>\n      <td>Field-induced metal-to-insulator transition an...</td>\n      <td>ar</td>\n      <td>Article</td>\n      <td>Sun Z.L.</td>\n      <td>None</td>\n      <td>Hefei National Laboratory for Physical Science...</td>\n      <td>...</td>\n      <td>None</td>\n      <td>None</td>\n      <td>None</td>\n      <td>14</td>\n      <td>1</td>\n      <td>repositoryam</td>\n      <td>Green</td>\n      <td>None</td>\n      <td>None</td>\n      <td>None</td>\n    </tr>\n    <tr>\n      <th>7</th>\n      <td>2-s2.0-85121398277</td>\n      <td>10.1134/S1063774521060407</td>\n      <td>None</td>\n      <td>None</td>\n      <td>Self-Organized Quantum Dots from a Material wi...</td>\n      <td>ar</td>\n      <td>Article</td>\n      <td>Stepantsov E.A.</td>\n      <td>None</td>\n      <td>Shubnikov Institute of Crystallography, Russia...</td>\n      <td>...</td>\n      <td>1085-1089</td>\n      <td>None</td>\n      <td>None</td>\n      <td>0</td>\n      <td>0</td>\n      <td>None</td>\n      <td>None</td>\n      <td>None</td>\n      <td>None</td>\n      <td>None</td>\n    </tr>\n    <tr>\n      <th>8</th>\n      <td>2-s2.0-85111957772</td>\n      <td>10.1016/j.ceramint.2021.07.245</td>\n      <td>S0272884221022987</td>\n      <td>None</td>\n      <td>Colossal magnetoresistive polycrystalline La&lt;i...</td>\n      <td>ar</td>\n      <td>Article</td>\n      <td>Yang Y.</td>\n      <td>None</td>\n      <td>Kunming University of Science and Technology</td>\n      <td>...</td>\n      <td>30671-30676</td>\n      <td>None</td>\n      <td>None</td>\n      <td>1</td>\n      <td>0</td>\n      <td>None</td>\n      <td>None</td>\n      <td>None</td>\n      <td>None</td>\n      <td>None</td>\n    </tr>\n    <tr>\n      <th>9</th>\n      <td>2-s2.0-85117251342</td>\n      <td>10.1103/PhysRevMaterials.5.104401</td>\n      <td>None</td>\n      <td>None</td>\n      <td>Magnetic-field-induced structural phase transi...</td>\n      <td>ar</td>\n      <td>Article</td>\n      <td>Diop L.V.B.</td>\n      <td>None</td>\n      <td>Université de Lorraine</td>\n      <td>...</td>\n      <td>None</td>\n      <td>None</td>\n      <td>None</td>\n      <td>6</td>\n      <td>0</td>\n      <td>repositoryvor</td>\n      <td>Green</td>\n      <td>None</td>\n      <td>None</td>\n      <td>None</td>\n    </tr>\n    <tr>\n      <th>10</th>\n      <td>2-s2.0-85108353404</td>\n      <td>10.1016/j.ceramint.2021.06.085</td>\n      <td>S0272884221018241</td>\n      <td>None</td>\n      <td>The novel positive colossal electroresistance ...</td>\n      <td>ar</td>\n      <td>Article</td>\n      <td>Jia H.</td>\n      <td>None</td>\n      <td>Fujian Normal University;Fujian Provincial Eng...</td>\n      <td>...</td>\n      <td>26768-26778</td>\n      <td>None</td>\n      <td>None</td>\n      <td>2</td>\n      <td>0</td>\n      <td>None</td>\n      <td>None</td>\n      <td>None</td>\n      <td>None</td>\n      <td>None</td>\n    </tr>\n    <tr>\n      <th>11</th>\n      <td>2-s2.0-85111337999</td>\n      <td>10.1103/PhysRevB.104.045149</td>\n      <td>None</td>\n      <td>None</td>\n      <td>Colossal electroresistance response accompanie...</td>\n      <td>ar</td>\n      <td>Article</td>\n      <td>Saha R.A.</td>\n      <td>None</td>\n      <td>Indian Association for the Cultivation of Science</td>\n      <td>...</td>\n      <td>None</td>\n      <td>None</td>\n      <td>None</td>\n      <td>4</td>\n      <td>0</td>\n      <td>repositoryam</td>\n      <td>Green</td>\n      <td>None</td>\n      <td>None</td>\n      <td>None</td>\n    </tr>\n    <tr>\n      <th>12</th>\n      <td>2-s2.0-85114062385</td>\n      <td>10.1007/s10948-021-05889-9</td>\n      <td>None</td>\n      <td>None</td>\n      <td>Studies on Colossal Magnetoresistance Behaviou...</td>\n      <td>ar</td>\n      <td>Article</td>\n      <td>Gayathri V.</td>\n      <td>None</td>\n      <td>Indira Gandhi Centre for Atomic Research</td>\n      <td>...</td>\n      <td>1955-1960</td>\n      <td>None</td>\n      <td>None</td>\n      <td>3</td>\n      <td>0</td>\n      <td>None</td>\n      <td>None</td>\n      <td>None</td>\n      <td>None</td>\n      <td>None</td>\n    </tr>\n    <tr>\n      <th>13</th>\n      <td>2-s2.0-85113228198</td>\n      <td>10.1103/PhysRevMaterials.5.074603</td>\n      <td>None</td>\n      <td>None</td>\n      <td>Narrow-gap semiconducting behavior in antiferr...</td>\n      <td>ar</td>\n      <td>Article</td>\n      <td>Fender S.S.</td>\n      <td>None</td>\n      <td>Los Alamos National Laboratory</td>\n      <td>...</td>\n      <td>None</td>\n      <td>None</td>\n      <td>None</td>\n      <td>1</td>\n      <td>0</td>\n      <td>repositoryam</td>\n      <td>Green</td>\n      <td>None</td>\n      <td>None</td>\n      <td>None</td>\n    </tr>\n    <tr>\n      <th>14</th>\n      <td>2-s2.0-85103668867</td>\n      <td>10.1088/1361-6528/abeb39</td>\n      <td>None</td>\n      <td>None</td>\n      <td>Spin-Seebeck effect and thermal colossal magne...</td>\n      <td>ar</td>\n      <td>Article</td>\n      <td>Wu D.D.</td>\n      <td>None</td>\n      <td>Anhui University</td>\n      <td>...</td>\n      <td>None</td>\n      <td>None</td>\n      <td>None</td>\n      <td>7</td>\n      <td>0</td>\n      <td>None</td>\n      <td>None</td>\n      <td>None</td>\n      <td>None</td>\n      <td>None</td>\n    </tr>\n    <tr>\n      <th>15</th>\n      <td>2-s2.0-85110341101</td>\n      <td>10.1016/j.commatsci.2021.110406</td>\n      <td>S0927025621001312</td>\n      <td>None</td>\n      <td>A highly accurate interatomic potential for La...</td>\n      <td>ar</td>\n      <td>Article</td>\n      <td>Qu X.Y.</td>\n      <td>None</td>\n      <td>Hohai University</td>\n      <td>...</td>\n      <td>None</td>\n      <td>None</td>\n      <td>None</td>\n      <td>4</td>\n      <td>0</td>\n      <td>None</td>\n      <td>None</td>\n      <td>None</td>\n      <td>None</td>\n      <td>None</td>\n    </tr>\n    <tr>\n      <th>16</th>\n      <td>2-s2.0-85106539171</td>\n      <td>10.1088/1361-648X/abf6a7</td>\n      <td>None</td>\n      <td>33836523</td>\n      <td>Real-space imaging of magnetic phase transform...</td>\n      <td>ar</td>\n      <td>Article</td>\n      <td>Mazumdar D.</td>\n      <td>None</td>\n      <td>Saha Institute of Nuclear Physics</td>\n      <td>...</td>\n      <td>None</td>\n      <td>None</td>\n      <td>None</td>\n      <td>0</td>\n      <td>0</td>\n      <td>None</td>\n      <td>None</td>\n      <td>None</td>\n      <td>None</td>\n      <td>None</td>\n    </tr>\n    <tr>\n      <th>17</th>\n      <td>2-s2.0-85104897327</td>\n      <td>10.1007/s10909-021-02592-w</td>\n      <td>None</td>\n      <td>None</td>\n      <td>Electronic, Magnetic Properties and Magnetocal...</td>\n      <td>ar</td>\n      <td>Article</td>\n      <td>Erchidi Elyacoubi A.S.</td>\n      <td>None</td>\n      <td>Laboratoire de Physique du Solide, Université ...</td>\n      <td>...</td>\n      <td>419-429</td>\n      <td>None</td>\n      <td>None</td>\n      <td>0</td>\n      <td>0</td>\n      <td>None</td>\n      <td>None</td>\n      <td>None</td>\n      <td>None</td>\n      <td>None</td>\n    </tr>\n    <tr>\n      <th>18</th>\n      <td>2-s2.0-85100234691</td>\n      <td>10.1016/j.jmmm.2021.167738</td>\n      <td>S0304885321000147</td>\n      <td>None</td>\n      <td>Structural, magnetic and magneto-transport pro...</td>\n      <td>ar</td>\n      <td>Article</td>\n      <td>Debnath M.</td>\n      <td>None</td>\n      <td>University of Kalyani</td>\n      <td>...</td>\n      <td>None</td>\n      <td>None</td>\n      <td>None</td>\n      <td>2</td>\n      <td>0</td>\n      <td>None</td>\n      <td>None</td>\n      <td>None</td>\n      <td>None</td>\n      <td>None</td>\n    </tr>\n    <tr>\n      <th>19</th>\n      <td>2-s2.0-85104374464</td>\n      <td>10.1103/PhysRevB.103.L161105</td>\n      <td>None</td>\n      <td>None</td>\n      <td>Colossal magnetoresistance via avoiding fully ...</td>\n      <td>ar</td>\n      <td>Article</td>\n      <td>Ni Y.</td>\n      <td>None</td>\n      <td>University of Colorado Boulder</td>\n      <td>...</td>\n      <td>None</td>\n      <td>None</td>\n      <td>None</td>\n      <td>21</td>\n      <td>0</td>\n      <td>repositoryam</td>\n      <td>Green</td>\n      <td>None</td>\n      <td>None</td>\n      <td>None</td>\n    </tr>\n    <tr>\n      <th>20</th>\n      <td>2-s2.0-85103766313</td>\n      <td>10.1021/acs.chemmater.1c00128</td>\n      <td>None</td>\n      <td>None</td>\n      <td>Total Scattering Study of Local Structural Cha...</td>\n      <td>ar</td>\n      <td>Article</td>\n      <td>Saha D.</td>\n      <td>None</td>\n      <td>Universitetet i Oslo</td>\n      <td>...</td>\n      <td>2576-2584</td>\n      <td>None</td>\n      <td>None</td>\n      <td>1</td>\n      <td>1</td>\n      <td>repositoryvor</td>\n      <td>Green</td>\n      <td>None</td>\n      <td>None</td>\n      <td>None</td>\n    </tr>\n    <tr>\n      <th>21</th>\n      <td>2-s2.0-85103829517</td>\n      <td>10.1103/PhysRevB.103.115137</td>\n      <td>None</td>\n      <td>None</td>\n      <td>Dynamics of electronically phase-separated sta...</td>\n      <td>ar</td>\n      <td>Article</td>\n      <td>Luo J.</td>\n      <td>None</td>\n      <td>University of Virginia</td>\n      <td>...</td>\n      <td>None</td>\n      <td>None</td>\n      <td>None</td>\n      <td>5</td>\n      <td>0</td>\n      <td>repositoryam</td>\n      <td>Green</td>\n      <td>None</td>\n      <td>None</td>\n      <td>None</td>\n    </tr>\n    <tr>\n      <th>22</th>\n      <td>2-s2.0-85102856187</td>\n      <td>10.1103/PhysRevB.103.094302</td>\n      <td>None</td>\n      <td>None</td>\n      <td>Origin of magnetovolume effect in a cobaltite</td>\n      <td>ar</td>\n      <td>Article</td>\n      <td>Miao P.</td>\n      <td>None</td>\n      <td>High Energy Accelerator Research Organization,...</td>\n      <td>...</td>\n      <td>None</td>\n      <td>None</td>\n      <td>None</td>\n      <td>2</td>\n      <td>0</td>\n      <td>repositoryam</td>\n      <td>Green</td>\n      <td>None</td>\n      <td>None</td>\n      <td>None</td>\n    </tr>\n    <tr>\n      <th>23</th>\n      <td>2-s2.0-85103814857</td>\n      <td>10.3390/coatings11030361</td>\n      <td>None</td>\n      <td>None</td>\n      <td>The physical properties of submicron and nano-...</td>\n      <td>ar</td>\n      <td>Article</td>\n      <td>Lau L.N.</td>\n      <td>None</td>\n      <td>Universiti Putra Malaysia</td>\n      <td>...</td>\n      <td>None</td>\n      <td>None</td>\n      <td>None</td>\n      <td>11</td>\n      <td>1</td>\n      <td>repositoryam</td>\n      <td>Green</td>\n      <td>None</td>\n      <td>None</td>\n      <td>None</td>\n    </tr>\n    <tr>\n      <th>24</th>\n      <td>2-s2.0-85099800486</td>\n      <td>10.1002/adma.202005755</td>\n      <td>None</td>\n      <td>33511677</td>\n      <td>Colossal Magnetoresistance without Mixed Valen...</td>\n      <td>ar</td>\n      <td>Article</td>\n      <td>Wang Z.C.</td>\n      <td>None</td>\n      <td>Boston College</td>\n      <td>...</td>\n      <td>None</td>\n      <td>None</td>\n      <td>None</td>\n      <td>22</td>\n      <td>1</td>\n      <td>repositoryam</td>\n      <td>Green</td>\n      <td>None</td>\n      <td>None</td>\n      <td>None</td>\n    </tr>\n    <tr>\n      <th>25</th>\n      <td>2-s2.0-85101496901</td>\n      <td>10.1021/acsami.0c20166</td>\n      <td>None</td>\n      <td>33566561</td>\n      <td>Exotic long-range surface reconstruction on La...</td>\n      <td>ar</td>\n      <td>Article</td>\n      <td>Kelley K.P.</td>\n      <td>None</td>\n      <td>Oak Ridge National Laboratory</td>\n      <td>...</td>\n      <td>9166-9173</td>\n      <td>None</td>\n      <td>None</td>\n      <td>3</td>\n      <td>0</td>\n      <td>repositoryam</td>\n      <td>Green</td>\n      <td>None</td>\n      <td>None</td>\n      <td>None</td>\n    </tr>\n    <tr>\n      <th>26</th>\n      <td>2-s2.0-85095736458</td>\n      <td>10.1016/j.jssc.2020.121831</td>\n      <td>S0022459620306629</td>\n      <td>None</td>\n      <td>Electrical conductivity increase by order of m...</td>\n      <td>ar</td>\n      <td>Article</td>\n      <td>Paredes-Navia S.A.</td>\n      <td>None</td>\n      <td>West Virginia University</td>\n      <td>...</td>\n      <td>None</td>\n      <td>None</td>\n      <td>None</td>\n      <td>3</td>\n      <td>1</td>\n      <td>publisherfree2read</td>\n      <td>Bronze</td>\n      <td>None</td>\n      <td>None</td>\n      <td>None</td>\n    </tr>\n  </tbody>\n</table>\n<p>27 rows × 36 columns</p>\n</div>"
     },
     "execution_count": 48,
     "metadata": {},
     "output_type": "execute_result"
    }
   ],
   "source": [
    "df"
   ],
   "metadata": {
    "collapsed": false,
    "ExecuteTime": {
     "end_time": "2023-09-04T10:35:41.478503Z",
     "start_time": "2023-09-04T10:35:41.474652Z"
    }
   }
  },
  {
   "cell_type": "code",
   "execution_count": 22,
   "outputs": [
    {
     "data": {
      "text/plain": "0"
     },
     "execution_count": 22,
     "metadata": {},
     "output_type": "execute_result"
    }
   ],
   "source": [
    "df.doi.isna().sum()"
   ],
   "metadata": {
    "collapsed": false,
    "ExecuteTime": {
     "end_time": "2023-09-04T10:09:52.703766Z",
     "start_time": "2023-09-04T10:09:52.698601Z"
    }
   }
  },
  {
   "cell_type": "code",
   "execution_count": 23,
   "outputs": [
    {
     "name": "stdout",
     "output_type": "stream",
     "text": [
      "<class 'pandas.core.frame.DataFrame'>\n",
      "RangeIndex: 27 entries, 0 to 26\n",
      "Data columns (total 36 columns):\n",
      " #   Column               Non-Null Count  Dtype \n",
      "---  ------               --------------  ----- \n",
      " 0   eid                  27 non-null     object\n",
      " 1   doi                  27 non-null     object\n",
      " 2   pii                  7 non-null      object\n",
      " 3   pubmed_id            4 non-null      object\n",
      " 4   title                27 non-null     object\n",
      " 5   subtype              27 non-null     object\n",
      " 6   subtypeDescription   27 non-null     object\n",
      " 7   creator              27 non-null     object\n",
      " 8   afid                 0 non-null      object\n",
      " 9   affilname            27 non-null     object\n",
      " 10  affiliation_city     27 non-null     object\n",
      " 11  affiliation_country  27 non-null     object\n",
      " 12  author_count         0 non-null      object\n",
      " 13  author_names         0 non-null      object\n",
      " 14  author_ids           0 non-null      object\n",
      " 15  author_afids         0 non-null      object\n",
      " 16  coverDate            27 non-null     object\n",
      " 17  coverDisplayDate     27 non-null     object\n",
      " 18  publicationName      27 non-null     object\n",
      " 19  issn                 21 non-null     object\n",
      " 20  source_id            27 non-null     object\n",
      " 21  eIssn                21 non-null     object\n",
      " 22  aggregationType      27 non-null     object\n",
      " 23  volume               27 non-null     object\n",
      " 24  issueIdentifier      22 non-null     object\n",
      " 25  article_number       19 non-null     object\n",
      " 26  pageRange            8 non-null      object\n",
      " 27  description          0 non-null      object\n",
      " 28  authkeywords         0 non-null      object\n",
      " 29  citedby_count        27 non-null     int64 \n",
      " 30  openaccess           27 non-null     int64 \n",
      " 31  freetoread           15 non-null     object\n",
      " 32  freetoreadLabel      15 non-null     object\n",
      " 33  fund_acr             0 non-null      object\n",
      " 34  fund_no              0 non-null      object\n",
      " 35  fund_sponsor         0 non-null      object\n",
      "dtypes: int64(2), object(34)\n",
      "memory usage: 7.7+ KB\n"
     ]
    }
   ],
   "source": [
    "df.info()"
   ],
   "metadata": {
    "collapsed": false,
    "ExecuteTime": {
     "end_time": "2023-09-04T10:09:53.602006Z",
     "start_time": "2023-09-04T10:09:53.596640Z"
    }
   }
  },
  {
   "cell_type": "code",
   "execution_count": 24,
   "outputs": [],
   "source": [
    "#df = df.dropna(subset=['doi'])"
   ],
   "metadata": {
    "collapsed": false,
    "ExecuteTime": {
     "end_time": "2023-09-04T10:09:58.795161Z",
     "start_time": "2023-09-04T10:09:58.786860Z"
    }
   }
  },
  {
   "cell_type": "code",
   "execution_count": 25,
   "outputs": [
    {
     "name": "stderr",
     "output_type": "stream",
     "text": [
      "  0%|          | 0/20 [00:00<?, ?it/s]\u001B[1m[INFO]\u001B[0m | \u001B[32m2023/09/04 13:10:09\u001B[0m | \u001B[1mChoose scihub url [0]: https://sci-hub.ru\u001B[0m\n",
      "\u001B[1m[INFO]\u001B[0m | \u001B[32m2023/09/04 13:10:09\u001B[0m | \u001B[1m<- Request: scihub_url=https://sci-hub.ru, source=DoiSource[type=doi, id=sci-hub.ru/10.1103/PhysRevB.104.045149], proxies={'http': 'socks5://127.0.0.1:7890'}\u001B[0m\n",
      "\u001B[1m[INFO]\u001B[0m | \u001B[32m2023/09/04 13:10:10\u001B[0m | \u001B[1m-> Response: status_code=200, content_length=7077\u001B[0m\n",
      "\u001B[1m[INFO]\u001B[0m | \u001B[32m2023/09/04 13:10:10\u001B[0m | \u001B[1m* Extracted information: {'url': 'https://sci-hub.ru/downloads/2021-08-12/78/saha2021.pdf', 'title': 'Colossal electroresistance response accompanied by metal-insulator transition in a mixed-valent vanadate. Physical Review B, 104(4)'}\u001B[0m\n"
     ]
    },
    {
     "name": "stdout",
     "output_type": "stream",
     "text": [
      "100% [==================================================] 4561875/4561875\n"
     ]
    },
    {
     "name": "stderr",
     "output_type": "stream",
     "text": [
      "\u001B[1m[INFO]\u001B[0m | \u001B[32m2023/09/04 13:10:11\u001B[0m | \u001B[1m↓ Successfully download the url to: ./papers/paper_PhysRevB.104.045149.pdf\u001B[0m\n",
      "  5%|▌         | 1/20 [00:11<03:46, 11.91s/it]\u001B[1m[INFO]\u001B[0m | \u001B[32m2023/09/04 13:10:21\u001B[0m | \u001B[1mChoose scihub url [0]: https://sci-hub.ru\u001B[0m\n",
      "\u001B[1m[INFO]\u001B[0m | \u001B[32m2023/09/04 13:10:21\u001B[0m | \u001B[1m<- Request: scihub_url=https://sci-hub.ru, source=DoiSource[type=doi, id=sci-hub.ru/10.1088/1361-6528/abeb39], proxies={'http': 'socks5://127.0.0.1:7890'}\u001B[0m\n",
      "\u001B[1m[INFO]\u001B[0m | \u001B[32m2023/09/04 13:10:21\u001B[0m | \u001B[1m-> Response: status_code=200, content_length=5951\u001B[0m\n",
      "\u001B[33m\u001B[1m[WARNING]\u001B[0m | \u001B[32m2023/09/04 13:10:21\u001B[0m | \u001B[33m\u001B[1mError occurs, task status: extracting_failed, error: No pdf tag was found in the given content with the selector: #pdf\u001B[0m\n",
      "\u001B[1m[INFO]\u001B[0m | \u001B[32m2023/09/04 13:10:21\u001B[0m | \u001B[1mChoose scihub url [1]: https://sci-hub.st\u001B[0m\n",
      "\u001B[1m[INFO]\u001B[0m | \u001B[32m2023/09/04 13:10:21\u001B[0m | \u001B[1m<- Request: scihub_url=https://sci-hub.st, source=DoiSource[type=doi, id=sci-hub.ru/10.1088/1361-6528/abeb39], proxies={'http': 'socks5://127.0.0.1:7890'}\u001B[0m\n",
      "\u001B[33m\u001B[1m[WARNING]\u001B[0m | \u001B[32m2023/09/04 13:10:40\u001B[0m | \u001B[33m\u001B[1mError occurs, task status: crawling_failed, error: HTTPSConnectionPool(host='sci-hub.st', port=443): Read timed out. (read timeout=None)\u001B[0m\n",
      "\u001B[1m[INFO]\u001B[0m | \u001B[32m2023/09/04 13:10:40\u001B[0m | \u001B[1mChoose scihub url [2]: https://sci-hub.se\u001B[0m\n",
      "\u001B[1m[INFO]\u001B[0m | \u001B[32m2023/09/04 13:10:40\u001B[0m | \u001B[1m<- Request: scihub_url=https://sci-hub.se, source=DoiSource[type=doi, id=sci-hub.ru/10.1088/1361-6528/abeb39], proxies={'http': 'socks5://127.0.0.1:7890'}\u001B[0m\n",
      "\u001B[33m\u001B[1m[WARNING]\u001B[0m | \u001B[32m2023/09/04 13:10:58\u001B[0m | \u001B[33m\u001B[1mError occurs, task status: crawling_failed, error: HTTPSConnectionPool(host='sci-hub.se', port=443): Read timed out. (read timeout=None)\u001B[0m\n",
      "\u001B[1m[INFO]\u001B[0m | \u001B[32m2023/09/04 13:10:58\u001B[0m | \u001B[1mChoose scihub url [3]: http://sci-hub.ru\u001B[0m\n",
      "\u001B[1m[INFO]\u001B[0m | \u001B[32m2023/09/04 13:10:58\u001B[0m | \u001B[1m<- Request: scihub_url=http://sci-hub.ru, source=DoiSource[type=doi, id=sci-hub.ru/10.1088/1361-6528/abeb39], proxies={'http': 'socks5://127.0.0.1:7890'}\u001B[0m\n",
      "\u001B[33m\u001B[1m[WARNING]\u001B[0m | \u001B[32m2023/09/04 13:10:58\u001B[0m | \u001B[33m\u001B[1mError occurs, task status: crawling_failed, error: SOCKSHTTPConnectionPool(host='sci-hub.ru', port=80): Max retries exceeded with url: / (Caused by NewConnectionError('<urllib3.contrib.socks.SOCKSConnection object at 0x13ca72ef0>: Failed to establish a new connection: [Errno 61] Connection refused'))\u001B[0m\n",
      "\u001B[1m[INFO]\u001B[0m | \u001B[32m2023/09/04 13:10:58\u001B[0m | \u001B[1mChoose scihub url [4]: http://sci-hub.st\u001B[0m\n",
      "\u001B[1m[INFO]\u001B[0m | \u001B[32m2023/09/04 13:10:58\u001B[0m | \u001B[1m<- Request: scihub_url=http://sci-hub.st, source=DoiSource[type=doi, id=sci-hub.ru/10.1088/1361-6528/abeb39], proxies={'http': 'socks5://127.0.0.1:7890'}\u001B[0m\n",
      "\u001B[33m\u001B[1m[WARNING]\u001B[0m | \u001B[32m2023/09/04 13:10:58\u001B[0m | \u001B[33m\u001B[1mError occurs, task status: crawling_failed, error: SOCKSHTTPConnectionPool(host='sci-hub.st', port=80): Max retries exceeded with url: / (Caused by NewConnectionError('<urllib3.contrib.socks.SOCKSConnection object at 0x13cad1720>: Failed to establish a new connection: [Errno 61] Connection refused'))\u001B[0m\n",
      "\u001B[1m[INFO]\u001B[0m | \u001B[32m2023/09/04 13:10:58\u001B[0m | \u001B[1mChoose scihub url [5]: http://sci-hub.se\u001B[0m\n",
      "\u001B[1m[INFO]\u001B[0m | \u001B[32m2023/09/04 13:10:58\u001B[0m | \u001B[1m<- Request: scihub_url=http://sci-hub.se, source=DoiSource[type=doi, id=sci-hub.ru/10.1088/1361-6528/abeb39], proxies={'http': 'socks5://127.0.0.1:7890'}\u001B[0m\n",
      "\u001B[33m\u001B[1m[WARNING]\u001B[0m | \u001B[32m2023/09/04 13:10:58\u001B[0m | \u001B[33m\u001B[1mError occurs, task status: crawling_failed, error: SOCKSHTTPConnectionPool(host='sci-hub.se', port=80): Max retries exceeded with url: / (Caused by NewConnectionError('<urllib3.contrib.socks.SOCKSConnection object at 0x13cd0de10>: Failed to establish a new connection: [Errno 61] Connection refused'))\u001B[0m\n",
      "\u001B[31m\u001B[1m[ERROR]\u001B[0m | \u001B[32m2023/09/04 13:10:58\u001B[0m | \u001B[31m\u001B[1mFailed to download the paper: https://sci-hub.ru/10.1088/1361-6528/abeb39. Please try again.\u001B[0m\n",
      " 10%|█         | 2/20 [00:58<09:44, 32.47s/it]\u001B[1m[INFO]\u001B[0m | \u001B[32m2023/09/04 13:11:08\u001B[0m | \u001B[1mChoose scihub url [0]: https://sci-hub.ru\u001B[0m\n",
      "\u001B[1m[INFO]\u001B[0m | \u001B[32m2023/09/04 13:11:08\u001B[0m | \u001B[1m<- Request: scihub_url=https://sci-hub.ru, source=DoiSource[type=doi, id=sci-hub.ru/10.1103/PhysRevB.104.214419], proxies={'http': 'socks5://127.0.0.1:7890'}\u001B[0m\n",
      "\u001B[1m[INFO]\u001B[0m | \u001B[32m2023/09/04 13:11:08\u001B[0m | \u001B[1m-> Response: status_code=200, content_length=5954\u001B[0m\n",
      "\u001B[33m\u001B[1m[WARNING]\u001B[0m | \u001B[32m2023/09/04 13:11:08\u001B[0m | \u001B[33m\u001B[1mError occurs, task status: extracting_failed, error: No pdf tag was found in the given content with the selector: #pdf\u001B[0m\n",
      "\u001B[1m[INFO]\u001B[0m | \u001B[32m2023/09/04 13:11:08\u001B[0m | \u001B[1mChoose scihub url [1]: https://sci-hub.st\u001B[0m\n",
      "\u001B[1m[INFO]\u001B[0m | \u001B[32m2023/09/04 13:11:08\u001B[0m | \u001B[1m<- Request: scihub_url=https://sci-hub.st, source=DoiSource[type=doi, id=sci-hub.ru/10.1103/PhysRevB.104.214419], proxies={'http': 'socks5://127.0.0.1:7890'}\u001B[0m\n",
      "\u001B[33m\u001B[1m[WARNING]\u001B[0m | \u001B[32m2023/09/04 13:11:26\u001B[0m | \u001B[33m\u001B[1mError occurs, task status: crawling_failed, error: HTTPSConnectionPool(host='sci-hub.st', port=443): Read timed out. (read timeout=None)\u001B[0m\n",
      "\u001B[1m[INFO]\u001B[0m | \u001B[32m2023/09/04 13:11:26\u001B[0m | \u001B[1mChoose scihub url [2]: https://sci-hub.se\u001B[0m\n",
      "\u001B[1m[INFO]\u001B[0m | \u001B[32m2023/09/04 13:11:26\u001B[0m | \u001B[1m<- Request: scihub_url=https://sci-hub.se, source=DoiSource[type=doi, id=sci-hub.ru/10.1103/PhysRevB.104.214419], proxies={'http': 'socks5://127.0.0.1:7890'}\u001B[0m\n",
      "\u001B[33m\u001B[1m[WARNING]\u001B[0m | \u001B[32m2023/09/04 13:11:44\u001B[0m | \u001B[33m\u001B[1mError occurs, task status: crawling_failed, error: HTTPSConnectionPool(host='sci-hub.se', port=443): Read timed out. (read timeout=None)\u001B[0m\n",
      "\u001B[1m[INFO]\u001B[0m | \u001B[32m2023/09/04 13:11:44\u001B[0m | \u001B[1mChoose scihub url [3]: http://sci-hub.ru\u001B[0m\n",
      "\u001B[1m[INFO]\u001B[0m | \u001B[32m2023/09/04 13:11:44\u001B[0m | \u001B[1m<- Request: scihub_url=http://sci-hub.ru, source=DoiSource[type=doi, id=sci-hub.ru/10.1103/PhysRevB.104.214419], proxies={'http': 'socks5://127.0.0.1:7890'}\u001B[0m\n",
      "\u001B[33m\u001B[1m[WARNING]\u001B[0m | \u001B[32m2023/09/04 13:11:44\u001B[0m | \u001B[33m\u001B[1mError occurs, task status: crawling_failed, error: SOCKSHTTPConnectionPool(host='sci-hub.ru', port=80): Max retries exceeded with url: / (Caused by NewConnectionError('<urllib3.contrib.socks.SOCKSConnection object at 0x13cad2fb0>: Failed to establish a new connection: [Errno 61] Connection refused'))\u001B[0m\n",
      "\u001B[1m[INFO]\u001B[0m | \u001B[32m2023/09/04 13:11:44\u001B[0m | \u001B[1mChoose scihub url [4]: http://sci-hub.st\u001B[0m\n",
      "\u001B[1m[INFO]\u001B[0m | \u001B[32m2023/09/04 13:11:44\u001B[0m | \u001B[1m<- Request: scihub_url=http://sci-hub.st, source=DoiSource[type=doi, id=sci-hub.ru/10.1103/PhysRevB.104.214419], proxies={'http': 'socks5://127.0.0.1:7890'}\u001B[0m\n",
      "\u001B[33m\u001B[1m[WARNING]\u001B[0m | \u001B[32m2023/09/04 13:11:44\u001B[0m | \u001B[33m\u001B[1mError occurs, task status: crawling_failed, error: SOCKSHTTPConnectionPool(host='sci-hub.st', port=80): Max retries exceeded with url: / (Caused by NewConnectionError('<urllib3.contrib.socks.SOCKSConnection object at 0x13cad3400>: Failed to establish a new connection: [Errno 61] Connection refused'))\u001B[0m\n",
      "\u001B[1m[INFO]\u001B[0m | \u001B[32m2023/09/04 13:11:44\u001B[0m | \u001B[1mChoose scihub url [5]: http://sci-hub.se\u001B[0m\n",
      "\u001B[1m[INFO]\u001B[0m | \u001B[32m2023/09/04 13:11:44\u001B[0m | \u001B[1m<- Request: scihub_url=http://sci-hub.se, source=DoiSource[type=doi, id=sci-hub.ru/10.1103/PhysRevB.104.214419], proxies={'http': 'socks5://127.0.0.1:7890'}\u001B[0m\n",
      "\u001B[33m\u001B[1m[WARNING]\u001B[0m | \u001B[32m2023/09/04 13:11:44\u001B[0m | \u001B[33m\u001B[1mError occurs, task status: crawling_failed, error: SOCKSHTTPConnectionPool(host='sci-hub.se', port=80): Max retries exceeded with url: / (Caused by NewConnectionError('<urllib3.contrib.socks.SOCKSConnection object at 0x13cad0ac0>: Failed to establish a new connection: [Errno 61] Connection refused'))\u001B[0m\n",
      "\u001B[31m\u001B[1m[ERROR]\u001B[0m | \u001B[32m2023/09/04 13:11:44\u001B[0m | \u001B[31m\u001B[1mFailed to download the paper: https://sci-hub.ru/10.1103/PhysRevB.104.214419. Please try again.\u001B[0m\n",
      " 15%|█▌        | 3/20 [01:45<11:01, 38.91s/it]\u001B[1m[INFO]\u001B[0m | \u001B[32m2023/09/04 13:11:54\u001B[0m | \u001B[1mChoose scihub url [0]: https://sci-hub.ru\u001B[0m\n",
      "\u001B[1m[INFO]\u001B[0m | \u001B[32m2023/09/04 13:11:54\u001B[0m | \u001B[1m<- Request: scihub_url=https://sci-hub.ru, source=DoiSource[type=doi, id=sci-hub.ru/10.1016/j.commatsci.2021.110406], proxies={'http': 'socks5://127.0.0.1:7890'}\u001B[0m\n",
      "\u001B[1m[INFO]\u001B[0m | \u001B[32m2023/09/04 13:11:55\u001B[0m | \u001B[1m-> Response: status_code=200, content_length=7110\u001B[0m\n",
      "\u001B[1m[INFO]\u001B[0m | \u001B[32m2023/09/04 13:11:55\u001B[0m | \u001B[1m* Extracted information: {'url': 'https://sci-hub.ru/downloads/2021-06-20/84/qu2021.pdf', 'title': 'A highly accurate interatomic potential for LaMnO3 perovskites with temperature-dependence of structure and thermal properties. Computational Materials Science, 193, 110406'}\u001B[0m\n"
     ]
    },
    {
     "name": "stdout",
     "output_type": "stream",
     "text": [
      "100% [==================================================] 2777737/2777737\n"
     ]
    },
    {
     "name": "stderr",
     "output_type": "stream",
     "text": [
      "\u001B[1m[INFO]\u001B[0m | \u001B[32m2023/09/04 13:11:56\u001B[0m | \u001B[1m↓ Successfully download the url to: ./papers/paper_j.commatsci.2021.110406.pdf\u001B[0m\n",
      " 20%|██        | 4/20 [01:56<07:30, 28.13s/it]\u001B[1m[INFO]\u001B[0m | \u001B[32m2023/09/04 13:12:06\u001B[0m | \u001B[1mChoose scihub url [0]: https://sci-hub.ru\u001B[0m\n",
      "\u001B[1m[INFO]\u001B[0m | \u001B[32m2023/09/04 13:12:06\u001B[0m | \u001B[1m<- Request: scihub_url=https://sci-hub.ru, source=DoiSource[type=doi, id=sci-hub.ru/10.1103/PhysRevMaterials.5.124404], proxies={'http': 'socks5://127.0.0.1:7890'}\u001B[0m\n",
      "\u001B[1m[INFO]\u001B[0m | \u001B[32m2023/09/04 13:12:06\u001B[0m | \u001B[1m-> Response: status_code=200, content_length=5960\u001B[0m\n",
      "\u001B[33m\u001B[1m[WARNING]\u001B[0m | \u001B[32m2023/09/04 13:12:06\u001B[0m | \u001B[33m\u001B[1mError occurs, task status: extracting_failed, error: No pdf tag was found in the given content with the selector: #pdf\u001B[0m\n",
      "\u001B[1m[INFO]\u001B[0m | \u001B[32m2023/09/04 13:12:06\u001B[0m | \u001B[1mChoose scihub url [1]: https://sci-hub.st\u001B[0m\n",
      "\u001B[1m[INFO]\u001B[0m | \u001B[32m2023/09/04 13:12:06\u001B[0m | \u001B[1m<- Request: scihub_url=https://sci-hub.st, source=DoiSource[type=doi, id=sci-hub.ru/10.1103/PhysRevMaterials.5.124404], proxies={'http': 'socks5://127.0.0.1:7890'}\u001B[0m\n",
      "\u001B[33m\u001B[1m[WARNING]\u001B[0m | \u001B[32m2023/09/04 13:12:24\u001B[0m | \u001B[33m\u001B[1mError occurs, task status: crawling_failed, error: HTTPSConnectionPool(host='sci-hub.st', port=443): Read timed out. (read timeout=None)\u001B[0m\n",
      "\u001B[1m[INFO]\u001B[0m | \u001B[32m2023/09/04 13:12:24\u001B[0m | \u001B[1mChoose scihub url [2]: https://sci-hub.se\u001B[0m\n",
      "\u001B[1m[INFO]\u001B[0m | \u001B[32m2023/09/04 13:12:24\u001B[0m | \u001B[1m<- Request: scihub_url=https://sci-hub.se, source=DoiSource[type=doi, id=sci-hub.ru/10.1103/PhysRevMaterials.5.124404], proxies={'http': 'socks5://127.0.0.1:7890'}\u001B[0m\n",
      "\u001B[33m\u001B[1m[WARNING]\u001B[0m | \u001B[32m2023/09/04 13:12:42\u001B[0m | \u001B[33m\u001B[1mError occurs, task status: crawling_failed, error: HTTPSConnectionPool(host='sci-hub.se', port=443): Read timed out. (read timeout=None)\u001B[0m\n",
      "\u001B[1m[INFO]\u001B[0m | \u001B[32m2023/09/04 13:12:42\u001B[0m | \u001B[1mChoose scihub url [3]: http://sci-hub.ru\u001B[0m\n",
      "\u001B[1m[INFO]\u001B[0m | \u001B[32m2023/09/04 13:12:42\u001B[0m | \u001B[1m<- Request: scihub_url=http://sci-hub.ru, source=DoiSource[type=doi, id=sci-hub.ru/10.1103/PhysRevMaterials.5.124404], proxies={'http': 'socks5://127.0.0.1:7890'}\u001B[0m\n",
      "\u001B[33m\u001B[1m[WARNING]\u001B[0m | \u001B[32m2023/09/04 13:12:42\u001B[0m | \u001B[33m\u001B[1mError occurs, task status: crawling_failed, error: SOCKSHTTPConnectionPool(host='sci-hub.ru', port=80): Max retries exceeded with url: / (Caused by NewConnectionError('<urllib3.contrib.socks.SOCKSConnection object at 0x13cd24400>: Failed to establish a new connection: [Errno 61] Connection refused'))\u001B[0m\n",
      "\u001B[1m[INFO]\u001B[0m | \u001B[32m2023/09/04 13:12:42\u001B[0m | \u001B[1mChoose scihub url [4]: http://sci-hub.st\u001B[0m\n",
      "\u001B[1m[INFO]\u001B[0m | \u001B[32m2023/09/04 13:12:42\u001B[0m | \u001B[1m<- Request: scihub_url=http://sci-hub.st, source=DoiSource[type=doi, id=sci-hub.ru/10.1103/PhysRevMaterials.5.124404], proxies={'http': 'socks5://127.0.0.1:7890'}\u001B[0m\n",
      "\u001B[33m\u001B[1m[WARNING]\u001B[0m | \u001B[32m2023/09/04 13:12:42\u001B[0m | \u001B[33m\u001B[1mError occurs, task status: crawling_failed, error: SOCKSHTTPConnectionPool(host='sci-hub.st', port=80): Max retries exceeded with url: / (Caused by NewConnectionError('<urllib3.contrib.socks.SOCKSConnection object at 0x13cd27370>: Failed to establish a new connection: [Errno 61] Connection refused'))\u001B[0m\n",
      "\u001B[1m[INFO]\u001B[0m | \u001B[32m2023/09/04 13:12:42\u001B[0m | \u001B[1mChoose scihub url [5]: http://sci-hub.se\u001B[0m\n",
      "\u001B[1m[INFO]\u001B[0m | \u001B[32m2023/09/04 13:12:42\u001B[0m | \u001B[1m<- Request: scihub_url=http://sci-hub.se, source=DoiSource[type=doi, id=sci-hub.ru/10.1103/PhysRevMaterials.5.124404], proxies={'http': 'socks5://127.0.0.1:7890'}\u001B[0m\n",
      "\u001B[33m\u001B[1m[WARNING]\u001B[0m | \u001B[32m2023/09/04 13:12:42\u001B[0m | \u001B[33m\u001B[1mError occurs, task status: crawling_failed, error: SOCKSHTTPConnectionPool(host='sci-hub.se', port=80): Max retries exceeded with url: / (Caused by NewConnectionError('<urllib3.contrib.socks.SOCKSConnection object at 0x13cd4e1d0>: Failed to establish a new connection: [Errno 61] Connection refused'))\u001B[0m\n",
      "\u001B[31m\u001B[1m[ERROR]\u001B[0m | \u001B[32m2023/09/04 13:12:42\u001B[0m | \u001B[31m\u001B[1mFailed to download the paper: https://sci-hub.ru/10.1103/PhysRevMaterials.5.124404. Please try again.\u001B[0m\n",
      " 25%|██▌       | 5/20 [02:44<08:13, 32.88s/it]\n"
     ]
    },
    {
     "ename": "KeyboardInterrupt",
     "evalue": "",
     "output_type": "error",
     "traceback": [
      "\u001B[0;31m---------------------------------------------------------------------------\u001B[0m",
      "\u001B[0;31mKeyboardInterrupt\u001B[0m                         Traceback (most recent call last)",
      "Cell \u001B[0;32mIn[25], line 6\u001B[0m\n\u001B[1;32m      4\u001B[0m out \u001B[38;5;241m=\u001B[39m \u001B[38;5;124m\"\u001B[39m\u001B[38;5;124m./papers/paper_\u001B[39m\u001B[38;5;124m\"\u001B[39m \u001B[38;5;241m+\u001B[39m i[\u001B[38;5;241m8\u001B[39m::] \u001B[38;5;241m+\u001B[39m \u001B[38;5;124m\"\u001B[39m\u001B[38;5;124m.pdf\u001B[39m\u001B[38;5;124m\"\u001B[39m  \u001B[38;5;66;03m# output file path\u001B[39;00m\n\u001B[1;32m      5\u001B[0m proxies \u001B[38;5;241m=\u001B[39m {\u001B[38;5;124m\"\u001B[39m\u001B[38;5;124mhttp\u001B[39m\u001B[38;5;124m\"\u001B[39m: \u001B[38;5;124m\"\u001B[39m\u001B[38;5;124msocks5://127.0.0.1:7890\u001B[39m\u001B[38;5;124m\"\u001B[39m}  \u001B[38;5;66;03m# optional proxies\u001B[39;00m\n\u001B[0;32m----> 6\u001B[0m \u001B[43mtime\u001B[49m\u001B[38;5;241;43m.\u001B[39;49m\u001B[43msleep\u001B[49m\u001B[43m(\u001B[49m\u001B[38;5;241;43m10\u001B[39;49m\u001B[43m)\u001B[49m\n\u001B[1;32m      7\u001B[0m scihub_download(url, paper_type\u001B[38;5;241m=\u001B[39mpaper_type, out\u001B[38;5;241m=\u001B[39mout, proxies\u001B[38;5;241m=\u001B[39mproxies )\n",
      "\u001B[0;31mKeyboardInterrupt\u001B[0m: "
     ]
    }
   ],
   "source": [
    "for i in tqdm(df['doi'].sample(20, random_state=111)):\n",
    "    paper_type = \"doi\"\n",
    "    url = 'https://sci-hub.ru/' + i\n",
    "    out = \"./papers/paper_\" + i[8::] + \".pdf\"  # output file path\n",
    "    proxies = {\"http\": \"socks5://127.0.0.1:7890\"}  # optional proxies\n",
    "    time.sleep(10)\n",
    "    scihub_download(url, paper_type=paper_type, out=out, proxies=proxies )"
   ],
   "metadata": {
    "collapsed": false,
    "ExecuteTime": {
     "end_time": "2023-09-04T10:12:43.859064Z",
     "start_time": "2023-09-04T10:09:59.465489Z"
    }
   }
  },
  {
   "cell_type": "code",
   "execution_count": null,
   "outputs": [],
   "source": [],
   "metadata": {
    "collapsed": false
   }
  }
 ],
 "metadata": {
  "kernelspec": {
   "display_name": "Python 3",
   "language": "python",
   "name": "python3"
  },
  "language_info": {
   "codemirror_mode": {
    "name": "ipython",
    "version": 2
   },
   "file_extension": ".py",
   "mimetype": "text/x-python",
   "name": "python",
   "nbconvert_exporter": "python",
   "pygments_lexer": "ipython2",
   "version": "2.7.6"
  }
 },
 "nbformat": 4,
 "nbformat_minor": 0
}
