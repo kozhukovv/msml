{
 "cells": [
  {
   "cell_type": "markdown",
   "source": [
    "# Import"
   ],
   "metadata": {
    "collapsed": false
   }
  },
  {
   "cell_type": "code",
   "execution_count": 10,
   "metadata": {
    "collapsed": true,
    "ExecuteTime": {
     "end_time": "2023-07-04T14:49:19.419893Z",
     "start_time": "2023-07-04T14:49:19.419252Z"
    }
   },
   "outputs": [],
   "source": [
    "from pybliometrics.scopus import ScopusSearch # extract data\n",
    "from scidownl import scihub_download # download data\n",
    "\n",
    "import pandas as pd\n",
    "import time\n",
    "from tqdm import tqdm"
   ]
  },
  {
   "cell_type": "markdown",
   "source": [
    "# Parcing"
   ],
   "metadata": {
    "collapsed": false
   }
  },
  {
   "cell_type": "code",
   "execution_count": 2,
   "outputs": [],
   "source": [
    "# Full query\n",
    "#query = '(TITLE-ABS-KEY(MR) OR TITLE-ABS-KEY(GMR) OR TITLE-ABS-KEY(magnetic resistance) OR TITLE-ABS-KEY(magnetic properties) OR TITLE-ABS-KEY(magnetic field)) AND DOCTYPE(ar) AND NOT PUBDATETXT(2023)'"
   ],
   "metadata": {
    "collapsed": false,
    "ExecuteTime": {
     "end_time": "2023-07-04T14:45:58.626453Z",
     "start_time": "2023-07-04T14:45:58.624143Z"
    }
   }
  },
  {
   "cell_type": "code",
   "execution_count": 3,
   "outputs": [],
   "source": [
    "# Limited query\n",
    "query = 'ABS(colossal magnetoresistance) AND DOCTYPE(ar) AND SUBJAREA(MATE) AND NOT PUBDATETXT(2022) AND NOT PUBDATETXT(2023)'"
   ],
   "metadata": {
    "collapsed": false,
    "ExecuteTime": {
     "end_time": "2023-07-04T14:45:59.405158Z",
     "start_time": "2023-07-04T14:45:59.398517Z"
    }
   }
  },
  {
   "cell_type": "code",
   "execution_count": 4,
   "outputs": [],
   "source": [
    "a = ScopusSearch(query, subscriber=False, verbose=True)"
   ],
   "metadata": {
    "collapsed": false,
    "ExecuteTime": {
     "end_time": "2023-07-04T14:46:00.302359Z",
     "start_time": "2023-07-04T14:46:00.282405Z"
    }
   }
  },
  {
   "cell_type": "code",
   "execution_count": 5,
   "outputs": [],
   "source": [
    "df = pd.DataFrame(pd.DataFrame(a.results))"
   ],
   "metadata": {
    "collapsed": false,
    "ExecuteTime": {
     "end_time": "2023-07-04T14:46:01.319786Z",
     "start_time": "2023-07-04T14:46:01.314862Z"
    }
   }
  },
  {
   "cell_type": "markdown",
   "source": [
    "# Preprocessing"
   ],
   "metadata": {
    "collapsed": false
   }
  },
  {
   "cell_type": "code",
   "execution_count": 6,
   "outputs": [
    {
     "name": "stdout",
     "output_type": "stream",
     "text": [
      "<class 'pandas.core.frame.DataFrame'>\n",
      "RangeIndex: 1043 entries, 0 to 1042\n",
      "Data columns (total 36 columns):\n",
      " #   Column               Non-Null Count  Dtype \n",
      "---  ------               --------------  ----- \n",
      " 0   eid                  1043 non-null   object\n",
      " 1   doi                  961 non-null    object\n",
      " 2   pii                  389 non-null    object\n",
      " 3   pubmed_id            27 non-null     object\n",
      " 4   title                1043 non-null   object\n",
      " 5   subtype              1043 non-null   object\n",
      " 6   subtypeDescription   1043 non-null   object\n",
      " 7   creator              1042 non-null   object\n",
      " 8   afid                 0 non-null      object\n",
      " 9   affilname            1039 non-null   object\n",
      " 10  affiliation_city     1039 non-null   object\n",
      " 11  affiliation_country  1039 non-null   object\n",
      " 12  author_count         0 non-null      object\n",
      " 13  author_names         0 non-null      object\n",
      " 14  author_ids           0 non-null      object\n",
      " 15  author_afids         0 non-null      object\n",
      " 16  coverDate            1043 non-null   object\n",
      " 17  coverDisplayDate     1043 non-null   object\n",
      " 18  publicationName      1043 non-null   object\n",
      " 19  issn                 1025 non-null   object\n",
      " 20  source_id            1043 non-null   object\n",
      " 21  eIssn                453 non-null    object\n",
      " 22  aggregationType      1043 non-null   object\n",
      " 23  volume               1041 non-null   object\n",
      " 24  issueIdentifier      943 non-null    object\n",
      " 25  article_number       269 non-null    object\n",
      " 26  pageRange            765 non-null    object\n",
      " 27  description          0 non-null      object\n",
      " 28  authkeywords         0 non-null      object\n",
      " 29  citedby_count        1043 non-null   int64 \n",
      " 30  openaccess           1043 non-null   int64 \n",
      " 31  freetoread           254 non-null    object\n",
      " 32  freetoreadLabel      254 non-null    object\n",
      " 33  fund_acr             0 non-null      object\n",
      " 34  fund_no              0 non-null      object\n",
      " 35  fund_sponsor         0 non-null      object\n",
      "dtypes: int64(2), object(34)\n",
      "memory usage: 293.5+ KB\n"
     ]
    }
   ],
   "source": [
    "df.info()"
   ],
   "metadata": {
    "collapsed": false,
    "ExecuteTime": {
     "end_time": "2023-07-04T14:46:02.319926Z",
     "start_time": "2023-07-04T14:46:02.308997Z"
    }
   }
  },
  {
   "cell_type": "code",
   "execution_count": 7,
   "outputs": [],
   "source": [
    "df = df.dropna(subset=['doi'])"
   ],
   "metadata": {
    "collapsed": false,
    "ExecuteTime": {
     "end_time": "2023-07-04T14:46:03.933533Z",
     "start_time": "2023-07-04T14:46:03.927650Z"
    }
   }
  },
  {
   "cell_type": "code",
   "execution_count": 11,
   "outputs": [
    {
     "name": "stderr",
     "output_type": "stream",
     "text": [
      "  0%|          | 0/20 [00:00<?, ?it/s]\u001B[1m[INFO]\u001B[0m | \u001B[32m2023/07/04 17:49:38\u001B[0m | \u001B[1mChoose scihub url [0]: https://sci-hub.ru\u001B[0m\n",
      "\u001B[1m[INFO]\u001B[0m | \u001B[32m2023/07/04 17:49:38\u001B[0m | \u001B[1m<- Request: scihub_url=https://sci-hub.ru, source=DoiSource[type=doi, id=sci-hub.ru/10.1103/PhysRevB.64.104413], proxies={'http': 'socks5://127.0.0.1:7890'}\u001B[0m\n",
      "\u001B[1m[INFO]\u001B[0m | \u001B[32m2023/07/04 17:49:39\u001B[0m | \u001B[1m-> Response: status_code=200, content_length=7061\u001B[0m\n",
      "\u001B[1m[INFO]\u001B[0m | \u001B[32m2023/07/04 17:49:39\u001B[0m | \u001B[1m* Extracted information: {'url': 'https://zero.sci-hub.ru/3293/099393c86ab02691ae536aaa9f270d37/10.1103@PhysRevB.64.104413.pdf', 'title': 'Two-phase scenario for the metal-insulator transition in colossal magnetoresistance manganites. Physical Review B, 64(10)'}\u001B[0m\n"
     ]
    },
    {
     "name": "stdout",
     "output_type": "stream",
     "text": [
      "100% [==================================================] 395395/395395\n"
     ]
    },
    {
     "name": "stderr",
     "output_type": "stream",
     "text": [
      "\u001B[1m[INFO]\u001B[0m | \u001B[32m2023/07/04 17:49:39\u001B[0m | \u001B[1m↓ Successfully download the url to: ./papers/paper_PhysRevB.64.104413.pdf\u001B[0m\n",
      "  5%|▌         | 1/20 [00:11<03:29, 11.00s/it]\u001B[1m[INFO]\u001B[0m | \u001B[32m2023/07/04 17:49:49\u001B[0m | \u001B[1mChoose scihub url [0]: https://sci-hub.ru\u001B[0m\n",
      "\u001B[1m[INFO]\u001B[0m | \u001B[32m2023/07/04 17:49:49\u001B[0m | \u001B[1m<- Request: scihub_url=https://sci-hub.ru, source=DoiSource[type=doi, id=sci-hub.ru/10.1002/(SICI)1521-4095(200001)12:1<65::AID-ADMA65>3.0.CO;2-U], proxies={'http': 'socks5://127.0.0.1:7890'}\u001B[0m\n",
      "\u001B[1m[INFO]\u001B[0m | \u001B[32m2023/07/04 17:49:49\u001B[0m | \u001B[1m-> Response: status_code=200, content_length=7153\u001B[0m\n",
      "\u001B[1m[INFO]\u001B[0m | \u001B[32m2023/07/04 17:49:49\u001B[0m | \u001B[1m* Extracted information: {'url': 'https://moscow.sci-hub.ru/13/ee89e3b02c3fb878feff8de2f33ded33/lang2000.pdf', 'title': 'Magnetic and Electronic Structure of the CMR Chalcospinel Fe0.5Cu0.5Cr2S4. Advanced Materials, 12(1), 65–69'}\u001B[0m\n"
     ]
    },
    {
     "name": "stdout",
     "output_type": "stream",
     "text": [
      "100% [==================================================] 216941/216941\n"
     ]
    },
    {
     "name": "stderr",
     "output_type": "stream",
     "text": [
      "\u001B[1m[INFO]\u001B[0m | \u001B[32m2023/07/04 17:49:50\u001B[0m | \u001B[1m↓ Successfully download the url to: ./papers/paper_(SICI)1521-4095(200001)12:1<65::AID-ADMA65>3.0.CO;2-U.pdf\u001B[0m\n",
      " 10%|█         | 2/20 [00:21<03:16, 10.91s/it]\u001B[1m[INFO]\u001B[0m | \u001B[32m2023/07/04 17:50:00\u001B[0m | \u001B[1mChoose scihub url [0]: https://sci-hub.ru\u001B[0m\n",
      "\u001B[1m[INFO]\u001B[0m | \u001B[32m2023/07/04 17:50:00\u001B[0m | \u001B[1m<- Request: scihub_url=https://sci-hub.ru, source=DoiSource[type=doi, id=sci-hub.ru/10.1103/PhysRevB.71.085117], proxies={'http': 'socks5://127.0.0.1:7890'}\u001B[0m\n",
      "\u001B[1m[INFO]\u001B[0m | \u001B[32m2023/07/04 17:50:00\u001B[0m | \u001B[1m-> Response: status_code=200, content_length=7103\u001B[0m\n",
      "\u001B[1m[INFO]\u001B[0m | \u001B[32m2023/07/04 17:50:00\u001B[0m | \u001B[1m* Extracted information: {'url': 'https://zero.sci-hub.ru/3298/7974252ae266d7d2f1982ddecf018b71/miyaki2005.pdf', 'title': 'Molecular orbital cluster calculation study of electron correlation and local lattice instability inLa2−2xSr1+2xMn2O7. Physical Review B, 71(8)'}\u001B[0m\n"
     ]
    },
    {
     "name": "stdout",
     "output_type": "stream",
     "text": [
      "100% [==================================================] 540079/540079\n"
     ]
    },
    {
     "name": "stderr",
     "output_type": "stream",
     "text": [
      "\u001B[1m[INFO]\u001B[0m | \u001B[32m2023/07/04 17:50:01\u001B[0m | \u001B[1m↓ Successfully download the url to: ./papers/paper_PhysRevB.71.085117.pdf\u001B[0m\n",
      " 15%|█▌        | 3/20 [00:32<03:03, 10.81s/it]\u001B[1m[INFO]\u001B[0m | \u001B[32m2023/07/04 17:50:11\u001B[0m | \u001B[1mChoose scihub url [0]: https://sci-hub.ru\u001B[0m\n",
      "\u001B[1m[INFO]\u001B[0m | \u001B[32m2023/07/04 17:50:11\u001B[0m | \u001B[1m<- Request: scihub_url=https://sci-hub.ru, source=DoiSource[type=doi, id=sci-hub.ru/10.1103/PhysRevB.72.014428], proxies={'http': 'socks5://127.0.0.1:7890'}\u001B[0m\n",
      "\u001B[1m[INFO]\u001B[0m | \u001B[32m2023/07/04 17:50:11\u001B[0m | \u001B[1m-> Response: status_code=200, content_length=7042\u001B[0m\n",
      "\u001B[1m[INFO]\u001B[0m | \u001B[32m2023/07/04 17:50:11\u001B[0m | \u001B[1m* Extracted information: {'url': 'https://dacemirror.sci-hub.ru/journal-article/ae7135451e762a3ab518e9ea07c24885/comment2005.pdf', 'title': 'Magnetic properties of pure and Gd-doped EuO probed by NMR. Physical Review B, 72(1)'}\u001B[0m\n"
     ]
    },
    {
     "name": "stdout",
     "output_type": "stream",
     "text": [
      "100% [==================================================] 184069/184069\n"
     ]
    },
    {
     "name": "stderr",
     "output_type": "stream",
     "text": [
      "\u001B[1m[INFO]\u001B[0m | \u001B[32m2023/07/04 17:50:12\u001B[0m | \u001B[1m↓ Successfully download the url to: ./papers/paper_PhysRevB.72.014428.pdf\u001B[0m\n",
      " 20%|██        | 4/20 [00:43<02:54, 10.94s/it]\u001B[1m[INFO]\u001B[0m | \u001B[32m2023/07/04 17:50:22\u001B[0m | \u001B[1mChoose scihub url [0]: https://sci-hub.ru\u001B[0m\n",
      "\u001B[1m[INFO]\u001B[0m | \u001B[32m2023/07/04 17:50:22\u001B[0m | \u001B[1m<- Request: scihub_url=https://sci-hub.ru, source=DoiSource[type=doi, id=sci-hub.ru/10.1103/PhysRevB.70.224433], proxies={'http': 'socks5://127.0.0.1:7890'}\u001B[0m\n",
      "\u001B[1m[INFO]\u001B[0m | \u001B[32m2023/07/04 17:50:22\u001B[0m | \u001B[1m-> Response: status_code=200, content_length=7078\u001B[0m\n",
      "\u001B[1m[INFO]\u001B[0m | \u001B[32m2023/07/04 17:50:22\u001B[0m | \u001B[1m* Extracted information: {'url': 'https://dacemirror.sci-hub.ru/journal-article/8f803154129cd4d5e40fce69e00720ec/ibrahim2004.pdf', 'title': 'O2phole-assisted electronic processes in thePr1−xSrxMnO3(x=0.0, 0.3) system. Physical Review B, 70(22)'}\u001B[0m\n"
     ]
    },
    {
     "name": "stdout",
     "output_type": "stream",
     "text": [
      "100% [==================================================] 250124/250124\n"
     ]
    },
    {
     "name": "stderr",
     "output_type": "stream",
     "text": [
      "\u001B[1m[INFO]\u001B[0m | \u001B[32m2023/07/04 17:50:23\u001B[0m | \u001B[1m↓ Successfully download the url to: ./papers/paper_PhysRevB.70.224433.pdf\u001B[0m\n",
      " 25%|██▌       | 5/20 [00:54<02:44, 10.98s/it]\u001B[1m[INFO]\u001B[0m | \u001B[32m2023/07/04 17:50:33\u001B[0m | \u001B[1mChoose scihub url [0]: https://sci-hub.ru\u001B[0m\n",
      "\u001B[1m[INFO]\u001B[0m | \u001B[32m2023/07/04 17:50:33\u001B[0m | \u001B[1m<- Request: scihub_url=https://sci-hub.ru, source=DoiSource[type=doi, id=sci-hub.ru/10.1016/j.jallcom.2009.06.006], proxies={'http': 'socks5://127.0.0.1:7890'}\u001B[0m\n",
      "\u001B[1m[INFO]\u001B[0m | \u001B[32m2023/07/04 17:51:10\u001B[0m | \u001B[1m-> Response: status_code=200, content_length=7112\u001B[0m\n",
      "\u001B[1m[INFO]\u001B[0m | \u001B[32m2023/07/04 17:51:10\u001B[0m | \u001B[1m* Extracted information: {'url': 'https://moscow.sci-hub.ru/1671/a7bc33a2a34c7df0bc80bc85488eb620/10.1016@j.jallcom.2009.06.006.pdf', 'title': 'Influence of BTO phase on structural, magnetic and electrical properties of LCMO. Journal of Alloys and Compounds, 485(1-2), 501–506'}\u001B[0m\n"
     ]
    },
    {
     "name": "stdout",
     "output_type": "stream",
     "text": [
      "100% [==================================================] 1034535/1034535\n"
     ]
    },
    {
     "name": "stderr",
     "output_type": "stream",
     "text": [
      "\u001B[1m[INFO]\u001B[0m | \u001B[32m2023/07/04 17:51:11\u001B[0m | \u001B[1m↓ Successfully download the url to: ./papers/paper_j.jallcom.2009.06.006.pdf\u001B[0m\n",
      " 30%|███       | 6/20 [01:42<05:30, 23.62s/it]\u001B[1m[INFO]\u001B[0m | \u001B[32m2023/07/04 17:51:21\u001B[0m | \u001B[1mChoose scihub url [0]: https://sci-hub.ru\u001B[0m\n",
      "\u001B[1m[INFO]\u001B[0m | \u001B[32m2023/07/04 17:51:21\u001B[0m | \u001B[1m<- Request: scihub_url=https://sci-hub.ru, source=DoiSource[type=doi, id=sci-hub.ru/10.1016/S0040-6090(02)01098-2], proxies={'http': 'socks5://127.0.0.1:7890'}\u001B[0m\n",
      "\u001B[1m[INFO]\u001B[0m | \u001B[32m2023/07/04 17:51:21\u001B[0m | \u001B[1m-> Response: status_code=200, content_length=7216\u001B[0m\n",
      "\u001B[1m[INFO]\u001B[0m | \u001B[32m2023/07/04 17:51:21\u001B[0m | \u001B[1m* Extracted information: {'url': 'https://dacemirror.sci-hub.ru/journal-article/81cc76ec38f4d5a3a9f307e8f7b334e4/lee2003.pdf', 'title': 'Electrical and magnetic properties of La0.7Ca0.3MnO3 films prepared by RF magnetron sputtering method for colossal magnetoresistance applications. Thin Solid Films, 426(1-2), 205–210'}\u001B[0m\n"
     ]
    },
    {
     "name": "stdout",
     "output_type": "stream",
     "text": [
      "100% [==================================================] 237449/237449\n"
     ]
    },
    {
     "name": "stderr",
     "output_type": "stream",
     "text": [
      "\u001B[1m[INFO]\u001B[0m | \u001B[32m2023/07/04 17:51:22\u001B[0m | \u001B[1m↓ Successfully download the url to: ./papers/paper_S0040-6090(02)01098-2.pdf\u001B[0m\n",
      " 35%|███▌      | 7/20 [01:53<04:13, 19.53s/it]\u001B[1m[INFO]\u001B[0m | \u001B[32m2023/07/04 17:51:32\u001B[0m | \u001B[1mChoose scihub url [0]: https://sci-hub.ru\u001B[0m\n",
      "\u001B[1m[INFO]\u001B[0m | \u001B[32m2023/07/04 17:51:32\u001B[0m | \u001B[1m<- Request: scihub_url=https://sci-hub.ru, source=DoiSource[type=doi, id=sci-hub.ru/10.1016/j.jallcom.2010.07.223], proxies={'http': 'socks5://127.0.0.1:7890'}\u001B[0m\n",
      "\u001B[1m[INFO]\u001B[0m | \u001B[32m2023/07/04 17:51:32\u001B[0m | \u001B[1m-> Response: status_code=200, content_length=7185\u001B[0m\n",
      "\u001B[1m[INFO]\u001B[0m | \u001B[32m2023/07/04 17:51:32\u001B[0m | \u001B[1m* Extracted information: {'url': 'https://dacemirror.sci-hub.ru/journal-article/842eb831548b2dc59a21b50944d9e4fd/phan2010.pdf', 'title': 'Tricritical point and critical exponents of La0.7Ca0.3−xSrxMnO3 (x=0, 0.05, 0.1, 0.2, 0.25) single crystals. Journal of Alloys and Compounds, 508(2), 238–244'}\u001B[0m\n"
     ]
    },
    {
     "name": "stdout",
     "output_type": "stream",
     "text": [
      "100% [==================================================] 1228012/1228012\n"
     ]
    },
    {
     "name": "stderr",
     "output_type": "stream",
     "text": [
      "\u001B[1m[INFO]\u001B[0m | \u001B[32m2023/07/04 17:51:34\u001B[0m | \u001B[1m↓ Successfully download the url to: ./papers/paper_j.jallcom.2010.07.223.pdf\u001B[0m\n",
      " 40%|████      | 8/20 [02:05<03:25, 17.10s/it]\u001B[1m[INFO]\u001B[0m | \u001B[32m2023/07/04 17:51:44\u001B[0m | \u001B[1mChoose scihub url [0]: https://sci-hub.ru\u001B[0m\n",
      "\u001B[1m[INFO]\u001B[0m | \u001B[32m2023/07/04 17:51:44\u001B[0m | \u001B[1m<- Request: scihub_url=https://sci-hub.ru, source=DoiSource[type=doi, id=sci-hub.ru/10.1103/PhysRevB.56.8138], proxies={'http': 'socks5://127.0.0.1:7890'}\u001B[0m\n",
      "\u001B[1m[INFO]\u001B[0m | \u001B[32m2023/07/04 17:51:45\u001B[0m | \u001B[1m-> Response: status_code=200, content_length=7028\u001B[0m\n",
      "\u001B[1m[INFO]\u001B[0m | \u001B[32m2023/07/04 17:51:45\u001B[0m | \u001B[1m* Extracted information: {'url': 'https://zero.sci-hub.ru/1867/002a0df717ff9709970d16f8f6e1d293/zhang1997.pdf', 'title': 'Tunnel-type giant magnetoresistance in the granular perovskiteLa0.85Sr0.15MnO3. Physical Review B, 56(13), 8138–8142'}\u001B[0m\n"
     ]
    },
    {
     "name": "stdout",
     "output_type": "stream",
     "text": [
      "100% [==================================================] 1199692/1199692\n"
     ]
    },
    {
     "name": "stderr",
     "output_type": "stream",
     "text": [
      "\u001B[1m[INFO]\u001B[0m | \u001B[32m2023/07/04 17:51:45\u001B[0m | \u001B[1m↓ Successfully download the url to: ./papers/paper_PhysRevB.56.8138.pdf\u001B[0m\n",
      " 45%|████▌     | 9/20 [02:17<02:47, 15.25s/it]\u001B[1m[INFO]\u001B[0m | \u001B[32m2023/07/04 17:51:55\u001B[0m | \u001B[1mChoose scihub url [0]: https://sci-hub.ru\u001B[0m\n",
      "\u001B[1m[INFO]\u001B[0m | \u001B[32m2023/07/04 17:51:55\u001B[0m | \u001B[1m<- Request: scihub_url=https://sci-hub.ru, source=DoiSource[type=doi, id=sci-hub.ru/10.1103/PhysRevB.85.155128], proxies={'http': 'socks5://127.0.0.1:7890'}\u001B[0m\n",
      "\u001B[1m[INFO]\u001B[0m | \u001B[32m2023/07/04 17:51:56\u001B[0m | \u001B[1m-> Response: status_code=200, content_length=7014\u001B[0m\n",
      "\u001B[1m[INFO]\u001B[0m | \u001B[32m2023/07/04 17:51:56\u001B[0m | \u001B[1m* Extracted information: {'url': 'https://moscow.sci-hub.ru/2146/12792ba8315201fa79d9307cb5f11365/dalai2012.pdf', 'title': 'Electronic structure of the electron-doped Ca0.86Pr0.14MnO3. Physical Review B, 85(15)'}\u001B[0m\n"
     ]
    },
    {
     "name": "stdout",
     "output_type": "stream",
     "text": [
      "100% [==================================================] 568220/568220\n"
     ]
    },
    {
     "name": "stderr",
     "output_type": "stream",
     "text": [
      "\u001B[1m[INFO]\u001B[0m | \u001B[32m2023/07/04 17:51:56\u001B[0m | \u001B[1m↓ Successfully download the url to: ./papers/paper_PhysRevB.85.155128.pdf\u001B[0m\n",
      " 50%|█████     | 10/20 [02:28<02:19, 13.98s/it]\u001B[1m[INFO]\u001B[0m | \u001B[32m2023/07/04 17:52:06\u001B[0m | \u001B[1mChoose scihub url [0]: https://sci-hub.ru\u001B[0m\n",
      "\u001B[1m[INFO]\u001B[0m | \u001B[32m2023/07/04 17:52:06\u001B[0m | \u001B[1m<- Request: scihub_url=https://sci-hub.ru, source=DoiSource[type=doi, id=sci-hub.ru/10.1088/0953-8984/16/47/022], proxies={'http': 'socks5://127.0.0.1:7890'}\u001B[0m\n",
      "\u001B[1m[INFO]\u001B[0m | \u001B[32m2023/07/04 17:52:07\u001B[0m | \u001B[1m-> Response: status_code=200, content_length=7131\u001B[0m\n",
      "\u001B[1m[INFO]\u001B[0m | \u001B[32m2023/07/04 17:52:07\u001B[0m | \u001B[1m* Extracted information: {'url': 'https://moscow.sci-hub.ru/4462/ac2b25114d4795262da86597af424994/velasco2004.pdf', 'title': 'Analysis of magnetotransport data of Tl2Mn2O7pyrochlore  evidence for half-metallicity. Journal of Physics  Condensed Matter, 16(47), 8725–8732'}\u001B[0m\n"
     ]
    },
    {
     "name": "stdout",
     "output_type": "stream",
     "text": [
      "100% [==================================================] 157632/157632\n"
     ]
    },
    {
     "name": "stderr",
     "output_type": "stream",
     "text": [
      "\u001B[1m[INFO]\u001B[0m | \u001B[32m2023/07/04 17:52:07\u001B[0m | \u001B[1m↓ Successfully download the url to: ./papers/paper_0953-8984/16/47/022.pdf\u001B[0m\n",
      " 55%|█████▌    | 11/20 [02:38<01:56, 12.95s/it]\u001B[1m[INFO]\u001B[0m | \u001B[32m2023/07/04 17:52:17\u001B[0m | \u001B[1mChoose scihub url [0]: https://sci-hub.ru\u001B[0m\n",
      "\u001B[1m[INFO]\u001B[0m | \u001B[32m2023/07/04 17:52:17\u001B[0m | \u001B[1m<- Request: scihub_url=https://sci-hub.ru, source=DoiSource[type=doi, id=sci-hub.ru/10.1103/PhysRevB.59.11169], proxies={'http': 'socks5://127.0.0.1:7890'}\u001B[0m\n",
      "\u001B[1m[INFO]\u001B[0m | \u001B[32m2023/07/04 17:52:17\u001B[0m | \u001B[1m-> Response: status_code=200, content_length=7009\u001B[0m\n",
      "\u001B[1m[INFO]\u001B[0m | \u001B[32m2023/07/04 17:52:17\u001B[0m | \u001B[1m* Extracted information: {'url': 'https://zero.sci-hub.ru/3354/77f1daa3d46ccea54aeb9508d1689428/zhu1999.pdf', 'title': 'Ultrasonic evidence for magnetoelastic coupling inLa0.60Y0.07Ca0.33MnO3perovskites. Physical Review B, 59(17), 11169–11171'}\u001B[0m\n"
     ]
    },
    {
     "name": "stdout",
     "output_type": "stream",
     "text": [
      "100% [==================================================] 61181/61181\n"
     ]
    },
    {
     "name": "stderr",
     "output_type": "stream",
     "text": [
      "\u001B[1m[INFO]\u001B[0m | \u001B[32m2023/07/04 17:52:17\u001B[0m | \u001B[1m↓ Successfully download the url to: ./papers/paper_PhysRevB.59.11169.pdf\u001B[0m\n",
      " 60%|██████    | 12/20 [02:49<01:37, 12.22s/it]\u001B[1m[INFO]\u001B[0m | \u001B[32m2023/07/04 17:52:27\u001B[0m | \u001B[1mChoose scihub url [0]: https://sci-hub.ru\u001B[0m\n",
      "\u001B[1m[INFO]\u001B[0m | \u001B[32m2023/07/04 17:52:27\u001B[0m | \u001B[1m<- Request: scihub_url=https://sci-hub.ru, source=DoiSource[type=doi, id=sci-hub.ru/10.1016/S0921-4526(99)02804-5], proxies={'http': 'socks5://127.0.0.1:7890'}\u001B[0m\n",
      "\u001B[1m[INFO]\u001B[0m | \u001B[32m2023/07/04 17:52:28\u001B[0m | \u001B[1m-> Response: status_code=200, content_length=6985\u001B[0m\n",
      "\u001B[1m[INFO]\u001B[0m | \u001B[32m2023/07/04 17:52:28\u001B[0m | \u001B[1m* Extracted information: {'url': 'https://zero.sci-hub.ru/474/31da508281224974cdbb2bffc449deda/kurata2000.pdf', 'title': 'Spin dynamics in perovskite manganese oxides. Physica B  Condensed Matter, 284-288, 1438–1439'}\u001B[0m\n"
     ]
    },
    {
     "name": "stdout",
     "output_type": "stream",
     "text": [
      "100% [==================================================] 99356/99356\n"
     ]
    },
    {
     "name": "stderr",
     "output_type": "stream",
     "text": [
      "\u001B[1m[INFO]\u001B[0m | \u001B[32m2023/07/04 17:52:28\u001B[0m | \u001B[1m↓ Successfully download the url to: ./papers/paper_S0921-4526(99)02804-5.pdf\u001B[0m\n",
      " 65%|██████▌   | 13/20 [03:00<01:22, 11.79s/it]\u001B[1m[INFO]\u001B[0m | \u001B[32m2023/07/04 17:52:38\u001B[0m | \u001B[1mChoose scihub url [0]: https://sci-hub.ru\u001B[0m\n",
      "\u001B[1m[INFO]\u001B[0m | \u001B[32m2023/07/04 17:52:38\u001B[0m | \u001B[1m<- Request: scihub_url=https://sci-hub.ru, source=DoiSource[type=doi, id=sci-hub.ru/10.1103/PhysRevB.79.153110], proxies={'http': 'socks5://127.0.0.1:7890'}\u001B[0m\n",
      "\u001B[1m[INFO]\u001B[0m | \u001B[32m2023/07/04 17:52:38\u001B[0m | \u001B[1m-> Response: status_code=200, content_length=7071\u001B[0m\n",
      "\u001B[1m[INFO]\u001B[0m | \u001B[32m2023/07/04 17:52:39\u001B[0m | \u001B[1m* Extracted information: {'url': 'https://dacemirror.sci-hub.ru/journal-article/d7f717c006e3b888c4cfce1a40524a7b/levstik2009.pdf', 'title': 'Ordering of polarons in the charge-disordered phase ofPr0.7Ca0.3MnO3. Physical Review B, 79(15)'}\u001B[0m\n"
     ]
    },
    {
     "name": "stdout",
     "output_type": "stream",
     "text": [
      "100% [==================================================] 290759/290759\n"
     ]
    },
    {
     "name": "stderr",
     "output_type": "stream",
     "text": [
      "\u001B[1m[INFO]\u001B[0m | \u001B[32m2023/07/04 17:52:39\u001B[0m | \u001B[1m↓ Successfully download the url to: ./papers/paper_PhysRevB.79.153110.pdf\u001B[0m\n",
      " 70%|███████   | 14/20 [03:11<01:09, 11.57s/it]\u001B[1m[INFO]\u001B[0m | \u001B[32m2023/07/04 17:52:49\u001B[0m | \u001B[1mChoose scihub url [0]: https://sci-hub.ru\u001B[0m\n",
      "\u001B[1m[INFO]\u001B[0m | \u001B[32m2023/07/04 17:52:49\u001B[0m | \u001B[1m<- Request: scihub_url=https://sci-hub.ru, source=DoiSource[type=doi, id=sci-hub.ru/10.1088/0953-8984/19/25/255208], proxies={'http': 'socks5://127.0.0.1:7890'}\u001B[0m\n",
      "\u001B[1m[INFO]\u001B[0m | \u001B[32m2023/07/04 17:52:50\u001B[0m | \u001B[1m-> Response: status_code=200, content_length=7076\u001B[0m\n",
      "\u001B[1m[INFO]\u001B[0m | \u001B[32m2023/07/04 17:52:50\u001B[0m | \u001B[1m* Extracted information: {'url': 'https://moscow.sci-hub.ru/2189/3ffa96ef171247bdfa6476a8dddfd37d/stoneham2007.pdf', 'title': 'Trapping, self-trapping and the polaron family. Journal of Physics  Condensed Matter, 19(25), 255208'}\u001B[0m\n"
     ]
    },
    {
     "name": "stdout",
     "output_type": "stream",
     "text": [
      "100% [==================================================] 1449886/1449886\n"
     ]
    },
    {
     "name": "stderr",
     "output_type": "stream",
     "text": [
      "\u001B[1m[INFO]\u001B[0m | \u001B[32m2023/07/04 17:52:50\u001B[0m | \u001B[1m↓ Successfully download the url to: ./papers/paper_0953-8984/19/25/255208.pdf\u001B[0m\n",
      " 75%|███████▌  | 15/20 [03:21<00:56, 11.24s/it]\u001B[1m[INFO]\u001B[0m | \u001B[32m2023/07/04 17:53:00\u001B[0m | \u001B[1mChoose scihub url [0]: https://sci-hub.ru\u001B[0m\n",
      "\u001B[1m[INFO]\u001B[0m | \u001B[32m2023/07/04 17:53:00\u001B[0m | \u001B[1m<- Request: scihub_url=https://sci-hub.ru, source=DoiSource[type=doi, id=sci-hub.ru/10.1088/0953-8984/14/43/328], proxies={'http': 'socks5://127.0.0.1:7890'}\u001B[0m\n",
      "\u001B[1m[INFO]\u001B[0m | \u001B[32m2023/07/04 17:53:00\u001B[0m | \u001B[1m-> Response: status_code=200, content_length=7121\u001B[0m\n",
      "\u001B[1m[INFO]\u001B[0m | \u001B[32m2023/07/04 17:53:00\u001B[0m | \u001B[1m* Extracted information: {'url': 'https://dacemirror.sci-hub.ru/journal-article/2657675d2c046a33775bb25688c30b12/pradhan2002.pdf', 'title': 'Effects of site substitution and metal ion addition on doped manganites. Journal of Physics  Condensed Matter, 14(43), 10323–10329'}\u001B[0m\n"
     ]
    },
    {
     "name": "stdout",
     "output_type": "stream",
     "text": [
      "100% [==================================================] 464503/464503\n"
     ]
    },
    {
     "name": "stderr",
     "output_type": "stream",
     "text": [
      "\u001B[1m[INFO]\u001B[0m | \u001B[32m2023/07/04 17:53:01\u001B[0m | \u001B[1m↓ Successfully download the url to: ./papers/paper_0953-8984/14/43/328.pdf\u001B[0m\n",
      " 80%|████████  | 16/20 [03:33<00:45, 11.28s/it]\u001B[1m[INFO]\u001B[0m | \u001B[32m2023/07/04 17:53:11\u001B[0m | \u001B[1mChoose scihub url [0]: https://sci-hub.ru\u001B[0m\n",
      "\u001B[1m[INFO]\u001B[0m | \u001B[32m2023/07/04 17:53:11\u001B[0m | \u001B[1m<- Request: scihub_url=https://sci-hub.ru, source=DoiSource[type=doi, id=sci-hub.ru/10.1134/S1063783410110272], proxies={'http': 'socks5://127.0.0.1:7890'}\u001B[0m\n",
      "\u001B[1m[INFO]\u001B[0m | \u001B[32m2023/07/04 17:53:11\u001B[0m | \u001B[1m-> Response: status_code=200, content_length=7208\u001B[0m\n",
      "\u001B[1m[INFO]\u001B[0m | \u001B[32m2023/07/04 17:53:11\u001B[0m | \u001B[1m* Extracted information: {'url': 'https://dacemirror.sci-hub.ru/journal-article/54b823182b73c690ba8756f67f75e738/bulatov2010.pdf', 'title': 'Lattice, electrical, and magnetic effects in lanthanum manganites La1−x Sr x MnO3 (x = 0.125, 0.150, 0.175). Physics of the Solid State, 52(11), 2392–2398'}\u001B[0m\n"
     ]
    },
    {
     "name": "stdout",
     "output_type": "stream",
     "text": [
      "100% [==================================================] 255147/255147\n"
     ]
    },
    {
     "name": "stderr",
     "output_type": "stream",
     "text": [
      "\u001B[1m[INFO]\u001B[0m | \u001B[32m2023/07/04 17:53:12\u001B[0m | \u001B[1m↓ Successfully download the url to: ./papers/paper_S1063783410110272.pdf\u001B[0m\n",
      " 85%|████████▌ | 17/20 [03:43<00:33, 11.17s/it]\u001B[1m[INFO]\u001B[0m | \u001B[32m2023/07/04 17:53:22\u001B[0m | \u001B[1mChoose scihub url [0]: https://sci-hub.ru\u001B[0m\n",
      "\u001B[1m[INFO]\u001B[0m | \u001B[32m2023/07/04 17:53:22\u001B[0m | \u001B[1m<- Request: scihub_url=https://sci-hub.ru, source=DoiSource[type=doi, id=sci-hub.ru/10.1016/S0169-4332(98)00400-0], proxies={'http': 'socks5://127.0.0.1:7890'}\u001B[0m\n",
      "\u001B[1m[INFO]\u001B[0m | \u001B[32m2023/07/04 17:53:22\u001B[0m | \u001B[1m-> Response: status_code=200, content_length=7122\u001B[0m\n",
      "\u001B[1m[INFO]\u001B[0m | \u001B[32m2023/07/04 17:53:22\u001B[0m | \u001B[1m* Extracted information: {'url': 'https://dacemirror.sci-hub.ru/journal-article/93bd5284e0a6faff0984d5aa34c1d18d/ranno1999.pdf', 'title': 'Influence of substrate temperature on magnetotransport properties of thin films of La0.7Sr0.3MnO3. Applied Surface Science, 138-139, 228–232'}\u001B[0m\n"
     ]
    },
    {
     "name": "stdout",
     "output_type": "stream",
     "text": [
      "100% [==================================================] 130114/130114\n"
     ]
    },
    {
     "name": "stderr",
     "output_type": "stream",
     "text": [
      "\u001B[1m[INFO]\u001B[0m | \u001B[32m2023/07/04 17:53:23\u001B[0m | \u001B[1m↓ Successfully download the url to: ./papers/paper_S0169-4332(98)00400-0.pdf\u001B[0m\n",
      " 90%|█████████ | 18/20 [03:55<00:22, 11.20s/it]\u001B[1m[INFO]\u001B[0m | \u001B[32m2023/07/04 17:53:33\u001B[0m | \u001B[1mChoose scihub url [0]: https://sci-hub.ru\u001B[0m\n",
      "\u001B[1m[INFO]\u001B[0m | \u001B[32m2023/07/04 17:53:33\u001B[0m | \u001B[1m<- Request: scihub_url=https://sci-hub.ru, source=DoiSource[type=doi, id=sci-hub.ru/10.1016/S0304-8853(99)00729-5], proxies={'http': 'socks5://127.0.0.1:7890'}\u001B[0m\n",
      "\u001B[1m[INFO]\u001B[0m | \u001B[32m2023/07/04 17:53:34\u001B[0m | \u001B[1m-> Response: status_code=200, content_length=7146\u001B[0m\n",
      "\u001B[1m[INFO]\u001B[0m | \u001B[32m2023/07/04 17:53:34\u001B[0m | \u001B[1m* Extracted information: {'url': 'https://zero.sci-hub.ru/1397/df49650202dbdac0fa704573191156f5/moshnyaga2000.pdf', 'title': 'Magnetotransport in chemically derived thin films and multilayers of ferromagnetic perovskites. Journal of Magnetism and Magnetic Materials, 211(1-3), 167–172'}\u001B[0m\n"
     ]
    },
    {
     "name": "stdout",
     "output_type": "stream",
     "text": [
      "100% [==================================================] 174314/174314\n"
     ]
    },
    {
     "name": "stderr",
     "output_type": "stream",
     "text": [
      "\u001B[1m[INFO]\u001B[0m | \u001B[32m2023/07/04 17:53:34\u001B[0m | \u001B[1m↓ Successfully download the url to: ./papers/paper_S0304-8853(99)00729-5.pdf\u001B[0m\n",
      " 95%|█████████▌| 19/20 [04:06<00:11, 11.07s/it]\u001B[1m[INFO]\u001B[0m | \u001B[32m2023/07/04 17:53:44\u001B[0m | \u001B[1mChoose scihub url [0]: https://sci-hub.ru\u001B[0m\n",
      "\u001B[1m[INFO]\u001B[0m | \u001B[32m2023/07/04 17:53:44\u001B[0m | \u001B[1m<- Request: scihub_url=https://sci-hub.ru, source=DoiSource[type=doi, id=sci-hub.ru/10.1103/PhysRevB.91.054426], proxies={'http': 'socks5://127.0.0.1:7890'}\u001B[0m\n",
      "\u001B[1m[INFO]\u001B[0m | \u001B[32m2023/07/04 17:53:44\u001B[0m | \u001B[1m-> Response: status_code=200, content_length=7006\u001B[0m\n",
      "\u001B[1m[INFO]\u001B[0m | \u001B[32m2023/07/04 17:53:44\u001B[0m | \u001B[1m* Extracted information: {'url': 'https://zero.sci-hub.ru/3629/8e6f0635d5edb171f85e1e1236cb6f9d/hardy2015.pdf', 'title': 'Very large magnetoresistance inFe0.28TaS2single crystals. Physical Review B, 91(5)'}\u001B[0m\n"
     ]
    },
    {
     "name": "stdout",
     "output_type": "stream",
     "text": [
      "100% [==================================================] 2533039/2533039\n"
     ]
    },
    {
     "name": "stderr",
     "output_type": "stream",
     "text": [
      "\u001B[1m[INFO]\u001B[0m | \u001B[32m2023/07/04 17:53:45\u001B[0m | \u001B[1m↓ Successfully download the url to: ./papers/paper_PhysRevB.91.054426.pdf\u001B[0m\n",
      "100%|██████████| 20/20 [04:16<00:00, 12.85s/it]\n"
     ]
    }
   ],
   "source": [
    "for i in tqdm(df['doi'].sample(20, random_state=111)):\n",
    "    paper_type = \"doi\"\n",
    "    url = 'https://sci-hub.ru/' + i\n",
    "    out = \"./papers/paper_\" + i[8::] + \".pdf\"  # output file path\n",
    "    proxies = {\"http\": \"socks5://127.0.0.1:7890\"}  # optional proxies\n",
    "    time.sleep(10)\n",
    "    scihub_download(url, paper_type=paper_type, out=out, proxies=proxies )"
   ],
   "metadata": {
    "collapsed": false,
    "ExecuteTime": {
     "end_time": "2023-07-04T14:53:45.416928Z",
     "start_time": "2023-07-04T14:49:28.492159Z"
    }
   }
  },
  {
   "cell_type": "code",
   "execution_count": null,
   "outputs": [],
   "source": [],
   "metadata": {
    "collapsed": false
   }
  }
 ],
 "metadata": {
  "kernelspec": {
   "display_name": "Python 3",
   "language": "python",
   "name": "python3"
  },
  "language_info": {
   "codemirror_mode": {
    "name": "ipython",
    "version": 2
   },
   "file_extension": ".py",
   "mimetype": "text/x-python",
   "name": "python",
   "nbconvert_exporter": "python",
   "pygments_lexer": "ipython2",
   "version": "2.7.6"
  }
 },
 "nbformat": 4,
 "nbformat_minor": 0
}
