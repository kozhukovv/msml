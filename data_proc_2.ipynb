{
 "cells": [
  {
   "cell_type": "markdown",
   "source": [
    "# Import"
   ],
   "metadata": {
    "collapsed": false
   }
  },
  {
   "cell_type": "code",
   "execution_count": 18,
   "metadata": {
    "collapsed": true,
    "ExecuteTime": {
     "end_time": "2023-07-04T13:55:57.433313Z",
     "start_time": "2023-07-04T13:55:57.429455Z"
    }
   },
   "outputs": [],
   "source": [
    "from pybliometrics.scopus import ScopusSearch # extract data\n",
    "from scidownl import scihub_download # download data\n",
    "\n",
    "import pandas as pd\n",
    "import time"
   ]
  },
  {
   "cell_type": "markdown",
   "source": [
    "# Parcing"
   ],
   "metadata": {
    "collapsed": false
   }
  },
  {
   "cell_type": "code",
   "execution_count": 3,
   "outputs": [],
   "source": [
    "# Full query\n",
    "#query = '(TITLE-ABS-KEY(MR) OR TITLE-ABS-KEY(GMR) OR TITLE-ABS-KEY(magnetic resistance) OR TITLE-ABS-KEY(magnetic properties) OR TITLE-ABS-KEY(magnetic field)) AND DOCTYPE(ar) AND NOT PUBDATETXT(2023)'"
   ],
   "metadata": {
    "collapsed": false,
    "ExecuteTime": {
     "end_time": "2023-07-04T13:48:45.279053Z",
     "start_time": "2023-07-04T13:48:45.274914Z"
    }
   }
  },
  {
   "cell_type": "code",
   "execution_count": 4,
   "outputs": [],
   "source": [
    "# Limited query\n",
    "query = 'ABS(colossal magnetoresistance) AND DOCTYPE(ar) AND SUBJAREA(MATE) AND NOT PUBDATETXT(2022) AND NOT PUBDATETXT(2023)'"
   ],
   "metadata": {
    "collapsed": false,
    "ExecuteTime": {
     "end_time": "2023-07-04T13:48:46.190109Z",
     "start_time": "2023-07-04T13:48:46.183101Z"
    }
   }
  },
  {
   "cell_type": "code",
   "execution_count": 5,
   "outputs": [],
   "source": [
    "a = ScopusSearch(query, subscriber=False, verbose=True)"
   ],
   "metadata": {
    "collapsed": false,
    "ExecuteTime": {
     "end_time": "2023-07-04T13:48:47.014453Z",
     "start_time": "2023-07-04T13:48:46.991942Z"
    }
   }
  },
  {
   "cell_type": "code",
   "execution_count": 6,
   "outputs": [],
   "source": [
    "df = pd.DataFrame(pd.DataFrame(a.results))"
   ],
   "metadata": {
    "collapsed": false,
    "ExecuteTime": {
     "end_time": "2023-07-04T13:48:48.152903Z",
     "start_time": "2023-07-04T13:48:48.138938Z"
    }
   }
  },
  {
   "cell_type": "markdown",
   "source": [
    "# Preprocessing"
   ],
   "metadata": {
    "collapsed": false
   }
  },
  {
   "cell_type": "code",
   "execution_count": 7,
   "outputs": [
    {
     "name": "stdout",
     "output_type": "stream",
     "text": [
      "<class 'pandas.core.frame.DataFrame'>\n",
      "RangeIndex: 1043 entries, 0 to 1042\n",
      "Data columns (total 36 columns):\n",
      " #   Column               Non-Null Count  Dtype \n",
      "---  ------               --------------  ----- \n",
      " 0   eid                  1043 non-null   object\n",
      " 1   doi                  961 non-null    object\n",
      " 2   pii                  389 non-null    object\n",
      " 3   pubmed_id            27 non-null     object\n",
      " 4   title                1043 non-null   object\n",
      " 5   subtype              1043 non-null   object\n",
      " 6   subtypeDescription   1043 non-null   object\n",
      " 7   creator              1042 non-null   object\n",
      " 8   afid                 0 non-null      object\n",
      " 9   affilname            1039 non-null   object\n",
      " 10  affiliation_city     1039 non-null   object\n",
      " 11  affiliation_country  1039 non-null   object\n",
      " 12  author_count         0 non-null      object\n",
      " 13  author_names         0 non-null      object\n",
      " 14  author_ids           0 non-null      object\n",
      " 15  author_afids         0 non-null      object\n",
      " 16  coverDate            1043 non-null   object\n",
      " 17  coverDisplayDate     1043 non-null   object\n",
      " 18  publicationName      1043 non-null   object\n",
      " 19  issn                 1025 non-null   object\n",
      " 20  source_id            1043 non-null   object\n",
      " 21  eIssn                453 non-null    object\n",
      " 22  aggregationType      1043 non-null   object\n",
      " 23  volume               1041 non-null   object\n",
      " 24  issueIdentifier      943 non-null    object\n",
      " 25  article_number       269 non-null    object\n",
      " 26  pageRange            765 non-null    object\n",
      " 27  description          0 non-null      object\n",
      " 28  authkeywords         0 non-null      object\n",
      " 29  citedby_count        1043 non-null   int64 \n",
      " 30  openaccess           1043 non-null   int64 \n",
      " 31  freetoread           254 non-null    object\n",
      " 32  freetoreadLabel      254 non-null    object\n",
      " 33  fund_acr             0 non-null      object\n",
      " 34  fund_no              0 non-null      object\n",
      " 35  fund_sponsor         0 non-null      object\n",
      "dtypes: int64(2), object(34)\n",
      "memory usage: 293.5+ KB\n"
     ]
    }
   ],
   "source": [
    "df.info()"
   ],
   "metadata": {
    "collapsed": false,
    "ExecuteTime": {
     "end_time": "2023-07-04T13:48:49.431018Z",
     "start_time": "2023-07-04T13:48:49.417820Z"
    }
   }
  },
  {
   "cell_type": "code",
   "execution_count": 8,
   "outputs": [],
   "source": [
    "df = df.dropna(subset=['doi'])"
   ],
   "metadata": {
    "collapsed": false,
    "ExecuteTime": {
     "end_time": "2023-07-04T13:48:50.151792Z",
     "start_time": "2023-07-04T13:48:50.144657Z"
    }
   }
  },
  {
   "cell_type": "code",
   "execution_count": 25,
   "outputs": [
    {
     "name": "stderr",
     "output_type": "stream",
     "text": [
      "  0%|          | 0/20 [00:00<?, ?it/s]\u001B[1m[INFO]\u001B[0m | \u001B[32m2023/07/04 17:03:22\u001B[0m | \u001B[1mChoose scihub url [0]: https://sci-hub.ru\u001B[0m\n",
      "\u001B[1m[INFO]\u001B[0m | \u001B[32m2023/07/04 17:03:22\u001B[0m | \u001B[1m<- Request: scihub_url=https://sci-hub.ru, source=DoiSource[type=doi, id=sci-hub.ru/10.1103/PhysRevB.61.84], proxies={'http': 'socks5://127.0.0.1:7890'}\u001B[0m\n",
      "\u001B[1m[INFO]\u001B[0m | \u001B[32m2023/07/04 17:03:39\u001B[0m | \u001B[1m-> Response: status_code=200, content_length=7050\u001B[0m\n",
      "\u001B[1m[INFO]\u001B[0m | \u001B[32m2023/07/04 17:03:39\u001B[0m | \u001B[1m* Extracted information: {'url': 'https://dacemirror.sci-hub.ru/journal-article/7ca424f8dd59aa3357b4ad657fbdb8bd/yu2000.pdf', 'title': 'Effects of phonon hardening on the polaron transport in colossal magnetoresistive manganites. Physical Review B, 61(1), 84–87'}\u001B[0m\n"
     ]
    },
    {
     "name": "stdout",
     "output_type": "stream",
     "text": [
      "100% [==================================================] 69171/69171\n"
     ]
    },
    {
     "name": "stderr",
     "output_type": "stream",
     "text": [
      "\u001B[1m[INFO]\u001B[0m | \u001B[32m2023/07/04 17:03:39\u001B[0m | \u001B[1m↓ Successfully download the url to: ./papers/paper_PhysRevB.61.84.pdf\u001B[0m\n",
      "  5%|▌         | 1/20 [00:26<08:32, 26.96s/it]\u001B[1m[INFO]\u001B[0m | \u001B[32m2023/07/04 17:03:49\u001B[0m | \u001B[1mChoose scihub url [0]: https://sci-hub.ru\u001B[0m\n",
      "\u001B[1m[INFO]\u001B[0m | \u001B[32m2023/07/04 17:03:49\u001B[0m | \u001B[1m<- Request: scihub_url=https://sci-hub.ru, source=DoiSource[type=doi, id=sci-hub.ru/10.1016/j.jmmm.2006.10.1061], proxies={'http': 'socks5://127.0.0.1:7890'}\u001B[0m\n",
      "\u001B[1m[INFO]\u001B[0m | \u001B[32m2023/07/04 17:04:19\u001B[0m | \u001B[1m-> Response: status_code=200, content_length=7150\u001B[0m\n",
      "\u001B[1m[INFO]\u001B[0m | \u001B[32m2023/07/04 17:04:19\u001B[0m | \u001B[1m* Extracted information: {'url': 'https://dacemirror.sci-hub.ru/journal-article/1afeffd9b6fde1661a51781c2a449e8f/hanh2007.pdf', 'title': 'Large magnetocaloric effect around room temperature in La0.7Ca0.3−xPbxMnO3 perovskites. Journal of Magnetism and Magnetic Materials, 310(2), 2826–2828'}\u001B[0m\n"
     ]
    },
    {
     "name": "stdout",
     "output_type": "stream",
     "text": [
      "100% [==================================================] 260799/260799\n"
     ]
    },
    {
     "name": "stderr",
     "output_type": "stream",
     "text": [
      "\u001B[1m[INFO]\u001B[0m | \u001B[32m2023/07/04 17:04:19\u001B[0m | \u001B[1m↓ Successfully download the url to: ./papers/paper_j.jmmm.2006.10.1061.pdf\u001B[0m\n",
      " 10%|█         | 2/20 [01:07<10:29, 34.96s/it]\u001B[1m[INFO]\u001B[0m | \u001B[32m2023/07/04 17:04:29\u001B[0m | \u001B[1mChoose scihub url [0]: https://sci-hub.ru\u001B[0m\n",
      "\u001B[1m[INFO]\u001B[0m | \u001B[32m2023/07/04 17:04:29\u001B[0m | \u001B[1m<- Request: scihub_url=https://sci-hub.ru, source=DoiSource[type=doi, id=sci-hub.ru/10.1103/PhysRevB.68.132407], proxies={'http': 'socks5://127.0.0.1:7890'}\u001B[0m\n",
      "\u001B[1m[INFO]\u001B[0m | \u001B[32m2023/07/04 17:04:30\u001B[0m | \u001B[1m-> Response: status_code=200, content_length=7040\u001B[0m\n",
      "\u001B[1m[INFO]\u001B[0m | \u001B[32m2023/07/04 17:04:30\u001B[0m | \u001B[1m* Extracted information: {'url': 'https://zero.sci-hub.ru/3359/2561e6d31ddce22e3c64ffb390976ba7/chen2003.pdf', 'title': 'Percolative metal-insulator transition inLa0.9Sr0.1MnO3ultrathin films by resistive relaxation. Physical Review B, 68(13)'}\u001B[0m\n"
     ]
    },
    {
     "name": "stdout",
     "output_type": "stream",
     "text": [
      "100% [==================================================] 495578/495578\n"
     ]
    },
    {
     "name": "stderr",
     "output_type": "stream",
     "text": [
      "\u001B[1m[INFO]\u001B[0m | \u001B[32m2023/07/04 17:04:30\u001B[0m | \u001B[1m↓ Successfully download the url to: ./papers/paper_PhysRevB.68.132407.pdf\u001B[0m\n",
      " 15%|█▌        | 3/20 [01:18<06:47, 23.97s/it]\u001B[1m[INFO]\u001B[0m | \u001B[32m2023/07/04 17:04:40\u001B[0m | \u001B[1mChoose scihub url [0]: https://sci-hub.ru\u001B[0m\n",
      "\u001B[1m[INFO]\u001B[0m | \u001B[32m2023/07/04 17:04:40\u001B[0m | \u001B[1m<- Request: scihub_url=https://sci-hub.ru, source=DoiSource[type=doi, id=sci-hub.ru/10.1016/S0038-1098(96)00533-9], proxies={'http': 'socks5://127.0.0.1:7890'}\u001B[0m\n",
      "\u001B[1m[INFO]\u001B[0m | \u001B[32m2023/07/04 17:04:41\u001B[0m | \u001B[1m-> Response: status_code=200, content_length=7141\u001B[0m\n",
      "\u001B[1m[INFO]\u001B[0m | \u001B[32m2023/07/04 17:04:41\u001B[0m | \u001B[1m* Extracted information: {'url': 'https://dacemirror.sci-hub.ru/journal-article/a12847215eeb6baaa066e1cb608b420e/maignan1997.pdf', 'title': 'A monoclinic manganite, La0.9MnO3−δ, with colossal magnetoresistance properties near room temperature. Solid State Communications, 101(4), 277–281'}\u001B[0m\n"
     ]
    },
    {
     "name": "stdout",
     "output_type": "stream",
     "text": [
      "100% [==================================================] 454965/454965\n"
     ]
    },
    {
     "name": "stderr",
     "output_type": "stream",
     "text": [
      "\u001B[1m[INFO]\u001B[0m | \u001B[32m2023/07/04 17:04:42\u001B[0m | \u001B[1m↓ Successfully download the url to: ./papers/paper_S0038-1098(96)00533-9.pdf\u001B[0m\n",
      " 20%|██        | 4/20 [01:30<05:06, 19.16s/it]\u001B[1m[INFO]\u001B[0m | \u001B[32m2023/07/04 17:04:52\u001B[0m | \u001B[1mChoose scihub url [0]: https://sci-hub.ru\u001B[0m\n",
      "\u001B[1m[INFO]\u001B[0m | \u001B[32m2023/07/04 17:04:52\u001B[0m | \u001B[1m<- Request: scihub_url=https://sci-hub.ru, source=DoiSource[type=doi, id=sci-hub.ru/10.1103/PhysRevB.72.104403], proxies={'http': 'socks5://127.0.0.1:7890'}\u001B[0m\n",
      "\u001B[1m[INFO]\u001B[0m | \u001B[32m2023/07/04 17:04:53\u001B[0m | \u001B[1m-> Response: status_code=200, content_length=7115\u001B[0m\n",
      "\u001B[1m[INFO]\u001B[0m | \u001B[32m2023/07/04 17:04:53\u001B[0m | \u001B[1m* Extracted information: {'url': 'https://zero.sci-hub.ru/2272/85b21d0233699ec4f204c0f1ddf9184d/chen2005.pdf', 'title': 'Metal-insulator transition above room temperature in maximum colossal magnetoresistance manganite thin films. Physical Review B, 72(10)'}\u001B[0m\n"
     ]
    },
    {
     "name": "stdout",
     "output_type": "stream",
     "text": [
      "100% [==================================================] 499659/499659\n"
     ]
    },
    {
     "name": "stderr",
     "output_type": "stream",
     "text": [
      "\u001B[1m[INFO]\u001B[0m | \u001B[32m2023/07/04 17:04:53\u001B[0m | \u001B[1m↓ Successfully download the url to: ./papers/paper_PhysRevB.72.104403.pdf\u001B[0m\n",
      " 25%|██▌       | 5/20 [01:41<04:05, 16.35s/it]\u001B[1m[INFO]\u001B[0m | \u001B[32m2023/07/04 17:05:03\u001B[0m | \u001B[1mChoose scihub url [0]: https://sci-hub.ru\u001B[0m\n",
      "\u001B[1m[INFO]\u001B[0m | \u001B[32m2023/07/04 17:05:03\u001B[0m | \u001B[1m<- Request: scihub_url=https://sci-hub.ru, source=DoiSource[type=doi, id=sci-hub.ru/10.1016/j.ssc.2006.09.054], proxies={'http': 'socks5://127.0.0.1:7890'}\u001B[0m\n",
      "\u001B[1m[INFO]\u001B[0m | \u001B[32m2023/07/04 17:05:04\u001B[0m | \u001B[1m-> Response: status_code=200, content_length=7044\u001B[0m\n",
      "\u001B[1m[INFO]\u001B[0m | \u001B[32m2023/07/04 17:05:04\u001B[0m | \u001B[1m* Extracted information: {'url': 'https://zero.sci-hub.ru/386/112fb5f8d41c81130313a67754b69bc8/venkataiah2007.pdf', 'title': 'Anomalous variation of magnetoresistance in Nd0.67−yEuySr0.33MnO3 manganites. Solid State Communications, 141(2), 73–78'}\u001B[0m\n"
     ]
    },
    {
     "name": "stdout",
     "output_type": "stream",
     "text": [
      "100% [==================================================] 932749/932749\n"
     ]
    },
    {
     "name": "stderr",
     "output_type": "stream",
     "text": [
      "\u001B[1m[INFO]\u001B[0m | \u001B[32m2023/07/04 17:05:04\u001B[0m | \u001B[1m↓ Successfully download the url to: ./papers/paper_j.ssc.2006.09.054.pdf\u001B[0m\n",
      " 30%|███       | 6/20 [01:52<03:22, 14.47s/it]\u001B[1m[INFO]\u001B[0m | \u001B[32m2023/07/04 17:05:14\u001B[0m | \u001B[1mChoose scihub url [0]: https://sci-hub.ru\u001B[0m\n",
      "\u001B[1m[INFO]\u001B[0m | \u001B[32m2023/07/04 17:05:14\u001B[0m | \u001B[1m<- Request: scihub_url=https://sci-hub.ru, source=DoiSource[type=doi, id=sci-hub.ru/10.1088/0022-3727/41/16/164005], proxies={'http': 'socks5://127.0.0.1:7890'}\u001B[0m\n",
      "\u001B[1m[INFO]\u001B[0m | \u001B[32m2023/07/04 17:05:15\u001B[0m | \u001B[1m-> Response: status_code=200, content_length=7097\u001B[0m\n",
      "\u001B[1m[INFO]\u001B[0m | \u001B[32m2023/07/04 17:05:15\u001B[0m | \u001B[1m* Extracted information: {'url': 'https://moscow.sci-hub.ru/3952/76f4db210cefb320dfa0b93db0e02172/fiebig2008.pdf', 'title': 'Ultrafast magnetization dynamics of antiferromagnetic compounds. Journal of Physics D  Applied Physics, 41(16), 164005'}\u001B[0m\n"
     ]
    },
    {
     "name": "stdout",
     "output_type": "stream",
     "text": [
      "100% [==================================================] 320280/320280\n"
     ]
    },
    {
     "name": "stderr",
     "output_type": "stream",
     "text": [
      "\u001B[1m[INFO]\u001B[0m | \u001B[32m2023/07/04 17:05:15\u001B[0m | \u001B[1m↓ Successfully download the url to: ./papers/paper_0022-3727/41/16/164005.pdf\u001B[0m\n",
      " 35%|███▌      | 7/20 [02:03<02:53, 13.37s/it]\u001B[1m[INFO]\u001B[0m | \u001B[32m2023/07/04 17:05:25\u001B[0m | \u001B[1mChoose scihub url [0]: https://sci-hub.ru\u001B[0m\n",
      "\u001B[1m[INFO]\u001B[0m | \u001B[32m2023/07/04 17:05:25\u001B[0m | \u001B[1m<- Request: scihub_url=https://sci-hub.ru, source=DoiSource[type=doi, id=sci-hub.ru/10.1088/0022-3727/35/1/309], proxies={'http': 'socks5://127.0.0.1:7890'}\u001B[0m\n",
      "\u001B[1m[INFO]\u001B[0m | \u001B[32m2023/07/04 17:05:26\u001B[0m | \u001B[1m-> Response: status_code=200, content_length=7024\u001B[0m\n",
      "\u001B[1m[INFO]\u001B[0m | \u001B[32m2023/07/04 17:05:26\u001B[0m | \u001B[1m* Extracted information: {'url': 'https://moscow.sci-hub.ru/4518/2d26da322ff3652662d374123d304645/kuivalainen2001.pdf', 'title': 'Magnetotransport in ferromagnetic resonant tunnelling diodes. Journal of Physics D  Applied Physics, 35(1), 48–54'}\u001B[0m\n"
     ]
    },
    {
     "name": "stdout",
     "output_type": "stream",
     "text": [
      "100% [==================================================] 129156/129156\n"
     ]
    },
    {
     "name": "stderr",
     "output_type": "stream",
     "text": [
      "\u001B[1m[INFO]\u001B[0m | \u001B[32m2023/07/04 17:05:26\u001B[0m | \u001B[1m↓ Successfully download the url to: ./papers/paper_0022-3727/35/1/309.pdf\u001B[0m\n",
      " 40%|████      | 8/20 [02:14<02:30, 12.56s/it]\u001B[1m[INFO]\u001B[0m | \u001B[32m2023/07/04 17:05:36\u001B[0m | \u001B[1mChoose scihub url [0]: https://sci-hub.ru\u001B[0m\n",
      "\u001B[1m[INFO]\u001B[0m | \u001B[32m2023/07/04 17:05:36\u001B[0m | \u001B[1m<- Request: scihub_url=https://sci-hub.ru, source=DoiSource[type=doi, id=sci-hub.ru/10.1103/PhysRevB.65.014422], proxies={'http': 'socks5://127.0.0.1:7890'}\u001B[0m\n",
      "\u001B[1m[INFO]\u001B[0m | \u001B[32m2023/07/04 17:05:36\u001B[0m | \u001B[1m-> Response: status_code=200, content_length=6975\u001B[0m\n",
      "\u001B[1m[INFO]\u001B[0m | \u001B[32m2023/07/04 17:05:37\u001B[0m | \u001B[1m* Extracted information: {'url': 'https://moscow.sci-hub.ru/3288/f8589d1b9e47dc8dccec1295d79934c4/ventura2001.pdf', 'title': 'Generic model of the colossal magnetoresistance pyrochloreTl2Mn2O7. Physical Review B, 65(1)'}\u001B[0m\n"
     ]
    },
    {
     "name": "stdout",
     "output_type": "stream",
     "text": [
      "100% [==================================================] 102141/102141\n"
     ]
    },
    {
     "name": "stderr",
     "output_type": "stream",
     "text": [
      "\u001B[1m[INFO]\u001B[0m | \u001B[32m2023/07/04 17:05:37\u001B[0m | \u001B[1m↓ Successfully download the url to: ./papers/paper_PhysRevB.65.014422.pdf\u001B[0m\n",
      " 45%|████▌     | 9/20 [02:24<02:11, 11.96s/it]\u001B[1m[INFO]\u001B[0m | \u001B[32m2023/07/04 17:05:47\u001B[0m | \u001B[1mChoose scihub url [0]: https://sci-hub.ru\u001B[0m\n",
      "\u001B[1m[INFO]\u001B[0m | \u001B[32m2023/07/04 17:05:47\u001B[0m | \u001B[1m<- Request: scihub_url=https://sci-hub.ru, source=DoiSource[type=doi, id=sci-hub.ru/10.1007/BF02914660], proxies={'http': 'socks5://127.0.0.1:7890'}\u001B[0m\n",
      "\u001B[1m[INFO]\u001B[0m | \u001B[32m2023/07/04 17:05:47\u001B[0m | \u001B[1m-> Response: status_code=200, content_length=6875\u001B[0m\n",
      "\u001B[1m[INFO]\u001B[0m | \u001B[32m2023/07/04 17:05:47\u001B[0m | \u001B[1m* Extracted information: {'url': 'https://moscow.sci-hub.ru/703/383e5520cf1036cfb9aba29176f74608/jin1997.pdf', 'title': 'Field-induced conductivity changes in CMR manganites. JOM, 49(3), 61–63'}\u001B[0m\n"
     ]
    },
    {
     "name": "stdout",
     "output_type": "stream",
     "text": [
      "100% [==================================================] 458303/458303\n"
     ]
    },
    {
     "name": "stderr",
     "output_type": "stream",
     "text": [
      "\u001B[1m[INFO]\u001B[0m | \u001B[32m2023/07/04 17:05:48\u001B[0m | \u001B[1m↓ Successfully download the url to: ./papers/paper_BF02914660.pdf\u001B[0m\n",
      " 50%|█████     | 10/20 [02:35<01:56, 11.64s/it]\u001B[1m[INFO]\u001B[0m | \u001B[32m2023/07/04 17:05:58\u001B[0m | \u001B[1mChoose scihub url [0]: https://sci-hub.ru\u001B[0m\n",
      "\u001B[1m[INFO]\u001B[0m | \u001B[32m2023/07/04 17:05:58\u001B[0m | \u001B[1m<- Request: scihub_url=https://sci-hub.ru, source=DoiSource[type=doi, id=sci-hub.ru/10.1088/0953-8984/20/43/434229], proxies={'http': 'socks5://127.0.0.1:7890'}\u001B[0m\n",
      "\u001B[1m[INFO]\u001B[0m | \u001B[32m2023/07/04 17:05:58\u001B[0m | \u001B[1m-> Response: status_code=200, content_length=7037\u001B[0m\n",
      "\u001B[1m[INFO]\u001B[0m | \u001B[32m2023/07/04 17:05:58\u001B[0m | \u001B[1m* Extracted information: {'url': 'https://moscow.sci-hub.ru/4463/039aca45da3f02ce67d56185c098dbcd/ortix2008.pdf', 'title': 'Coarse grained models in Coulomb frustrated phase separation. Journal of Physics  Condensed Matter, 20(43), 434229'}\u001B[0m\n"
     ]
    },
    {
     "name": "stdout",
     "output_type": "stream",
     "text": [
      "100% [==================================================] 397504/397504\n"
     ]
    },
    {
     "name": "stderr",
     "output_type": "stream",
     "text": [
      "\u001B[1m[INFO]\u001B[0m | \u001B[32m2023/07/04 17:05:59\u001B[0m | \u001B[1m↓ Successfully download the url to: ./papers/paper_0953-8984/20/43/434229.pdf\u001B[0m\n",
      " 55%|█████▌    | 11/20 [02:46<01:42, 11.43s/it]\u001B[1m[INFO]\u001B[0m | \u001B[32m2023/07/04 17:06:09\u001B[0m | \u001B[1mChoose scihub url [0]: https://sci-hub.ru\u001B[0m\n",
      "\u001B[1m[INFO]\u001B[0m | \u001B[32m2023/07/04 17:06:09\u001B[0m | \u001B[1m<- Request: scihub_url=https://sci-hub.ru, source=DoiSource[type=doi, id=sci-hub.ru/10.1103/PhysRevB.66.214409], proxies={'http': 'socks5://127.0.0.1:7890'}\u001B[0m\n",
      "\u001B[1m[INFO]\u001B[0m | \u001B[32m2023/07/04 17:06:09\u001B[0m | \u001B[1m-> Response: status_code=200, content_length=7032\u001B[0m\n",
      "\u001B[1m[INFO]\u001B[0m | \u001B[32m2023/07/04 17:06:09\u001B[0m | \u001B[1m* Extracted information: {'url': 'https://moscow.sci-hub.ru/3293/fc1510cd0ad71554086824f21cc278c6/nagaev2002.pdf', 'title': 'Resistivity extrema in double-exchange ferromagnetic nondegenerate semiconductors. Physical Review B, 66(21)'}\u001B[0m\n"
     ]
    },
    {
     "name": "stdout",
     "output_type": "stream",
     "text": [
      "100% [==================================================] 79648/79648\n"
     ]
    },
    {
     "name": "stderr",
     "output_type": "stream",
     "text": [
      "\u001B[1m[INFO]\u001B[0m | \u001B[32m2023/07/04 17:06:09\u001B[0m | \u001B[1m↓ Successfully download the url to: ./papers/paper_PhysRevB.66.214409.pdf\u001B[0m\n",
      " 60%|██████    | 12/20 [02:57<01:29, 11.24s/it]\u001B[1m[INFO]\u001B[0m | \u001B[32m2023/07/04 17:06:20\u001B[0m | \u001B[1mChoose scihub url [0]: https://sci-hub.ru\u001B[0m\n",
      "\u001B[1m[INFO]\u001B[0m | \u001B[32m2023/07/04 17:06:20\u001B[0m | \u001B[1m<- Request: scihub_url=https://sci-hub.ru, source=DoiSource[type=doi, id=sci-hub.ru/10.1021/nl061253e], proxies={'http': 'socks5://127.0.0.1:7890'}\u001B[0m\n",
      "\u001B[1m[INFO]\u001B[0m | \u001B[32m2023/07/04 17:06:20\u001B[0m | \u001B[1m-> Response: status_code=200, content_length=7017\u001B[0m\n",
      "\u001B[1m[INFO]\u001B[0m | \u001B[32m2023/07/04 17:06:20\u001B[0m | \u001B[1m* Extracted information: {'url': 'https://zero.sci-hub.ru/2670/2b9621d2884010468ea79a5c3a3fde09/liu2006.pdf', 'title': 'Composite-Hydroxide-Mediated Approach for the Synthesis of Nanostructures of Complex Functional-Oxides. Nano Letters, 6(7), 1535–1540'}\u001B[0m\n"
     ]
    },
    {
     "name": "stdout",
     "output_type": "stream",
     "text": [
      "100% [==================================================] 666268/666268\n"
     ]
    },
    {
     "name": "stderr",
     "output_type": "stream",
     "text": [
      "\u001B[1m[INFO]\u001B[0m | \u001B[32m2023/07/04 17:06:20\u001B[0m | \u001B[1m↓ Successfully download the url to: ./papers/paper_nl061253e.pdf\u001B[0m\n",
      " 65%|██████▌   | 13/20 [03:08<01:17, 11.14s/it]\u001B[1m[INFO]\u001B[0m | \u001B[32m2023/07/04 17:06:30\u001B[0m | \u001B[1mChoose scihub url [0]: https://sci-hub.ru\u001B[0m\n",
      "\u001B[1m[INFO]\u001B[0m | \u001B[32m2023/07/04 17:06:30\u001B[0m | \u001B[1m<- Request: scihub_url=https://sci-hub.ru, source=DoiSource[type=doi, id=sci-hub.ru/10.1103/PhysRevB.57.5259], proxies={'http': 'socks5://127.0.0.1:7890'}\u001B[0m\n",
      "\u001B[1m[INFO]\u001B[0m | \u001B[32m2023/07/04 17:06:31\u001B[0m | \u001B[1m-> Response: status_code=200, content_length=7026\u001B[0m\n",
      "\u001B[1m[INFO]\u001B[0m | \u001B[32m2023/07/04 17:06:31\u001B[0m | \u001B[1m* Extracted information: {'url': 'https://moscow.sci-hub.ru/2638/99a1c569b64ae8ac8569965488b40f9a/tokunaga1998.pdf', 'title': 'High-magnetic-field study of the phase transitions ofR1−xCaxMnO3(R=Pr,Nd). Physical Review B, 57(9), 5259–5264'}\u001B[0m\n"
     ]
    },
    {
     "name": "stdout",
     "output_type": "stream",
     "text": [
      "100% [==================================================] 159840/159840\n"
     ]
    },
    {
     "name": "stderr",
     "output_type": "stream",
     "text": [
      "\u001B[1m[INFO]\u001B[0m | \u001B[32m2023/07/04 17:06:31\u001B[0m | \u001B[1m↓ Successfully download the url to: ./papers/paper_PhysRevB.57.5259.pdf\u001B[0m\n",
      " 70%|███████   | 14/20 [03:19<01:06, 11.05s/it]\u001B[1m[INFO]\u001B[0m | \u001B[32m2023/07/04 17:06:41\u001B[0m | \u001B[1mChoose scihub url [0]: https://sci-hub.ru\u001B[0m\n",
      "\u001B[1m[INFO]\u001B[0m | \u001B[32m2023/07/04 17:06:41\u001B[0m | \u001B[1m<- Request: scihub_url=https://sci-hub.ru, source=DoiSource[type=doi, id=sci-hub.ru/10.1016/S0921-4526(99)02957-9], proxies={'http': 'socks5://127.0.0.1:7890'}\u001B[0m\n",
      "\u001B[1m[INFO]\u001B[0m | \u001B[32m2023/07/04 17:06:42\u001B[0m | \u001B[1m-> Response: status_code=200, content_length=7203\u001B[0m\n",
      "\u001B[1m[INFO]\u001B[0m | \u001B[32m2023/07/04 17:06:42\u001B[0m | \u001B[1m* Extracted information: {'url': 'https://dacemirror.sci-hub.ru/journal-article/b2ba327b4b4bfcfe4d79ae9ecc0f215e/belevtsev2000.pdf', 'title': 'Anisotropic magnetoresistive properties of La1−xCaxMnO3 film at temperatures far below the Curie temperature. Physica B  Condensed Matter, 284-288, 1988–1989'}\u001B[0m\n"
     ]
    },
    {
     "name": "stdout",
     "output_type": "stream",
     "text": [
      "100% [==================================================] 85978/85978\n"
     ]
    },
    {
     "name": "stderr",
     "output_type": "stream",
     "text": [
      "\u001B[1m[INFO]\u001B[0m | \u001B[32m2023/07/04 17:06:42\u001B[0m | \u001B[1m↓ Successfully download the url to: ./papers/paper_S0921-4526(99)02957-9.pdf\u001B[0m\n",
      " 75%|███████▌  | 15/20 [03:30<00:55, 11.10s/it]\u001B[1m[INFO]\u001B[0m | \u001B[32m2023/07/04 17:06:52\u001B[0m | \u001B[1mChoose scihub url [0]: https://sci-hub.ru\u001B[0m\n",
      "\u001B[1m[INFO]\u001B[0m | \u001B[32m2023/07/04 17:06:52\u001B[0m | \u001B[1m<- Request: scihub_url=https://sci-hub.ru, source=DoiSource[type=doi, id=sci-hub.ru/10.1103/PhysRevB.80.014525], proxies={'http': 'socks5://127.0.0.1:7890'}\u001B[0m\n",
      "\u001B[1m[INFO]\u001B[0m | \u001B[32m2023/07/04 17:06:53\u001B[0m | \u001B[1m-> Response: status_code=200, content_length=7030\u001B[0m\n",
      "\u001B[1m[INFO]\u001B[0m | \u001B[32m2023/07/04 17:06:53\u001B[0m | \u001B[1m* Extracted information: {'url': 'https://zero.sci-hub.ru/3270/d9c130b80d80d5c3cf018ace20eee409/fernando2009.pdf', 'title': 'Pairing in bipartite and nonbipartite repulsive Hubbard clusters  Octahedron. Physical Review B, 80(1)'}\u001B[0m\n"
     ]
    },
    {
     "name": "stdout",
     "output_type": "stream",
     "text": [
      "100% [==================================================] 416849/416849\n"
     ]
    },
    {
     "name": "stderr",
     "output_type": "stream",
     "text": [
      "\u001B[1m[INFO]\u001B[0m | \u001B[32m2023/07/04 17:06:54\u001B[0m | \u001B[1m↓ Successfully download the url to: ./papers/paper_PhysRevB.80.014525.pdf\u001B[0m\n",
      " 80%|████████  | 16/20 [03:42<00:44, 11.20s/it]\u001B[1m[INFO]\u001B[0m | \u001B[32m2023/07/04 17:07:04\u001B[0m | \u001B[1mChoose scihub url [0]: https://sci-hub.ru\u001B[0m\n",
      "\u001B[1m[INFO]\u001B[0m | \u001B[32m2023/07/04 17:07:04\u001B[0m | \u001B[1m<- Request: scihub_url=https://sci-hub.ru, source=DoiSource[type=doi, id=sci-hub.ru/10.1103/PhysRevB.89.024416], proxies={'http': 'socks5://127.0.0.1:7890'}\u001B[0m\n",
      "\u001B[1m[INFO]\u001B[0m | \u001B[32m2023/07/04 17:07:04\u001B[0m | \u001B[1m-> Response: status_code=200, content_length=7013\u001B[0m\n",
      "\u001B[1m[INFO]\u001B[0m | \u001B[32m2023/07/04 17:07:04\u001B[0m | \u001B[1m* Extracted information: {'url': 'https://zero.sci-hub.ru/2270/62677e7fafc8b88c76f105c040eaa3e0/sakurai2014.pdf', 'title': 'Magnetic and electronic properties ofCa1−xNaxCr2O4  Double-exchange interactions and ligand holes. Physical Review B, 89(2)'}\u001B[0m\n"
     ]
    },
    {
     "name": "stdout",
     "output_type": "stream",
     "text": [
      "100% [==================================================] 943932/943932\n"
     ]
    },
    {
     "name": "stderr",
     "output_type": "stream",
     "text": [
      "\u001B[1m[INFO]\u001B[0m | \u001B[32m2023/07/04 17:07:05\u001B[0m | \u001B[1m↓ Successfully download the url to: ./papers/paper_PhysRevB.89.024416.pdf\u001B[0m\n",
      " 85%|████████▌ | 17/20 [03:53<00:33, 11.20s/it]\u001B[1m[INFO]\u001B[0m | \u001B[32m2023/07/04 17:07:15\u001B[0m | \u001B[1mChoose scihub url [0]: https://sci-hub.ru\u001B[0m\n",
      "\u001B[1m[INFO]\u001B[0m | \u001B[32m2023/07/04 17:07:15\u001B[0m | \u001B[1m<- Request: scihub_url=https://sci-hub.ru, source=DoiSource[type=doi, id=sci-hub.ru/10.1016/j.jallcom.2017.05.231], proxies={'http': 'socks5://127.0.0.1:7890'}\u001B[0m\n",
      "\u001B[1m[INFO]\u001B[0m | \u001B[32m2023/07/04 17:07:15\u001B[0m | \u001B[1m-> Response: status_code=200, content_length=7127\u001B[0m\n",
      "\u001B[1m[INFO]\u001B[0m | \u001B[32m2023/07/04 17:07:15\u001B[0m | \u001B[1m* Extracted information: {'url': 'https://dacemirror.sci-hub.ru/journal-article/b165c5f9547e7fa0b2a8333caef22d18/beiranvand2017.pdf', 'title': 'Electronic and magnetic phase diagram of polycrystalline Gd 1−x Ca x MnO 3  manganites. Journal of Alloys and Compounds, 720, 126–130'}\u001B[0m\n"
     ]
    },
    {
     "name": "stdout",
     "output_type": "stream",
     "text": [
      "100% [==================================================] 2538121/2538121\n"
     ]
    },
    {
     "name": "stderr",
     "output_type": "stream",
     "text": [
      "\u001B[1m[INFO]\u001B[0m | \u001B[32m2023/07/04 17:07:17\u001B[0m | \u001B[1m↓ Successfully download the url to: ./papers/paper_j.jallcom.2017.05.231.pdf\u001B[0m\n",
      " 90%|█████████ | 18/20 [04:05<00:22, 11.48s/it]\u001B[1m[INFO]\u001B[0m | \u001B[32m2023/07/04 17:07:27\u001B[0m | \u001B[1mChoose scihub url [0]: https://sci-hub.ru\u001B[0m\n",
      "\u001B[1m[INFO]\u001B[0m | \u001B[32m2023/07/04 17:07:27\u001B[0m | \u001B[1m<- Request: scihub_url=https://sci-hub.ru, source=DoiSource[type=doi, id=sci-hub.ru/10.1021/acsami.1c18848], proxies={'http': 'socks5://127.0.0.1:7890'}\u001B[0m\n",
      "\u001B[1m[INFO]\u001B[0m | \u001B[32m2023/07/04 17:07:28\u001B[0m | \u001B[1m-> Response: status_code=200, content_length=6638\u001B[0m\n",
      "\u001B[1m[INFO]\u001B[0m | \u001B[32m2023/07/04 17:07:28\u001B[0m | \u001B[1m* Extracted information: {'url': 'https://sci-hub.ru/downloads/2022-11-04/6511/zhang2021.pdf', 'title': ''}\u001B[0m\n"
     ]
    },
    {
     "name": "stdout",
     "output_type": "stream",
     "text": [
      "100% [==================================================] 146/146\n"
     ]
    },
    {
     "name": "stderr",
     "output_type": "stream",
     "text": [
      "\u001B[1m[INFO]\u001B[0m | \u001B[32m2023/07/04 17:07:28\u001B[0m | \u001B[1m↓ Successfully download the url to: ./papers/paper_acsami.1c18848.pdf\u001B[0m\n",
      " 95%|█████████▌| 19/20 [04:15<00:11, 11.18s/it]\u001B[1m[INFO]\u001B[0m | \u001B[32m2023/07/04 17:07:38\u001B[0m | \u001B[1mChoose scihub url [0]: https://sci-hub.ru\u001B[0m\n",
      "\u001B[1m[INFO]\u001B[0m | \u001B[32m2023/07/04 17:07:38\u001B[0m | \u001B[1m<- Request: scihub_url=https://sci-hub.ru, source=DoiSource[type=doi, id=sci-hub.ru/10.1016/S0921-4534(97)00807-1], proxies={'http': 'socks5://127.0.0.1:7890'}\u001B[0m\n",
      "\u001B[1m[INFO]\u001B[0m | \u001B[32m2023/07/04 17:07:38\u001B[0m | \u001B[1m-> Response: status_code=200, content_length=7117\u001B[0m\n",
      "\u001B[1m[INFO]\u001B[0m | \u001B[32m2023/07/04 17:07:38\u001B[0m | \u001B[1m* Extracted information: {'url': 'https://zero.sci-hub.ru/474/83c65820a482022283296dfaf65829a2/zhang1997.pdf', 'title': 'Enhanced magnetoresistance in La\\ue5f8Ca\\ue5f8Mn\\ue5f8O films on Si substrates using YBaCuO CeO2 heterostructures. Physica C  Superconductivity, 282-287, 1231–1232'}\u001B[0m\n"
     ]
    },
    {
     "name": "stdout",
     "output_type": "stream",
     "text": [
      "100% [==================================================] 133640/133640\n"
     ]
    },
    {
     "name": "stderr",
     "output_type": "stream",
     "text": [
      "\u001B[1m[INFO]\u001B[0m | \u001B[32m2023/07/04 17:07:39\u001B[0m | \u001B[1m↓ Successfully download the url to: ./papers/paper_S0921-4534(97)00807-1.pdf\u001B[0m\n",
      "100%|██████████| 20/20 [04:26<00:00, 13.34s/it]\n"
     ]
    }
   ],
   "source": [
    "\n"
   ],
   "metadata": {
    "collapsed": false,
    "ExecuteTime": {
     "end_time": "2023-07-04T14:07:39.090620Z",
     "start_time": "2023-07-04T14:03:12.354262Z"
    }
   }
  },
  {
   "cell_type": "code",
   "execution_count": 25,
   "outputs": [],
   "source": [
    "paper_type = \"doi\"\n",
    "\n",
    "for i in df['doi'].sample(20):\n",
    "    url = 'https://sci-hub.ru/' + i\n",
    "    out = \"./papers\" + i[8::] + \".pdf\"  # output file path\n",
    "    #proxies = {\"http\": \"socks5://127.0.0.1:7890\"}  # optional proxies\n",
    "    #print(url)"
   ],
   "metadata": {
    "collapsed": false,
    "ExecuteTime": {
     "end_time": "2023-07-04T14:07:39.107445Z",
     "start_time": "2023-07-04T14:07:39.061569Z"
    }
   }
  },
  {
   "cell_type": "code",
   "execution_count": 25,
   "outputs": [],
   "source": [
    "time.sleep(2.5)\n",
    "paper = \"https://doi.org/10.1016/j.jallcom.2023.170346\" # example paper DOI\n",
    "paper_type = \"doi\"\n",
    "out = \"./paper.pdf\"  # output file path\n",
    "proxies = {\"http\": \"socks5://127.0.0.1:7890\"}  # optional proxies\n",
    "\n",
    "a = scihub_download(paper, paper_type=paper_type, out=out, proxies=proxies, )\n"
   ],
   "metadata": {
    "collapsed": false,
    "ExecuteTime": {
     "end_time": "2023-07-04T14:07:39.108273Z",
     "start_time": "2023-07-04T14:07:39.069918Z"
    }
   }
  },
  {
   "cell_type": "code",
   "execution_count": null,
   "outputs": [],
   "source": [],
   "metadata": {
    "collapsed": false
   }
  }
 ],
 "metadata": {
  "kernelspec": {
   "display_name": "Python 3",
   "language": "python",
   "name": "python3"
  },
  "language_info": {
   "codemirror_mode": {
    "name": "ipython",
    "version": 2
   },
   "file_extension": ".py",
   "mimetype": "text/x-python",
   "name": "python",
   "nbconvert_exporter": "python",
   "pygments_lexer": "ipython2",
   "version": "2.7.6"
  }
 },
 "nbformat": 4,
 "nbformat_minor": 0
}
